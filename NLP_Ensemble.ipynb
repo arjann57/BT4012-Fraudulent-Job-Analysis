{
  "cells": [
    {
      "cell_type": "markdown",
      "metadata": {
        "id": "LTTHpwfQm4f3"
      },
      "source": [
        "# NLP Ensemble approach\n",
        "By Group 16\n",
        "\n",
        "First Level: Multinomial Bayes model <br>\n",
        "Second level: Support Vector Machine\n",
        "\n",
        "I first experimented with how to feed the data into the first level of models.  I tried to see if the BOW MultinomialNB models or TF-IDF MultinomialNB models performed better.  I also tried to see if processing the words lead to better results.\n",
        "\n",
        "At the second level, I tried Random Forest Classification, Support Vector Machine and Logistic Regression.  I went with  SVM in the end.\n",
        "\n"
      ]
    },
    {
      "cell_type": "code",
      "execution_count": null,
      "metadata": {
        "colab": {
          "base_uri": "https://localhost:8080/"
        },
        "id": "f3JwNT9vXna7",
        "outputId": "73bd5b12-1aee-4e13-ffd8-e782df5876e4"
      },
      "outputs": [
        {
          "name": "stderr",
          "output_type": "stream",
          "text": [
            "[nltk_data] Downloading package stopwords to /root/nltk_data...\n",
            "[nltk_data]   Package stopwords is already up-to-date!\n"
          ]
        }
      ],
      "source": [
        "import re\n",
        "import string\n",
        "import numpy as np\n",
        "import pandas as pd \n",
        "import random\n",
        "import matplotlib.pyplot as plt\n",
        "import seaborn as sns\n",
        "from sklearn.feature_extraction.text import TfidfVectorizer, CountVectorizer\n",
        "from sklearn.model_selection import train_test_split\n",
        "from sklearn.pipeline import Pipeline\n",
        "from sklearn.base import TransformerMixin\n",
        "from sklearn.metrics import accuracy_score, plot_confusion_matrix, classification_report, confusion_matrix\n",
        "from sklearn.metrics import accuracy_score, precision_score, recall_score, f1_score, roc_auc_score, confusion_matrix, plot_roc_curve,roc_curve\n",
        "import spacy\n",
        "from spacy.lang.en.stop_words import STOP_WORDS\n",
        "from spacy.lang.en import English\n",
        "import nltk\n",
        "nltk.download('stopwords')\n",
        "from nltk.corpus import wordnet, stopwords"
      ]
    },
    {
      "cell_type": "code",
      "execution_count": null,
      "metadata": {
        "colab": {
          "base_uri": "https://localhost:8080/"
        },
        "id": "vjVz5We-gI3O",
        "outputId": "98df477d-621f-406a-82b9-48e3e6058f71"
      },
      "outputs": [
        {
          "name": "stdout",
          "output_type": "stream",
          "text": [
            "Drive already mounted at /content/drive; to attempt to forcibly remount, call drive.mount(\"/content/drive\", force_remount=True).\n"
          ]
        }
      ],
      "source": [
        "df=pd.read_csv('fake_job_postings.csv')"
      ]
    },
    {
      "cell_type": "code",
      "execution_count": null,
      "metadata": {
        "id": "jQDfX1bsYRZv"
      },
      "outputs": [],
      "source": [
        "df.fillna('empty',inplace=True)"
      ]
    },
    {
      "cell_type": "code",
      "execution_count": null,
      "metadata": {
        "id": "GYntgxJxgd2_"
      },
      "outputs": [],
      "source": [
        "columns=['job_id','telecommuting','has_company_logo','has_questions', 'salary_range','employment_type']\n",
        "#remove columns not required for next steps \n",
        "for colu in columns:\n",
        "    del df[colu]"
      ]
    },
    {
      "cell_type": "code",
      "execution_count": null,
      "metadata": {
        "id": "wc48fkuIv_5r"
      },
      "outputs": [],
      "source": [
        "#df.head()\n",
        "X = df[[\"title\", \"company_profile\", \"description\", \"requirements\",\"benefits\"]]\n",
        "Y = df[\"fraudulent\"]"
      ]
    },
    {
      "cell_type": "code",
      "execution_count": null,
      "metadata": {
        "id": "eJMdwzIpv7d7"
      },
      "outputs": [],
      "source": [
        "X_train, X_test, y_train, y_test = train_test_split(X,Y, test_size=0.1)"
      ]
    },
    {
      "cell_type": "code",
      "execution_count": null,
      "metadata": {
        "id": "MC-JXotRgh4m"
      },
      "outputs": [],
      "source": [
        "X_train_title = X_train['title']\n",
        "X_test_title = X_test['title']\n",
        "\n",
        "X_train_profile = X_train[\"company_profile\"]\n",
        "X_test_profile = X_test[\"company_profile\"]\n",
        "\n",
        "X_train_description = X_train[\"description\"]\n",
        "X_test_description = X_test[\"description\"]\n",
        "\n",
        "X_train_requirements = X_train[\"requirements\"]\n",
        "X_test_requirements = X_test[\"requirements\"]\n",
        "\n",
        "X_train_benefits = X_train[\"benefits\"]\n",
        "X_test_benefits = X_test[\"benefits\"]\n",
        "\n",
        "features = {'title':(X_train_title, X_test_title),\n",
        "            'profile':(X_train_profile, X_test_profile),\n",
        "            'description':(X_train_description, X_test_description),\n",
        "            'requirements':(X_train_requirements, X_test_requirements),\n",
        "            'benefits':(X_train_benefits, X_test_benefits)}"
      ]
    },
    {
      "cell_type": "markdown",
      "metadata": {
        "id": "sl1tB-Yy9nKM"
      },
      "source": [
        "## Bag of Words MultinomialNB Models\n",
        "\n",
        "I used a MultinomialNB model after fitting in a BOW matrix for each column."
      ]
    },
    {
      "cell_type": "code",
      "execution_count": null,
      "metadata": {
        "id": "mfIl9YysyU_b"
      },
      "outputs": [],
      "source": [
        "from sklearn.naive_bayes import MultinomialNB\n",
        "from sklearn.ensemble import RandomForestClassifier\n",
        "\n",
        "def tokenize_test(X_train, y_train, X_test, y_test, vect):\n",
        "    X_train = X_train.str.replace('[^a-zA-Z0-9 ]', '')\n",
        "    X_test = X_test.str.replace('[^a-zA-Z0-9 ]', '')\n",
        "\n",
        "    # create document-term matrices using the vectorizer\n",
        "    X_train_dtm = vect.fit_transform(X_train)\n",
        "    X_test_dtm = vect.transform(X_test)\n",
        "    \n",
        "    # print the number of features that were generated\n",
        "    print('Features: ', X_train_dtm.shape[1])\n",
        "    \n",
        "    # use Multinomial Naive Bayes to predict the star rating\n",
        "    nb = MultinomialNB()\n",
        "\n",
        "    #RFC\n",
        "    #nb = RandomForestClassifier(n_jobs=3,oob_score=True,n_estimators=100, criterion=\"entropy\")\n",
        "    \n",
        "    nb.fit(X_train_dtm, y_train)\n",
        "    y_pred_class = nb.predict(X_test_dtm)\n",
        "    \n",
        "    # Get the training accuracy\n",
        "    print('Training Accuracy: ', metrics.accuracy_score(y_train, nb.predict(X_train_dtm)))\n",
        "    print(\"--------Test Metrics--------\")\n",
        "    # print the accuracy of its predictions\n",
        "    print('Accuracy Score:', metrics.accuracy_score(y_test, y_pred_class))\n",
        "    print('Precision Score:', (metrics.precision_score(y_test, y_pred_class)))\n",
        "    print('Recall Score:', (metrics.recall_score(y_test, y_pred_class)))\n",
        "    print('F1 Score:', (metrics.f1_score(y_test, y_pred_class)))\n",
        "\n",
        "    y_score_mnb = nb.predict_proba(X_test_dtm)\n",
        "    print('ROC Score:', (metrics.roc_auc_score(y_test, y_score_mnb[:,1])))"
      ]
    },
    {
      "cell_type": "code",
      "execution_count": null,
      "metadata": {
        "colab": {
          "base_uri": "https://localhost:8080/"
        },
        "id": "FRUVN2tZzG1T",
        "outputId": "e1cdb38f-e36e-4ce5-dda3-9410283592d5"
      },
      "outputs": [
        {
          "name": "stdout",
          "output_type": "stream",
          "text": [
            "column :  TITLE\n"
          ]
        },
        {
          "name": "stderr",
          "output_type": "stream",
          "text": [
            "/usr/local/lib/python3.7/dist-packages/ipykernel_launcher.py:5: FutureWarning: The default value of regex will change from True to False in a future version.\n",
            "  \"\"\"\n",
            "/usr/local/lib/python3.7/dist-packages/ipykernel_launcher.py:6: FutureWarning: The default value of regex will change from True to False in a future version.\n",
            "  \n"
          ]
        },
        {
          "name": "stdout",
          "output_type": "stream",
          "text": [
            "Features:  44133\n",
            "Training Accuracy:  0.9683693760874968\n",
            "--------Test Metrics--------\n",
            "Accuracy Score: 0.970917225950783\n",
            "Precision Score: 0.8837209302325582\n",
            "Recall Score: 0.4470588235294118\n",
            "F1 Score: 0.5937500000000001\n",
            "ROC Score: 0.9061966771441401\n",
            "\n",
            "\n",
            "column :  PROFILE\n"
          ]
        },
        {
          "name": "stderr",
          "output_type": "stream",
          "text": [
            "/usr/local/lib/python3.7/dist-packages/ipykernel_launcher.py:5: FutureWarning: The default value of regex will change from True to False in a future version.\n",
            "  \"\"\"\n",
            "/usr/local/lib/python3.7/dist-packages/ipykernel_launcher.py:6: FutureWarning: The default value of regex will change from True to False in a future version.\n",
            "  \n"
          ]
        },
        {
          "name": "stdout",
          "output_type": "stream",
          "text": [
            "Features:  312840\n",
            "Training Accuracy:  0.8676360924683072\n",
            "--------Test Metrics--------\n",
            "Accuracy Score: 0.8668903803131991\n",
            "Precision Score: 0.13043478260869565\n",
            "Recall Score: 0.3176470588235294\n",
            "F1 Score: 0.18493150684931506\n",
            "ROC Score: 0.8562363994335256\n",
            "\n",
            "\n",
            "column :  DESCRIPTION\n"
          ]
        },
        {
          "name": "stderr",
          "output_type": "stream",
          "text": [
            "/usr/local/lib/python3.7/dist-packages/ipykernel_launcher.py:5: FutureWarning: The default value of regex will change from True to False in a future version.\n",
            "  \"\"\"\n",
            "/usr/local/lib/python3.7/dist-packages/ipykernel_launcher.py:6: FutureWarning: The default value of regex will change from True to False in a future version.\n",
            "  \n"
          ]
        },
        {
          "name": "stdout",
          "output_type": "stream",
          "text": [
            "Features:  2682359\n",
            "Training Accuracy:  0.9924807357693264\n",
            "--------Test Metrics--------\n",
            "Accuracy Score: 0.982662192393736\n",
            "Precision Score: 0.95\n",
            "Recall Score: 0.6705882352941176\n",
            "F1 Score: 0.786206896551724\n",
            "ROC Score: 0.9185174950778902\n",
            "\n",
            "\n",
            "column :  REQUIREMENTS\n"
          ]
        },
        {
          "name": "stderr",
          "output_type": "stream",
          "text": [
            "/usr/local/lib/python3.7/dist-packages/ipykernel_launcher.py:5: FutureWarning: The default value of regex will change from True to False in a future version.\n",
            "  \"\"\"\n",
            "/usr/local/lib/python3.7/dist-packages/ipykernel_launcher.py:6: FutureWarning: The default value of regex will change from True to False in a future version.\n",
            "  \n"
          ]
        },
        {
          "name": "stdout",
          "output_type": "stream",
          "text": [
            "Features:  1415399\n",
            "Training Accuracy:  0.9855828983345762\n",
            "--------Test Metrics--------\n",
            "Accuracy Score: 0.9742729306487695\n",
            "Precision Score: 0.975609756097561\n",
            "Recall Score: 0.47058823529411764\n",
            "F1 Score: 0.6349206349206349\n",
            "ROC Score: 0.8898276398051881\n",
            "\n",
            "\n",
            "column :  BENEFITS\n"
          ]
        },
        {
          "name": "stderr",
          "output_type": "stream",
          "text": [
            "/usr/local/lib/python3.7/dist-packages/ipykernel_launcher.py:5: FutureWarning: The default value of regex will change from True to False in a future version.\n",
            "  \"\"\"\n",
            "/usr/local/lib/python3.7/dist-packages/ipykernel_launcher.py:6: FutureWarning: The default value of regex will change from True to False in a future version.\n",
            "  \n"
          ]
        },
        {
          "name": "stdout",
          "output_type": "stream",
          "text": [
            "Features:  293460\n",
            "Training Accuracy:  0.9172259507829977\n",
            "--------Test Metrics--------\n",
            "Accuracy Score: 0.953579418344519\n",
            "Precision Score: 0.5138888888888888\n",
            "Recall Score: 0.43529411764705883\n",
            "F1 Score: 0.4713375796178344\n",
            "ROC Score: 0.8422990570273912\n",
            "\n",
            "\n"
          ]
        }
      ],
      "source": [
        "from sklearn import metrics\n",
        "\n",
        "for key, values in features.items():\n",
        "  print(\"column : \", key.upper())\n",
        "  tokenize_test(values[0], y_train, values[1], y_test, CountVectorizer(lowercase=False, ngram_range=(1, 4), stop_words='english', max_df=0.5))\n",
        "  print(\"\\n\")"
      ]
    },
    {
      "cell_type": "code",
      "execution_count": null,
      "metadata": {
        "id": "VBpP7bxyMMXU"
      },
      "outputs": [],
      "source": []
    },
    {
      "cell_type": "markdown",
      "metadata": {
        "id": "xl109pH34tKT"
      },
      "source": [
        "Some results: the description column seems to have a high f1 score.\n"
      ]
    },
    {
      "cell_type": "markdown",
      "metadata": {
        "id": "RQHuuthOoq_b"
      },
      "source": [
        "## TFIDF MultinomialNB Models\n",
        "The cleaned data is fitted by a tf-idf vectoriser and fed into MultinomialNB models."
      ]
    },
    {
      "cell_type": "code",
      "execution_count": null,
      "metadata": {
        "id": "Ch9MLDnE-fik"
      },
      "outputs": [],
      "source": [
        "from sklearn.naive_bayes import MultinomialNB\n",
        "\n",
        "def tf_idf_test(X_train, y_train, X_test, y_test, vect):\n",
        "    X_train = X_train.str.replace('[^a-zA-Z0-9 ]', '')\n",
        "    X_test = X_test.str.replace('[^a-zA-Z0-9 ]', '')\n",
        "    # create tf-idf matrices using the vectorizer\n",
        "    X_train_dtm = vect.fit_transform(X_train)\n",
        "    X_test_dtm = vect.transform(X_test)\n",
        "    \n",
        "    # print the number of features that were generated\n",
        "    print('Features: ', X_train_dtm.shape[1])\n",
        "    \n",
        "    # use Multinomial Naive Bayes to predict the star rating\n",
        "    nb = MultinomialNB()\n",
        "\n",
        "    \n",
        "    # #RFC\n",
        "    # nb = RandomForestClassifier(n_jobs=3,oob_score=True,n_estimators=100, criterion=\"entropy\")\n",
        "\n",
        "    nb.fit(X_train_dtm, y_train)\n",
        "    y_pred_class = nb.predict(X_test_dtm)\n",
        "    \n",
        "    # Get the training accuracy\n",
        "    print('Training Accuracy: ', metrics.accuracy_score(y_train, nb.predict(X_train_dtm)))\n",
        "    print(\"--------Test Metrics--------\")\n",
        "    # print the accuracy of its predictions\n",
        "    print('Accuracy Score:', metrics.accuracy_score(y_test, y_pred_class))\n",
        "    print('Precision Score:', (metrics.precision_score(y_test, y_pred_class)))\n",
        "    print('Recall Score:', (metrics.recall_score(y_test, y_pred_class)))\n",
        "    print('F1 Score:', (metrics.f1_score(y_test, y_pred_class)))\n",
        "\n",
        "    y_score_mnb = nb.predict_proba(X_test_dtm)\n",
        "    print('ROC Score:', (metrics.roc_auc_score(y_test, y_score_mnb[:,1])))"
      ]
    },
    {
      "cell_type": "code",
      "execution_count": null,
      "metadata": {
        "colab": {
          "base_uri": "https://localhost:8080/"
        },
        "id": "Shl7-IRnhm34",
        "outputId": "7d5f2b33-fba1-492d-c70b-d77e67fe06fc"
      },
      "outputs": [
        {
          "name": "stdout",
          "output_type": "stream",
          "text": [
            "column :  TITLE\n"
          ]
        },
        {
          "name": "stderr",
          "output_type": "stream",
          "text": [
            "/usr/local/lib/python3.7/dist-packages/ipykernel_launcher.py:4: FutureWarning: The default value of regex will change from True to False in a future version.\n",
            "  after removing the cwd from sys.path.\n",
            "/usr/local/lib/python3.7/dist-packages/ipykernel_launcher.py:5: FutureWarning: The default value of regex will change from True to False in a future version.\n",
            "  \"\"\"\n"
          ]
        },
        {
          "name": "stdout",
          "output_type": "stream",
          "text": [
            "Features:  44133\n",
            "Training Accuracy:  0.9601665423813075\n",
            "--------Test Metrics--------\n",
            "Accuracy Score: 0.9625279642058165\n",
            "Precision Score: 1.0\n",
            "Recall Score: 0.21176470588235294\n",
            "F1 Score: 0.34951456310679613\n",
            "ROC Score: 0.8924769438015958\n",
            "\n",
            "\n",
            "column :  PROFILE\n"
          ]
        },
        {
          "name": "stderr",
          "output_type": "stream",
          "text": [
            "/usr/local/lib/python3.7/dist-packages/ipykernel_launcher.py:4: FutureWarning: The default value of regex will change from True to False in a future version.\n",
            "  after removing the cwd from sys.path.\n",
            "/usr/local/lib/python3.7/dist-packages/ipykernel_launcher.py:5: FutureWarning: The default value of regex will change from True to False in a future version.\n",
            "  \"\"\"\n"
          ]
        },
        {
          "name": "stdout",
          "output_type": "stream",
          "text": [
            "Features:  312840\n",
            "Training Accuracy:  0.9589236887894605\n",
            "--------Test Metrics--------\n",
            "Accuracy Score: 0.9608501118568232\n",
            "Precision Score: 0.6923076923076923\n",
            "Recall Score: 0.3176470588235294\n",
            "F1 Score: 0.4354838709677419\n",
            "ROC Score: 0.8891230009326103\n",
            "\n",
            "\n",
            "column :  DESCRIPTION\n"
          ]
        },
        {
          "name": "stderr",
          "output_type": "stream",
          "text": [
            "/usr/local/lib/python3.7/dist-packages/ipykernel_launcher.py:4: FutureWarning: The default value of regex will change from True to False in a future version.\n",
            "  after removing the cwd from sys.path.\n",
            "/usr/local/lib/python3.7/dist-packages/ipykernel_launcher.py:5: FutureWarning: The default value of regex will change from True to False in a future version.\n",
            "  \"\"\"\n"
          ]
        },
        {
          "name": "stdout",
          "output_type": "stream",
          "text": [
            "Features:  2682359\n",
            "Training Accuracy:  0.9623415361670395\n",
            "--------Test Metrics--------\n",
            "Accuracy Score: 0.9642058165548099\n",
            "Precision Score: 1.0\n",
            "Recall Score: 0.24705882352941178\n",
            "F1 Score: 0.39622641509433965\n",
            "ROC Score: 0.8827605264066872\n",
            "\n",
            "\n",
            "column :  REQUIREMENTS\n"
          ]
        },
        {
          "name": "stderr",
          "output_type": "stream",
          "text": [
            "/usr/local/lib/python3.7/dist-packages/ipykernel_launcher.py:4: FutureWarning: The default value of regex will change from True to False in a future version.\n",
            "  after removing the cwd from sys.path.\n",
            "/usr/local/lib/python3.7/dist-packages/ipykernel_launcher.py:5: FutureWarning: The default value of regex will change from True to False in a future version.\n",
            "  \"\"\"\n"
          ]
        },
        {
          "name": "stdout",
          "output_type": "stream",
          "text": [
            "Features:  1415400\n",
            "Training Accuracy:  0.9592344021874223\n",
            "--------Test Metrics--------\n",
            "Accuracy Score: 0.9608501118568232\n",
            "Precision Score: 1.0\n",
            "Recall Score: 0.17647058823529413\n",
            "F1 Score: 0.3\n",
            "ROC Score: 0.8443507996269559\n",
            "\n",
            "\n",
            "column :  BENEFITS\n"
          ]
        },
        {
          "name": "stderr",
          "output_type": "stream",
          "text": [
            "/usr/local/lib/python3.7/dist-packages/ipykernel_launcher.py:4: FutureWarning: The default value of regex will change from True to False in a future version.\n",
            "  after removing the cwd from sys.path.\n",
            "/usr/local/lib/python3.7/dist-packages/ipykernel_launcher.py:5: FutureWarning: The default value of regex will change from True to False in a future version.\n",
            "  \"\"\"\n"
          ]
        },
        {
          "name": "stdout",
          "output_type": "stream",
          "text": [
            "Features:  293460\n",
            "Training Accuracy:  0.9657593835446184\n",
            "--------Test Metrics--------\n",
            "Accuracy Score: 0.9653243847874721\n",
            "Precision Score: 1.0\n",
            "Recall Score: 0.27058823529411763\n",
            "F1 Score: 0.42592592592592593\n",
            "ROC Score: 0.8225553521467306\n",
            "\n",
            "\n"
          ]
        }
      ],
      "source": [
        "from sklearn.feature_extraction.text import TfidfVectorizer\n",
        "from sklearn import metrics\n",
        "\n",
        "for key, values in features.items():\n",
        "  print(\"column : \", key.upper())\n",
        "  tf_idf_test(values[0], y_train, values[1], y_test, TfidfVectorizer(lowercase=False, ngram_range=(1, 4), stop_words='english')) #, max_df=0.3\n",
        "  print(\"\\n\")\n",
        "\n"
      ]
    },
    {
      "cell_type": "code",
      "execution_count": null,
      "metadata": {
        "id": "OK8-93nQd_5y"
      },
      "outputs": [],
      "source": []
    },
    {
      "cell_type": "markdown",
      "metadata": {
        "id": "MJA6-Fr3N6y5"
      },
      "source": [
        "##Processed BOW in MultinomialNB models\n",
        "This section includes steps in stemming and lemmatization before feeding the data into the count vectorizer.  \n",
        "\n",
        "The results are mostly quite similar to unprocessed data."
      ]
    },
    {
      "cell_type": "code",
      "execution_count": null,
      "metadata": {
        "id": "H5xYbRr4NINB"
      },
      "outputs": [],
      "source": [
        "from nltk.stem.snowball import SnowballStemmer\n",
        "stemmer = SnowballStemmer(language='english')\n",
        "revisions = [stemmer.stem(word) for word in X_train_title]"
      ]
    },
    {
      "cell_type": "code",
      "execution_count": null,
      "metadata": {
        "colab": {
          "base_uri": "https://localhost:8080/"
        },
        "id": "XeWE81HCNbza",
        "outputId": "e329639f-e171-4863-809b-2d2d05f7505c"
      },
      "outputs": [
        {
          "name": "stdout",
          "output_type": "stream",
          "text": [
            "Original                                            Stemmed\n",
            "--------------------------------------------------  --------------------------------------------------\n",
            "Software Engineer                                   software engin\n",
            "Production Planner                                  production plann\n",
            "Graduates: English Teacher Abroad (Conversational)  graduates: english teacher abroad (conversational)\n",
            "Account Manager, Strategic Partnerships             account manager, strategic partnership\n",
            "Junior QA/Software Engineer                         junior qa/software engin\n"
          ]
        }
      ],
      "source": [
        "#revisions\n",
        "# pip install tabulate\n",
        "from tabulate import tabulate\n",
        "print (tabulate({\"Original\": X_train_title[0:5],\"Stemmed\": revisions[0:5]}, headers=\"keys\"))"
      ]
    },
    {
      "cell_type": "code",
      "execution_count": null,
      "metadata": {
        "colab": {
          "base_uri": "https://localhost:8080/"
        },
        "id": "GGUSU7d0ODjg",
        "outputId": "40068f47-b8f5-4764-cab2-32aaeb01327c"
      },
      "outputs": [
        {
          "name": "stderr",
          "output_type": "stream",
          "text": [
            "[nltk_data] Downloading package omw-1.4 to /root/nltk_data...\n",
            "[nltk_data]   Package omw-1.4 is already up-to-date!\n",
            "[nltk_data] Downloading package wordnet to /root/nltk_data...\n",
            "[nltk_data]   Package wordnet is already up-to-date!\n"
          ]
        }
      ],
      "source": [
        "import nltk\n",
        "nltk.download('omw-1.4')\n",
        "nltk.download('wordnet')\n",
        "from sklearn.naive_bayes import MultinomialNB\n",
        "from nltk.stem import WordNetLemmatizer \n",
        "from nltk.stem.snowball import SnowballStemmer\n",
        "\n",
        "def tokenize_test_stemmed(X_train, y_train, X_test, y_test, vect):\n",
        "    X_train = X_train.str.replace('[^a-zA-Z0-9 ]', '')\n",
        "    X_test = X_test.str.replace('[^a-zA-Z0-9 ]', '')\n",
        "\n",
        "    #Stemming\n",
        "    stemmer = SnowballStemmer(language='english')\n",
        "    X_train = [stemmer.stem(word) for word in X_train]\n",
        "    X_test = [stemmer.stem(word) for word in X_test]\n",
        "\n",
        "    #Lemmatization\n",
        "    lemmatizer = WordNetLemmatizer()\n",
        "    X_train = [lemmatizer.lemmatize(word) for word in X_train]\n",
        "    X_test = [lemmatizer.lemmatize(word) for word in X_test]\n",
        "\n",
        "    # create document-term matrices using the vectorizer\n",
        "    X_train_dtm = vect.fit_transform(X_train)\n",
        "    X_test_dtm = vect.transform(X_test)\n",
        "\n",
        "    # stemmer = SnowballStemmer(language='english')\n",
        "    # X_train_dtm = [stemmer.stem(word) for word in X_train_dtm]\n",
        "    # X_test_dtm = [stemmer.stem(word) for word in X_train_dtm]\n",
        "    \n",
        "    # print the number of features that were generated\n",
        "    print('Features: ', X_train_dtm.shape[1])\n",
        "    \n",
        "    # use Multinomial Naive Bayes to predict the star rating\n",
        "    nb = MultinomialNB()\n",
        "\n",
        "    \n",
        "    #RFC\n",
        "    #nb = RandomForestClassifier(n_jobs=3,oob_score=True,n_estimators=100, criterion=\"entropy\")\n",
        "\n",
        "    nb.fit(X_train_dtm, y_train)\n",
        "    y_pred_class = nb.predict(X_test_dtm)\n",
        "    \n",
        "    # Get the training accuracy\n",
        "    print('Training Accuracy: ', metrics.accuracy_score(y_train, nb.predict(X_train_dtm)))\n",
        "    print(\"--------Test Metrics--------\")\n",
        "    # print the accuracy of its predictions\n",
        "    print('Accuracy Score:', metrics.accuracy_score(y_test, y_pred_class))\n",
        "    print('Precision Score:', (metrics.precision_score(y_test, y_pred_class)))\n",
        "    print('Recall Score:', (metrics.recall_score(y_test, y_pred_class)))\n",
        "    print('F1 Score:', (metrics.f1_score(y_test, y_pred_class)))\n",
        "\n",
        "    y_score_mnb = nb.predict_proba(X_test_dtm)\n",
        "    print('ROC Score:', (metrics.roc_auc_score(y_test, y_score_mnb[:,1])))"
      ]
    },
    {
      "cell_type": "code",
      "execution_count": null,
      "metadata": {
        "colab": {
          "base_uri": "https://localhost:8080/"
        },
        "id": "RcNVgjnLOYLR",
        "outputId": "ac7fc132-766b-4a72-fdae-4bc0e9df6215"
      },
      "outputs": [
        {
          "name": "stderr",
          "output_type": "stream",
          "text": [
            "/usr/local/lib/python3.7/dist-packages/ipykernel_launcher.py:9: FutureWarning: The default value of regex will change from True to False in a future version.\n",
            "  if __name__ == '__main__':\n"
          ]
        },
        {
          "name": "stdout",
          "output_type": "stream",
          "text": [
            "column :  TITLE\n"
          ]
        },
        {
          "name": "stderr",
          "output_type": "stream",
          "text": [
            "/usr/local/lib/python3.7/dist-packages/ipykernel_launcher.py:10: FutureWarning: The default value of regex will change from True to False in a future version.\n",
            "  # Remove the CWD from sys.path while we load stuff.\n"
          ]
        },
        {
          "name": "stdout",
          "output_type": "stream",
          "text": [
            "Features:  41783\n",
            "Training Accuracy:  0.9697986577181208\n",
            "--------Test Metrics--------\n",
            "Accuracy Score: 0.9686800894854586\n",
            "Precision Score: 0.8222222222222222\n",
            "Recall Score: 0.43529411764705883\n",
            "F1 Score: 0.5692307692307692\n",
            "ROC Score: 0.8888121308417671\n",
            "\n",
            "\n",
            "column :  PROFILE\n"
          ]
        },
        {
          "name": "stderr",
          "output_type": "stream",
          "text": [
            "/usr/local/lib/python3.7/dist-packages/ipykernel_launcher.py:9: FutureWarning: The default value of regex will change from True to False in a future version.\n",
            "  if __name__ == '__main__':\n",
            "/usr/local/lib/python3.7/dist-packages/ipykernel_launcher.py:10: FutureWarning: The default value of regex will change from True to False in a future version.\n",
            "  # Remove the CWD from sys.path while we load stuff.\n"
          ]
        },
        {
          "name": "stdout",
          "output_type": "stream",
          "text": [
            "Features:  297665\n",
            "Training Accuracy:  0.8685682326621924\n",
            "--------Test Metrics--------\n",
            "Accuracy Score: 0.8674496644295302\n",
            "Precision Score: 0.13106796116504854\n",
            "Recall Score: 0.3176470588235294\n",
            "F1 Score: 0.18556701030927836\n",
            "ROC Score: 0.8561051431729474\n",
            "\n",
            "\n",
            "column :  DESCRIPTION\n"
          ]
        },
        {
          "name": "stderr",
          "output_type": "stream",
          "text": [
            "/usr/local/lib/python3.7/dist-packages/ipykernel_launcher.py:9: FutureWarning: The default value of regex will change from True to False in a future version.\n",
            "  if __name__ == '__main__':\n",
            "/usr/local/lib/python3.7/dist-packages/ipykernel_launcher.py:10: FutureWarning: The default value of regex will change from True to False in a future version.\n",
            "  # Remove the CWD from sys.path while we load stuff.\n"
          ]
        },
        {
          "name": "stdout",
          "output_type": "stream",
          "text": [
            "Features:  2574687\n",
            "Training Accuracy:  0.993847874720358\n",
            "--------Test Metrics--------\n",
            "Accuracy Score: 0.9821029082774049\n",
            "Precision Score: 0.9491525423728814\n",
            "Recall Score: 0.6588235294117647\n",
            "F1 Score: 0.7777777777777778\n",
            "ROC Score: 0.9158301958481572\n",
            "\n",
            "\n",
            "column :  REQUIREMENTS\n"
          ]
        },
        {
          "name": "stderr",
          "output_type": "stream",
          "text": [
            "/usr/local/lib/python3.7/dist-packages/ipykernel_launcher.py:9: FutureWarning: The default value of regex will change from True to False in a future version.\n",
            "  if __name__ == '__main__':\n",
            "/usr/local/lib/python3.7/dist-packages/ipykernel_launcher.py:10: FutureWarning: The default value of regex will change from True to False in a future version.\n",
            "  # Remove the CWD from sys.path while we load stuff.\n"
          ]
        },
        {
          "name": "stdout",
          "output_type": "stream",
          "text": [
            "Features:  1362761\n",
            "Training Accuracy:  0.9852721849366145\n",
            "--------Test Metrics--------\n",
            "Accuracy Score: 0.9725950782997763\n",
            "Precision Score: 0.9736842105263158\n",
            "Recall Score: 0.43529411764705883\n",
            "F1 Score: 0.6016260162601627\n",
            "ROC Score: 0.890325031950537\n",
            "\n",
            "\n",
            "column :  BENEFITS\n"
          ]
        },
        {
          "name": "stderr",
          "output_type": "stream",
          "text": [
            "/usr/local/lib/python3.7/dist-packages/ipykernel_launcher.py:9: FutureWarning: The default value of regex will change from True to False in a future version.\n",
            "  if __name__ == '__main__':\n",
            "/usr/local/lib/python3.7/dist-packages/ipykernel_launcher.py:10: FutureWarning: The default value of regex will change from True to False in a future version.\n",
            "  # Remove the CWD from sys.path while we load stuff.\n"
          ]
        },
        {
          "name": "stdout",
          "output_type": "stream",
          "text": [
            "Features:  277406\n",
            "Training Accuracy:  0.9210787969177231\n",
            "--------Test Metrics--------\n",
            "Accuracy Score: 0.9546979865771812\n",
            "Precision Score: 0.5303030303030303\n",
            "Recall Score: 0.4117647058823529\n",
            "F1 Score: 0.4635761589403973\n",
            "ROC Score: 0.8313771545024351\n",
            "\n",
            "\n"
          ]
        }
      ],
      "source": [
        "from sklearn import metrics\n",
        "\n",
        "for key, values in features.items():\n",
        "  print(\"column : \", key.upper())\n",
        "  tokenize_test_stemmed(values[0], y_train, values[1], y_test, CountVectorizer(lowercase=True, ngram_range=(1, 4), stop_words='english', max_df=0.5))  #, max_df = 0.5\n",
        "  print(\"\\n\")"
      ]
    },
    {
      "cell_type": "markdown",
      "metadata": {
        "id": "SVunPqt0bQsn"
      },
      "source": [
        "##Processed TF-IDF in Multinomial Models\n",
        "\n",
        "The textual columns were cleaned, tokenized, stemmed, lemmatized etc and fed into MultinomialNB models"
      ]
    },
    {
      "cell_type": "code",
      "execution_count": null,
      "metadata": {
        "colab": {
          "base_uri": "https://localhost:8080/"
        },
        "id": "M-7f9QysSV9I",
        "outputId": "9fb33c6c-e82f-422d-caf3-9375703ec0c0"
      },
      "outputs": [
        {
          "name": "stderr",
          "output_type": "stream",
          "text": [
            "[nltk_data] Downloading package omw-1.4 to /root/nltk_data...\n",
            "[nltk_data]   Package omw-1.4 is already up-to-date!\n",
            "[nltk_data] Downloading package wordnet to /root/nltk_data...\n",
            "[nltk_data]   Package wordnet is already up-to-date!\n"
          ]
        }
      ],
      "source": [
        "from sklearn.naive_bayes import MultinomialNB\n",
        "import nltk\n",
        "nltk.download('omw-1.4')\n",
        "nltk.download('wordnet')\n",
        "from nltk.stem import WordNetLemmatizer \n",
        "from nltk.stem.snowball import SnowballStemmer\n",
        "\n",
        "def tf_idf_test_processed(X_train, y_train, X_test, y_test, vect):\n",
        "    X_train = X_train.str.replace('[^a-zA-Z0-9 ]', '')\n",
        "    X_test = X_test.str.replace('[^a-zA-Z0-9 ]', '')\n",
        "\n",
        "    #Stemming\n",
        "    stemmer = SnowballStemmer(language='english')\n",
        "    X_train = [stemmer.stem(word) for word in X_train]\n",
        "    X_test = [stemmer.stem(word) for word in X_test]\n",
        "\n",
        "    #Lemmatization\n",
        "    lemmatizer = WordNetLemmatizer()\n",
        "    X_train = [lemmatizer.lemmatize(word) for word in X_train]\n",
        "    X_test = [lemmatizer.lemmatize(word) for word in X_test]\n",
        "\n",
        "    # create tf-idf matrices using the vectorizer\n",
        "    X_train_dtm = vect.fit_transform(X_train)\n",
        "    X_test_dtm = vect.transform(X_test)\n",
        "    \n",
        "    # print the number of features that were generated\n",
        "    print('Features: ', X_train_dtm.shape[1])\n",
        "    \n",
        "    # use Multinomial Naive Bayes to predict the star rating\n",
        "    nb = MultinomialNB()\n",
        "\n",
        "    \n",
        "    # #RFC\n",
        "    # nb = RandomForestClassifier(n_jobs=3,oob_score=True,n_estimators=100, criterion=\"entropy\")\n",
        "\n",
        "    nb.fit(X_train_dtm, y_train)\n",
        "    y_pred_class = nb.predict(X_test_dtm)\n",
        "    \n",
        "    # Get the training accuracy\n",
        "    print('Training Accuracy: ', metrics.accuracy_score(y_train, nb.predict(X_train_dtm)))\n",
        "    print(\"--------Test Metrics--------\")\n",
        "    # print the accuracy of its predictions\n",
        "    print('Accuracy Score:', metrics.accuracy_score(y_test, y_pred_class))\n",
        "    print('Precision Score:', (metrics.precision_score(y_test, y_pred_class)))\n",
        "    print('Recall Score:', (metrics.recall_score(y_test, y_pred_class)))\n",
        "    print('F1 Score:', (metrics.f1_score(y_test, y_pred_class)))\n",
        "\n",
        "    y_score_mnb = nb.predict_proba(X_test_dtm)\n",
        "    print('ROC Score:', (metrics.roc_auc_score(y_test, y_score_mnb[:,1])))"
      ]
    },
    {
      "cell_type": "code",
      "execution_count": null,
      "metadata": {
        "colab": {
          "base_uri": "https://localhost:8080/"
        },
        "id": "D2JoqBGCSRKI",
        "outputId": "59b39202-54e4-4d45-8c49-b69a634f186b"
      },
      "outputs": [
        {
          "name": "stdout",
          "output_type": "stream",
          "text": [
            "column :  TITLE\n"
          ]
        },
        {
          "name": "stderr",
          "output_type": "stream",
          "text": [
            "/usr/local/lib/python3.7/dist-packages/ipykernel_launcher.py:9: FutureWarning: The default value of regex will change from True to False in a future version.\n",
            "  if __name__ == '__main__':\n",
            "/usr/local/lib/python3.7/dist-packages/ipykernel_launcher.py:10: FutureWarning: The default value of regex will change from True to False in a future version.\n",
            "  # Remove the CWD from sys.path while we load stuff.\n"
          ]
        },
        {
          "name": "stdout",
          "output_type": "stream",
          "text": [
            "Features:  41783\n",
            "Training Accuracy:  0.9591101168282377\n",
            "--------Test Metrics--------\n",
            "Accuracy Score: 0.9614093959731543\n",
            "Precision Score: 1.0\n",
            "Recall Score: 0.18823529411764706\n",
            "F1 Score: 0.31683168316831684\n",
            "ROC Score: 0.8658733722496632\n",
            "\n",
            "\n",
            "column :  PROFILE\n"
          ]
        },
        {
          "name": "stderr",
          "output_type": "stream",
          "text": [
            "/usr/local/lib/python3.7/dist-packages/ipykernel_launcher.py:9: FutureWarning: The default value of regex will change from True to False in a future version.\n",
            "  if __name__ == '__main__':\n",
            "/usr/local/lib/python3.7/dist-packages/ipykernel_launcher.py:10: FutureWarning: The default value of regex will change from True to False in a future version.\n",
            "  # Remove the CWD from sys.path while we load stuff.\n"
          ]
        },
        {
          "name": "stdout",
          "output_type": "stream",
          "text": [
            "Features:  297665\n",
            "Training Accuracy:  0.9600422570221228\n",
            "--------Test Metrics--------\n",
            "Accuracy Score: 0.9619686800894854\n",
            "Precision Score: 0.7297297297297297\n",
            "Recall Score: 0.3176470588235294\n",
            "F1 Score: 0.4426229508196722\n",
            "ROC Score: 0.8606818417325827\n",
            "\n",
            "\n",
            "column :  DESCRIPTION\n"
          ]
        },
        {
          "name": "stderr",
          "output_type": "stream",
          "text": [
            "/usr/local/lib/python3.7/dist-packages/ipykernel_launcher.py:9: FutureWarning: The default value of regex will change from True to False in a future version.\n",
            "  if __name__ == '__main__':\n",
            "/usr/local/lib/python3.7/dist-packages/ipykernel_launcher.py:10: FutureWarning: The default value of regex will change from True to False in a future version.\n",
            "  # Remove the CWD from sys.path while we load stuff.\n"
          ]
        },
        {
          "name": "stdout",
          "output_type": "stream",
          "text": [
            "Features:  2574687\n",
            "Training Accuracy:  0.9612851106139697\n",
            "--------Test Metrics--------\n",
            "Accuracy Score: 0.9636465324384788\n",
            "Precision Score: 1.0\n",
            "Recall Score: 0.23529411764705882\n",
            "F1 Score: 0.38095238095238093\n",
            "ROC Score: 0.8795551103588823\n",
            "\n",
            "\n",
            "column :  REQUIREMENTS\n"
          ]
        },
        {
          "name": "stderr",
          "output_type": "stream",
          "text": [
            "/usr/local/lib/python3.7/dist-packages/ipykernel_launcher.py:9: FutureWarning: The default value of regex will change from True to False in a future version.\n",
            "  if __name__ == '__main__':\n",
            "/usr/local/lib/python3.7/dist-packages/ipykernel_launcher.py:10: FutureWarning: The default value of regex will change from True to False in a future version.\n",
            "  # Remove the CWD from sys.path while we load stuff.\n"
          ]
        },
        {
          "name": "stdout",
          "output_type": "stream",
          "text": [
            "Features:  1362762\n",
            "Training Accuracy:  0.95917225950783\n",
            "--------Test Metrics--------\n",
            "Accuracy Score: 0.9608501118568232\n",
            "Precision Score: 1.0\n",
            "Recall Score: 0.17647058823529413\n",
            "F1 Score: 0.3\n",
            "ROC Score: 0.857010120548513\n",
            "\n",
            "\n",
            "column :  BENEFITS\n"
          ]
        },
        {
          "name": "stderr",
          "output_type": "stream",
          "text": [
            "/usr/local/lib/python3.7/dist-packages/ipykernel_launcher.py:9: FutureWarning: The default value of regex will change from True to False in a future version.\n",
            "  if __name__ == '__main__':\n",
            "/usr/local/lib/python3.7/dist-packages/ipykernel_launcher.py:10: FutureWarning: The default value of regex will change from True to False in a future version.\n",
            "  # Remove the CWD from sys.path while we load stuff.\n"
          ]
        },
        {
          "name": "stdout",
          "output_type": "stream",
          "text": [
            "Features:  277406\n",
            "Training Accuracy:  0.9648893860303256\n",
            "--------Test Metrics--------\n",
            "Accuracy Score: 0.9653243847874721\n",
            "Precision Score: 1.0\n",
            "Recall Score: 0.27058823529411763\n",
            "F1 Score: 0.42592592592592593\n",
            "ROC Score: 0.7974508652550862\n",
            "\n",
            "\n"
          ]
        }
      ],
      "source": [
        "from sklearn.feature_extraction.text import TfidfVectorizer\n",
        "from sklearn import metrics\n",
        "\n",
        "for key, values in features.items():\n",
        "  print(\"column : \", key.upper())\n",
        "  tf_idf_test_processed(values[0], y_train, values[1], y_test, TfidfVectorizer(lowercase=False, ngram_range=(1, 4), stop_words='english'))\n",
        "  print(\"\\n\")"
      ]
    },
    {
      "cell_type": "markdown",
      "metadata": {
        "id": "rj4I7gY9TJa5"
      },
      "source": [
        "##Findings from tuning\n",
        "There is no significant difference in model performance whether the data is processed or not.  However, the inclusion of unigram, bigram, trigram and quadgrams greatly improve f1 score.  This would imply that certain phrases are highly predictive of fraud entries."
      ]
    },
    {
      "cell_type": "markdown",
      "metadata": {
        "id": "7b9tzklvfJ6K"
      },
      "source": [
        "#Ensemble Learning first level\n",
        "First, I cleaned the data, removed stop words, stemmed, lemmatized the data using the NLTK package.  Then I created countVectorizers objects to tokenize the data.  This can also help me retrieve feature importance later.\n",
        "\n",
        "I obtain 5 BOW matrices and 5 TF-IDF matrices from the 5 columns. Then, I fed each matrix into a MultinomialNB model each to give me 10 columns of predicted results."
      ]
    },
    {
      "cell_type": "code",
      "execution_count": null,
      "metadata": {
        "id": "cCX2zjaef-1S"
      },
      "outputs": [],
      "source": [
        "cv_title = CountVectorizer(lowercase=True, ngram_range=(1, 4), stop_words='english', max_df=0.5)\n",
        "cv_profile = CountVectorizer(lowercase=True, ngram_range=(1, 4), stop_words='english', max_df=0.5)\n",
        "cv_description = CountVectorizer(lowercase=True, ngram_range=(1, 4), stop_words='english', max_df=0.5)\n",
        "cv_requirement = CountVectorizer(lowercase=True, ngram_range=(1, 4), stop_words='english', max_df=0.5)\n",
        "cv_benefit = CountVectorizer(lowercase=True, ngram_range=(1, 4), stop_words='english', max_df=0.5)"
      ]
    },
    {
      "cell_type": "code",
      "execution_count": null,
      "metadata": {
        "colab": {
          "base_uri": "https://localhost:8080/"
        },
        "id": "ZYf5or5-hc16",
        "outputId": "47ff41da-6d41-4119-830d-274278ac6533"
      },
      "outputs": [
        {
          "name": "stderr",
          "output_type": "stream",
          "text": [
            "[nltk_data] Downloading package omw-1.4 to /root/nltk_data...\n",
            "[nltk_data]   Package omw-1.4 is already up-to-date!\n",
            "[nltk_data] Downloading package wordnet to /root/nltk_data...\n",
            "[nltk_data]   Package wordnet is already up-to-date!\n",
            "/usr/local/lib/python3.7/dist-packages/ipykernel_launcher.py:10: FutureWarning: The default value of regex will change from True to False in a future version.\n",
            "  # Remove the CWD from sys.path while we load stuff.\n",
            "/usr/local/lib/python3.7/dist-packages/ipykernel_launcher.py:11: FutureWarning: The default value of regex will change from True to False in a future version.\n",
            "  # This is added back by InteractiveShellApp.init_path()\n",
            "/usr/local/lib/python3.7/dist-packages/ipykernel_launcher.py:13: FutureWarning: The default value of regex will change from True to False in a future version.\n",
            "  del sys.path[0]\n",
            "/usr/local/lib/python3.7/dist-packages/ipykernel_launcher.py:14: FutureWarning: The default value of regex will change from True to False in a future version.\n",
            "  \n",
            "/usr/local/lib/python3.7/dist-packages/ipykernel_launcher.py:16: FutureWarning: The default value of regex will change from True to False in a future version.\n",
            "  app.launch_new_instance()\n",
            "/usr/local/lib/python3.7/dist-packages/ipykernel_launcher.py:17: FutureWarning: The default value of regex will change from True to False in a future version.\n",
            "/usr/local/lib/python3.7/dist-packages/ipykernel_launcher.py:19: FutureWarning: The default value of regex will change from True to False in a future version.\n",
            "/usr/local/lib/python3.7/dist-packages/ipykernel_launcher.py:20: FutureWarning: The default value of regex will change from True to False in a future version.\n",
            "/usr/local/lib/python3.7/dist-packages/ipykernel_launcher.py:22: FutureWarning: The default value of regex will change from True to False in a future version.\n",
            "/usr/local/lib/python3.7/dist-packages/ipykernel_launcher.py:23: FutureWarning: The default value of regex will change from True to False in a future version.\n"
          ]
        }
      ],
      "source": [
        "import nltk\n",
        "nltk.download('omw-1.4')\n",
        "nltk.download('wordnet')\n",
        "from nltk.stem import WordNetLemmatizer \n",
        "from nltk.stem.snowball import SnowballStemmer\n",
        "\n",
        "stemmer = SnowballStemmer(language='english')\n",
        "lemmatizer = WordNetLemmatizer()\n",
        "\n",
        "X_train_title = X_train_title.str.replace('[^a-zA-Z0-9 ]', '')\n",
        "X_test_title = X_test_title.str.replace('[^a-zA-Z0-9 ]', '')\n",
        "\n",
        "X_train_profile = X_train_profile.str.replace('[^a-zA-Z0-9 ]', '')\n",
        "X_test_profile = X_test_profile.str.replace('[^a-zA-Z0-9 ]', '')\n",
        "\n",
        "X_train_description = X_train_description.str.replace('[^a-zA-Z0-9 ]', '')\n",
        "X_test_description = X_test_description.str.replace('[^a-zA-Z0-9 ]', '')\n",
        "\n",
        "X_train_requirements = X_train_requirements.str.replace('[^a-zA-Z0-9 ]', '')\n",
        "X_test_requirements = X_test_requirements.str.replace('[^a-zA-Z0-9 ]', '')\n",
        "\n",
        "X_train_benefits = X_train_benefits.str.replace('[^a-zA-Z0-9 ]', '')\n",
        "X_test_benefits = X_test_benefits.str.replace('[^a-zA-Z0-9 ]', '')\n",
        "\n",
        "#stemming\n",
        "X_train_title_pro = [stemmer.stem(word) for word in X_train_title]\n",
        "X_test_title_pro = [stemmer.stem(word) for word in X_test_title]\n",
        "\n",
        "X_train_profile_pro = [stemmer.stem(word) for word in X_train_profile]\n",
        "X_test_profile_pro = [stemmer.stem(word) for word in X_test_profile]\n",
        "\n",
        "X_train_description_pro = [stemmer.stem(word) for word in X_train_description]\n",
        "X_test_description_pro = [stemmer.stem(word) for word in X_test_description]\n",
        "\n",
        "X_train_requirements_pro = [stemmer.stem(word) for word in X_train_requirements]\n",
        "X_test_requirements_pro = [stemmer.stem(word) for word in X_test_requirements]\n",
        "\n",
        "X_train_benefits_pro = [stemmer.stem(word) for word in X_train_benefits]\n",
        "X_test_benefits_pro = [stemmer.stem(word) for word in X_test_benefits]"
      ]
    },
    {
      "cell_type": "code",
      "execution_count": null,
      "metadata": {
        "id": "DF3PO1YzidtM"
      },
      "outputs": [],
      "source": [
        "#lemmatization\n",
        "X_train_title_pro = [lemmatizer.lemmatize(word) for word in X_train_title]\n",
        "X_test_title_pro = [lemmatizer.lemmatize(word) for word in X_test_title]\n",
        "\n",
        "X_train_profile_pro = [lemmatizer.lemmatize(word) for word in X_train_profile]\n",
        "X_test_profile_pro = [lemmatizer.lemmatize(word) for word in X_test_profile]\n",
        "\n",
        "X_train_description_pro = [lemmatizer.lemmatize(word) for word in X_train_description]\n",
        "X_test_description_pro = [lemmatizer.lemmatize(word) for word in X_test_description]\n",
        "\n",
        "X_train_requirements_pro = [lemmatizer.lemmatize(word) for word in X_train_requirements]\n",
        "X_test_requirements_pro = [lemmatizer.lemmatize(word) for word in X_test_requirements]\n",
        "\n",
        "X_train_benefits_pro = [lemmatizer.lemmatize(word) for word in X_train_benefits]\n",
        "X_test_benefits_pro = [lemmatizer.lemmatize(word) for word in X_test_benefits]"
      ]
    },
    {
      "cell_type": "code",
      "execution_count": null,
      "metadata": {
        "id": "sO3slw85itai"
      },
      "outputs": [],
      "source": [
        "features_pro = {'title':(X_train_title_pro, X_test_title_pro),\n",
        "            'profile':(X_train_profile_pro, X_test_profile_pro),\n",
        "            'description':(X_train_description_pro, X_test_description_pro),\n",
        "            'requirements':(X_train_requirements_pro, X_test_requirements_pro),\n",
        "            'benefits':(X_train_benefits_pro, X_test_benefits_pro)}"
      ]
    },
    {
      "cell_type": "code",
      "execution_count": null,
      "metadata": {
        "id": "cxlhyAo8jbTa"
      },
      "outputs": [],
      "source": [
        "nb_title = MultinomialNB()\n",
        "nb_profile = MultinomialNB()\n",
        "nb_description = MultinomialNB()\n",
        "nb_requirements = MultinomialNB()\n",
        "nb_benefits = MultinomialNB()"
      ]
    },
    {
      "cell_type": "code",
      "execution_count": null,
      "metadata": {
        "id": "eGwvJCAnnmez"
      },
      "outputs": [],
      "source": [
        "X_train_title_bow = cv_title.fit_transform(X_train_title_pro)\n",
        "X_test_title_bow = cv_title.transform(X_test_title_pro)\n",
        "\n",
        "X_train_profile_bow = cv_profile.fit_transform(X_train_profile_pro)\n",
        "X_test_profile_bow = cv_profile.transform(X_test_profile_pro)\n",
        "\n",
        "X_train_description_bow = cv_description.fit_transform(X_train_description_pro)\n",
        "X_test_description_bow = cv_description.transform(X_test_description_pro)\n",
        "\n",
        "X_train_requirements_bow = cv_requirement.fit_transform(X_train_requirements_pro)\n",
        "X_test_requirements_bow = cv_requirement.transform(X_test_requirements_pro)\n",
        "\n",
        "X_train_benefits_bow = cv_benefit.fit_transform(X_train_benefits_pro)\n",
        "X_test_benefits_bow = cv_benefit.transform(X_test_benefits_pro)"
      ]
    },
    {
      "cell_type": "code",
      "execution_count": null,
      "metadata": {
        "id": "rp3OD0EGjS8D"
      },
      "outputs": [],
      "source": [
        "# defining parameter range \n",
        "from sklearn.model_selection import GridSearchCV\n",
        "nb_param_grid = {'alpha': [1, 0, 0.1, 0.01, 0.001],  \n",
        "              'fit_prior': [False, True], \n",
        "              }  \n",
        "   \n",
        "nb_title_tuned = GridSearchCV(MultinomialNB(), nb_param_grid,cv = 3,scoring = 'roc_auc',verbose = 3) \n",
        "nb_profile_tuned = GridSearchCV(MultinomialNB(), nb_param_grid,cv = 3,scoring = 'roc_auc',verbose = 3) \n",
        "nb_description_tuned = GridSearchCV(MultinomialNB(), nb_param_grid,cv = 3,scoring = 'roc_auc',verbose = 3) \n",
        "nb_requirements_tuned = GridSearchCV(MultinomialNB(), nb_param_grid,cv = 3,scoring = 'roc_auc',verbose = 3) \n",
        "nb_benefits_tuned = GridSearchCV(MultinomialNB(), nb_param_grid,cv = 3,scoring = 'roc_auc',verbose = 3) "
      ]
    },
    {
      "cell_type": "code",
      "execution_count": null,
      "metadata": {
        "colab": {
          "base_uri": "https://localhost:8080/"
        },
        "id": "vnRw70YJjTFx",
        "outputId": "c1c884ca-c582-410b-83ad-033e1e1a28b3"
      },
      "outputs": [
        {
          "name": "stdout",
          "output_type": "stream",
          "text": [
            "Fitting 3 folds for each of 10 candidates, totalling 30 fits\n",
            "[CV 1/3] END ..........alpha=1, fit_prior=False;, score=0.809 total time=   0.0s\n",
            "[CV 2/3] END ..........alpha=1, fit_prior=False;, score=0.820 total time=   0.0s\n",
            "[CV 3/3] END ..........alpha=1, fit_prior=False;, score=0.858 total time=   0.0s\n",
            "[CV 1/3] END ...........alpha=1, fit_prior=True;, score=0.809 total time=   0.0s\n",
            "[CV 2/3] END ...........alpha=1, fit_prior=True;, score=0.820 total time=   0.0s\n",
            "[CV 3/3] END ...........alpha=1, fit_prior=True;, score=0.858 total time=   0.0s\n",
            "[CV 1/3] END ..........alpha=0, fit_prior=False;, score=0.865 total time=   0.0s\n",
            "[CV 2/3] END ..........alpha=0, fit_prior=False;, score=0.871 total time=   0.0s\n",
            "[CV 3/3] END ..........alpha=0, fit_prior=False;, score=0.880 total time=   0.0s\n",
            "[CV 1/3] END ...........alpha=0, fit_prior=True;, score=0.865 total time=   0.0s\n",
            "[CV 2/3] END ...........alpha=0, fit_prior=True;, score=0.871 total time=   0.0s\n",
            "[CV 3/3] END ...........alpha=0, fit_prior=True;, score=0.880 total time=   0.0s\n"
          ]
        },
        {
          "name": "stderr",
          "output_type": "stream",
          "text": [
            "/usr/local/lib/python3.7/dist-packages/sklearn/naive_bayes.py:557: UserWarning: alpha too small will result in numeric errors, setting alpha = 1.0e-10\n",
            "  % _ALPHA_MIN\n",
            "/usr/local/lib/python3.7/dist-packages/sklearn/naive_bayes.py:557: UserWarning: alpha too small will result in numeric errors, setting alpha = 1.0e-10\n",
            "  % _ALPHA_MIN\n",
            "/usr/local/lib/python3.7/dist-packages/sklearn/naive_bayes.py:557: UserWarning: alpha too small will result in numeric errors, setting alpha = 1.0e-10\n",
            "  % _ALPHA_MIN\n",
            "/usr/local/lib/python3.7/dist-packages/sklearn/naive_bayes.py:557: UserWarning: alpha too small will result in numeric errors, setting alpha = 1.0e-10\n",
            "  % _ALPHA_MIN\n",
            "/usr/local/lib/python3.7/dist-packages/sklearn/naive_bayes.py:557: UserWarning: alpha too small will result in numeric errors, setting alpha = 1.0e-10\n",
            "  % _ALPHA_MIN\n",
            "/usr/local/lib/python3.7/dist-packages/sklearn/naive_bayes.py:557: UserWarning: alpha too small will result in numeric errors, setting alpha = 1.0e-10\n",
            "  % _ALPHA_MIN\n"
          ]
        },
        {
          "name": "stdout",
          "output_type": "stream",
          "text": [
            "[CV 1/3] END ........alpha=0.1, fit_prior=False;, score=0.834 total time=   0.0s\n",
            "[CV 2/3] END ........alpha=0.1, fit_prior=False;, score=0.829 total time=   0.0s\n",
            "[CV 3/3] END ........alpha=0.1, fit_prior=False;, score=0.862 total time=   0.0s\n",
            "[CV 1/3] END .........alpha=0.1, fit_prior=True;, score=0.834 total time=   0.0s\n",
            "[CV 2/3] END .........alpha=0.1, fit_prior=True;, score=0.829 total time=   0.0s\n",
            "[CV 3/3] END .........alpha=0.1, fit_prior=True;, score=0.862 total time=   0.0s\n",
            "[CV 1/3] END .......alpha=0.01, fit_prior=False;, score=0.853 total time=   0.0s\n",
            "[CV 2/3] END .......alpha=0.01, fit_prior=False;, score=0.846 total time=   0.0s\n",
            "[CV 3/3] END .......alpha=0.01, fit_prior=False;, score=0.873 total time=   0.0s\n",
            "[CV 1/3] END ........alpha=0.01, fit_prior=True;, score=0.853 total time=   0.0s\n",
            "[CV 2/3] END ........alpha=0.01, fit_prior=True;, score=0.846 total time=   0.0s\n",
            "[CV 3/3] END ........alpha=0.01, fit_prior=True;, score=0.874 total time=   0.0s\n",
            "[CV 1/3] END ......alpha=0.001, fit_prior=False;, score=0.865 total time=   0.0s\n",
            "[CV 2/3] END ......alpha=0.001, fit_prior=False;, score=0.860 total time=   0.0s\n",
            "[CV 3/3] END ......alpha=0.001, fit_prior=False;, score=0.884 total time=   0.0s\n",
            "[CV 1/3] END .......alpha=0.001, fit_prior=True;, score=0.866 total time=   0.0s\n",
            "[CV 2/3] END .......alpha=0.001, fit_prior=True;, score=0.860 total time=   0.0s\n",
            "[CV 3/3] END .......alpha=0.001, fit_prior=True;, score=0.884 total time=   0.0s\n",
            "Fitting 3 folds for each of 10 candidates, totalling 30 fits\n",
            "[CV 1/3] END ..........alpha=1, fit_prior=False;, score=0.833 total time=   0.1s\n"
          ]
        },
        {
          "name": "stderr",
          "output_type": "stream",
          "text": [
            "/usr/local/lib/python3.7/dist-packages/sklearn/naive_bayes.py:557: UserWarning: alpha too small will result in numeric errors, setting alpha = 1.0e-10\n",
            "  % _ALPHA_MIN\n"
          ]
        },
        {
          "name": "stdout",
          "output_type": "stream",
          "text": [
            "[CV 2/3] END ..........alpha=1, fit_prior=False;, score=0.844 total time=   0.1s\n",
            "[CV 3/3] END ..........alpha=1, fit_prior=False;, score=0.836 total time=   0.1s\n",
            "[CV 1/3] END ...........alpha=1, fit_prior=True;, score=0.833 total time=   0.1s\n",
            "[CV 2/3] END ...........alpha=1, fit_prior=True;, score=0.844 total time=   0.1s\n",
            "[CV 3/3] END ...........alpha=1, fit_prior=True;, score=0.836 total time=   0.1s\n",
            "[CV 1/3] END ..........alpha=0, fit_prior=False;, score=0.934 total time=   0.1s\n"
          ]
        },
        {
          "name": "stderr",
          "output_type": "stream",
          "text": [
            "/usr/local/lib/python3.7/dist-packages/sklearn/naive_bayes.py:557: UserWarning: alpha too small will result in numeric errors, setting alpha = 1.0e-10\n",
            "  % _ALPHA_MIN\n",
            "/usr/local/lib/python3.7/dist-packages/sklearn/naive_bayes.py:557: UserWarning: alpha too small will result in numeric errors, setting alpha = 1.0e-10\n",
            "  % _ALPHA_MIN\n",
            "/usr/local/lib/python3.7/dist-packages/sklearn/naive_bayes.py:557: UserWarning: alpha too small will result in numeric errors, setting alpha = 1.0e-10\n",
            "  % _ALPHA_MIN\n"
          ]
        },
        {
          "name": "stdout",
          "output_type": "stream",
          "text": [
            "[CV 2/3] END ..........alpha=0, fit_prior=False;, score=0.939 total time=   0.1s\n",
            "[CV 3/3] END ..........alpha=0, fit_prior=False;, score=0.936 total time=   0.1s\n",
            "[CV 1/3] END ...........alpha=0, fit_prior=True;, score=0.934 total time=   0.1s\n"
          ]
        },
        {
          "name": "stderr",
          "output_type": "stream",
          "text": [
            "/usr/local/lib/python3.7/dist-packages/sklearn/naive_bayes.py:557: UserWarning: alpha too small will result in numeric errors, setting alpha = 1.0e-10\n",
            "  % _ALPHA_MIN\n",
            "/usr/local/lib/python3.7/dist-packages/sklearn/naive_bayes.py:557: UserWarning: alpha too small will result in numeric errors, setting alpha = 1.0e-10\n",
            "  % _ALPHA_MIN\n",
            "/usr/local/lib/python3.7/dist-packages/sklearn/naive_bayes.py:557: UserWarning: alpha too small will result in numeric errors, setting alpha = 1.0e-10\n",
            "  % _ALPHA_MIN\n"
          ]
        },
        {
          "name": "stdout",
          "output_type": "stream",
          "text": [
            "[CV 2/3] END ...........alpha=0, fit_prior=True;, score=0.939 total time=   0.1s\n",
            "[CV 3/3] END ...........alpha=0, fit_prior=True;, score=0.936 total time=   0.1s\n",
            "[CV 1/3] END ........alpha=0.1, fit_prior=False;, score=0.868 total time=   0.1s\n",
            "[CV 2/3] END ........alpha=0.1, fit_prior=False;, score=0.870 total time=   0.1s\n",
            "[CV 3/3] END ........alpha=0.1, fit_prior=False;, score=0.868 total time=   0.1s\n",
            "[CV 1/3] END .........alpha=0.1, fit_prior=True;, score=0.869 total time=   0.1s\n",
            "[CV 2/3] END .........alpha=0.1, fit_prior=True;, score=0.870 total time=   0.1s\n",
            "[CV 3/3] END .........alpha=0.1, fit_prior=True;, score=0.868 total time=   0.1s\n",
            "[CV 1/3] END .......alpha=0.01, fit_prior=False;, score=0.906 total time=   0.1s\n",
            "[CV 2/3] END .......alpha=0.01, fit_prior=False;, score=0.904 total time=   0.1s\n",
            "[CV 3/3] END .......alpha=0.01, fit_prior=False;, score=0.905 total time=   0.1s\n",
            "[CV 1/3] END ........alpha=0.01, fit_prior=True;, score=0.906 total time=   0.1s\n",
            "[CV 2/3] END ........alpha=0.01, fit_prior=True;, score=0.904 total time=   0.1s\n",
            "[CV 3/3] END ........alpha=0.01, fit_prior=True;, score=0.905 total time=   0.1s\n",
            "[CV 1/3] END ......alpha=0.001, fit_prior=False;, score=0.907 total time=   0.1s\n",
            "[CV 2/3] END ......alpha=0.001, fit_prior=False;, score=0.905 total time=   0.1s\n",
            "[CV 3/3] END ......alpha=0.001, fit_prior=False;, score=0.906 total time=   0.1s\n",
            "[CV 1/3] END .......alpha=0.001, fit_prior=True;, score=0.907 total time=   0.1s\n",
            "[CV 2/3] END .......alpha=0.001, fit_prior=True;, score=0.905 total time=   0.1s\n",
            "[CV 3/3] END .......alpha=0.001, fit_prior=True;, score=0.906 total time=   0.1s\n",
            "Fitting 3 folds for each of 10 candidates, totalling 30 fits\n"
          ]
        },
        {
          "name": "stderr",
          "output_type": "stream",
          "text": [
            "/usr/local/lib/python3.7/dist-packages/sklearn/naive_bayes.py:557: UserWarning: alpha too small will result in numeric errors, setting alpha = 1.0e-10\n",
            "  % _ALPHA_MIN\n"
          ]
        },
        {
          "name": "stdout",
          "output_type": "stream",
          "text": [
            "[CV 1/3] END ..........alpha=1, fit_prior=False;, score=0.917 total time=   0.3s\n",
            "[CV 2/3] END ..........alpha=1, fit_prior=False;, score=0.907 total time=   0.3s\n",
            "[CV 3/3] END ..........alpha=1, fit_prior=False;, score=0.937 total time=   0.3s\n",
            "[CV 1/3] END ...........alpha=1, fit_prior=True;, score=0.918 total time=   0.3s\n",
            "[CV 2/3] END ...........alpha=1, fit_prior=True;, score=0.908 total time=   0.3s\n",
            "[CV 3/3] END ...........alpha=1, fit_prior=True;, score=0.939 total time=   0.3s\n"
          ]
        },
        {
          "name": "stderr",
          "output_type": "stream",
          "text": [
            "/usr/local/lib/python3.7/dist-packages/sklearn/naive_bayes.py:557: UserWarning: alpha too small will result in numeric errors, setting alpha = 1.0e-10\n",
            "  % _ALPHA_MIN\n"
          ]
        },
        {
          "name": "stdout",
          "output_type": "stream",
          "text": [
            "[CV 1/3] END ..........alpha=0, fit_prior=False;, score=0.931 total time=   0.3s\n"
          ]
        },
        {
          "name": "stderr",
          "output_type": "stream",
          "text": [
            "/usr/local/lib/python3.7/dist-packages/sklearn/naive_bayes.py:557: UserWarning: alpha too small will result in numeric errors, setting alpha = 1.0e-10\n",
            "  % _ALPHA_MIN\n"
          ]
        },
        {
          "name": "stdout",
          "output_type": "stream",
          "text": [
            "[CV 2/3] END ..........alpha=0, fit_prior=False;, score=0.909 total time=   0.3s\n"
          ]
        },
        {
          "name": "stderr",
          "output_type": "stream",
          "text": [
            "/usr/local/lib/python3.7/dist-packages/sklearn/naive_bayes.py:557: UserWarning: alpha too small will result in numeric errors, setting alpha = 1.0e-10\n",
            "  % _ALPHA_MIN\n"
          ]
        },
        {
          "name": "stdout",
          "output_type": "stream",
          "text": [
            "[CV 3/3] END ..........alpha=0, fit_prior=False;, score=0.952 total time=   0.3s\n"
          ]
        },
        {
          "name": "stderr",
          "output_type": "stream",
          "text": [
            "/usr/local/lib/python3.7/dist-packages/sklearn/naive_bayes.py:557: UserWarning: alpha too small will result in numeric errors, setting alpha = 1.0e-10\n",
            "  % _ALPHA_MIN\n"
          ]
        },
        {
          "name": "stdout",
          "output_type": "stream",
          "text": [
            "[CV 1/3] END ...........alpha=0, fit_prior=True;, score=0.931 total time=   0.3s\n"
          ]
        },
        {
          "name": "stderr",
          "output_type": "stream",
          "text": [
            "/usr/local/lib/python3.7/dist-packages/sklearn/naive_bayes.py:557: UserWarning: alpha too small will result in numeric errors, setting alpha = 1.0e-10\n",
            "  % _ALPHA_MIN\n"
          ]
        },
        {
          "name": "stdout",
          "output_type": "stream",
          "text": [
            "[CV 2/3] END ...........alpha=0, fit_prior=True;, score=0.909 total time=   0.3s\n"
          ]
        },
        {
          "name": "stderr",
          "output_type": "stream",
          "text": [
            "/usr/local/lib/python3.7/dist-packages/sklearn/naive_bayes.py:557: UserWarning: alpha too small will result in numeric errors, setting alpha = 1.0e-10\n",
            "  % _ALPHA_MIN\n"
          ]
        },
        {
          "name": "stdout",
          "output_type": "stream",
          "text": [
            "[CV 3/3] END ...........alpha=0, fit_prior=True;, score=0.953 total time=   0.3s\n",
            "[CV 1/3] END ........alpha=0.1, fit_prior=False;, score=0.740 total time=   0.3s\n",
            "[CV 2/3] END ........alpha=0.1, fit_prior=False;, score=0.742 total time=   0.3s\n",
            "[CV 3/3] END ........alpha=0.1, fit_prior=False;, score=0.741 total time=   0.3s\n",
            "[CV 1/3] END .........alpha=0.1, fit_prior=True;, score=0.740 total time=   0.3s\n",
            "[CV 2/3] END .........alpha=0.1, fit_prior=True;, score=0.743 total time=   0.3s\n",
            "[CV 3/3] END .........alpha=0.1, fit_prior=True;, score=0.744 total time=   0.3s\n",
            "[CV 1/3] END .......alpha=0.01, fit_prior=False;, score=0.755 total time=   0.3s\n",
            "[CV 2/3] END .......alpha=0.01, fit_prior=False;, score=0.756 total time=   0.3s\n",
            "[CV 3/3] END .......alpha=0.01, fit_prior=False;, score=0.755 total time=   0.3s\n",
            "[CV 1/3] END ........alpha=0.01, fit_prior=True;, score=0.756 total time=   0.3s\n",
            "[CV 2/3] END ........alpha=0.01, fit_prior=True;, score=0.756 total time=   0.3s\n",
            "[CV 3/3] END ........alpha=0.01, fit_prior=True;, score=0.755 total time=   0.3s\n",
            "[CV 1/3] END ......alpha=0.001, fit_prior=False;, score=0.788 total time=   0.3s\n",
            "[CV 2/3] END ......alpha=0.001, fit_prior=False;, score=0.785 total time=   0.3s\n",
            "[CV 3/3] END ......alpha=0.001, fit_prior=False;, score=0.786 total time=   0.3s\n",
            "[CV 1/3] END .......alpha=0.001, fit_prior=True;, score=0.789 total time=   0.3s\n",
            "[CV 2/3] END .......alpha=0.001, fit_prior=True;, score=0.786 total time=   0.3s\n",
            "[CV 3/3] END .......alpha=0.001, fit_prior=True;, score=0.787 total time=   0.3s\n"
          ]
        },
        {
          "name": "stderr",
          "output_type": "stream",
          "text": [
            "/usr/local/lib/python3.7/dist-packages/sklearn/naive_bayes.py:557: UserWarning: alpha too small will result in numeric errors, setting alpha = 1.0e-10\n",
            "  % _ALPHA_MIN\n"
          ]
        },
        {
          "name": "stdout",
          "output_type": "stream",
          "text": [
            "Fitting 3 folds for each of 10 candidates, totalling 30 fits\n",
            "[CV 1/3] END ..........alpha=1, fit_prior=False;, score=0.839 total time=   0.2s\n",
            "[CV 2/3] END ..........alpha=1, fit_prior=False;, score=0.827 total time=   0.2s\n",
            "[CV 3/3] END ..........alpha=1, fit_prior=False;, score=0.850 total time=   0.1s\n",
            "[CV 1/3] END ...........alpha=1, fit_prior=True;, score=0.839 total time=   0.2s\n",
            "[CV 2/3] END ...........alpha=1, fit_prior=True;, score=0.827 total time=   0.1s\n",
            "[CV 3/3] END ...........alpha=1, fit_prior=True;, score=0.851 total time=   0.2s\n",
            "[CV 1/3] END ..........alpha=0, fit_prior=False;, score=0.880 total time=   0.2s\n"
          ]
        },
        {
          "name": "stderr",
          "output_type": "stream",
          "text": [
            "/usr/local/lib/python3.7/dist-packages/sklearn/naive_bayes.py:557: UserWarning: alpha too small will result in numeric errors, setting alpha = 1.0e-10\n",
            "  % _ALPHA_MIN\n",
            "/usr/local/lib/python3.7/dist-packages/sklearn/naive_bayes.py:557: UserWarning: alpha too small will result in numeric errors, setting alpha = 1.0e-10\n",
            "  % _ALPHA_MIN\n"
          ]
        },
        {
          "name": "stdout",
          "output_type": "stream",
          "text": [
            "[CV 2/3] END ..........alpha=0, fit_prior=False;, score=0.862 total time=   0.2s\n",
            "[CV 3/3] END ..........alpha=0, fit_prior=False;, score=0.893 total time=   0.2s\n"
          ]
        },
        {
          "name": "stderr",
          "output_type": "stream",
          "text": [
            "/usr/local/lib/python3.7/dist-packages/sklearn/naive_bayes.py:557: UserWarning: alpha too small will result in numeric errors, setting alpha = 1.0e-10\n",
            "  % _ALPHA_MIN\n",
            "/usr/local/lib/python3.7/dist-packages/sklearn/naive_bayes.py:557: UserWarning: alpha too small will result in numeric errors, setting alpha = 1.0e-10\n",
            "  % _ALPHA_MIN\n"
          ]
        },
        {
          "name": "stdout",
          "output_type": "stream",
          "text": [
            "[CV 1/3] END ...........alpha=0, fit_prior=True;, score=0.880 total time=   0.2s\n",
            "[CV 2/3] END ...........alpha=0, fit_prior=True;, score=0.862 total time=   0.2s\n"
          ]
        },
        {
          "name": "stderr",
          "output_type": "stream",
          "text": [
            "/usr/local/lib/python3.7/dist-packages/sklearn/naive_bayes.py:557: UserWarning: alpha too small will result in numeric errors, setting alpha = 1.0e-10\n",
            "  % _ALPHA_MIN\n",
            "/usr/local/lib/python3.7/dist-packages/sklearn/naive_bayes.py:557: UserWarning: alpha too small will result in numeric errors, setting alpha = 1.0e-10\n",
            "  % _ALPHA_MIN\n"
          ]
        },
        {
          "name": "stdout",
          "output_type": "stream",
          "text": [
            "[CV 3/3] END ...........alpha=0, fit_prior=True;, score=0.893 total time=   0.2s\n",
            "[CV 1/3] END ........alpha=0.1, fit_prior=False;, score=0.679 total time=   0.2s\n",
            "[CV 2/3] END ........alpha=0.1, fit_prior=False;, score=0.676 total time=   0.2s\n",
            "[CV 3/3] END ........alpha=0.1, fit_prior=False;, score=0.679 total time=   0.2s\n",
            "[CV 1/3] END .........alpha=0.1, fit_prior=True;, score=0.679 total time=   0.2s\n",
            "[CV 2/3] END .........alpha=0.1, fit_prior=True;, score=0.678 total time=   0.2s\n",
            "[CV 3/3] END .........alpha=0.1, fit_prior=True;, score=0.681 total time=   0.2s\n",
            "[CV 1/3] END .......alpha=0.01, fit_prior=False;, score=0.690 total time=   0.2s\n",
            "[CV 2/3] END .......alpha=0.01, fit_prior=False;, score=0.689 total time=   0.2s\n",
            "[CV 3/3] END .......alpha=0.01, fit_prior=False;, score=0.694 total time=   0.2s\n",
            "[CV 1/3] END ........alpha=0.01, fit_prior=True;, score=0.692 total time=   0.2s\n",
            "[CV 2/3] END ........alpha=0.01, fit_prior=True;, score=0.689 total time=   0.2s\n",
            "[CV 3/3] END ........alpha=0.01, fit_prior=True;, score=0.694 total time=   0.2s\n",
            "[CV 1/3] END ......alpha=0.001, fit_prior=False;, score=0.725 total time=   0.2s\n",
            "[CV 2/3] END ......alpha=0.001, fit_prior=False;, score=0.719 total time=   0.2s\n",
            "[CV 3/3] END ......alpha=0.001, fit_prior=False;, score=0.722 total time=   0.2s\n",
            "[CV 1/3] END .......alpha=0.001, fit_prior=True;, score=0.726 total time=   0.2s\n",
            "[CV 2/3] END .......alpha=0.001, fit_prior=True;, score=0.718 total time=   0.2s\n",
            "[CV 3/3] END .......alpha=0.001, fit_prior=True;, score=0.722 total time=   0.2s\n",
            "Fitting 3 folds for each of 10 candidates, totalling 30 fits\n",
            "[CV 1/3] END ..........alpha=1, fit_prior=False;, score=0.766 total time=   0.0s\n"
          ]
        },
        {
          "name": "stderr",
          "output_type": "stream",
          "text": [
            "/usr/local/lib/python3.7/dist-packages/sklearn/naive_bayes.py:557: UserWarning: alpha too small will result in numeric errors, setting alpha = 1.0e-10\n",
            "  % _ALPHA_MIN\n"
          ]
        },
        {
          "name": "stdout",
          "output_type": "stream",
          "text": [
            "[CV 2/3] END ..........alpha=1, fit_prior=False;, score=0.773 total time=   0.0s\n",
            "[CV 3/3] END ..........alpha=1, fit_prior=False;, score=0.787 total time=   0.0s\n",
            "[CV 1/3] END ...........alpha=1, fit_prior=True;, score=0.767 total time=   0.0s\n",
            "[CV 2/3] END ...........alpha=1, fit_prior=True;, score=0.773 total time=   0.0s\n",
            "[CV 3/3] END ...........alpha=1, fit_prior=True;, score=0.788 total time=   0.0s\n"
          ]
        },
        {
          "name": "stderr",
          "output_type": "stream",
          "text": [
            "/usr/local/lib/python3.7/dist-packages/sklearn/naive_bayes.py:557: UserWarning: alpha too small will result in numeric errors, setting alpha = 1.0e-10\n",
            "  % _ALPHA_MIN\n",
            "/usr/local/lib/python3.7/dist-packages/sklearn/naive_bayes.py:557: UserWarning: alpha too small will result in numeric errors, setting alpha = 1.0e-10\n",
            "  % _ALPHA_MIN\n",
            "/usr/local/lib/python3.7/dist-packages/sklearn/naive_bayes.py:557: UserWarning: alpha too small will result in numeric errors, setting alpha = 1.0e-10\n",
            "  % _ALPHA_MIN\n",
            "/usr/local/lib/python3.7/dist-packages/sklearn/naive_bayes.py:557: UserWarning: alpha too small will result in numeric errors, setting alpha = 1.0e-10\n",
            "  % _ALPHA_MIN\n"
          ]
        },
        {
          "name": "stdout",
          "output_type": "stream",
          "text": [
            "[CV 1/3] END ..........alpha=0, fit_prior=False;, score=0.826 total time=   0.0s\n",
            "[CV 2/3] END ..........alpha=0, fit_prior=False;, score=0.818 total time=   0.0s\n",
            "[CV 3/3] END ..........alpha=0, fit_prior=False;, score=0.839 total time=   0.0s\n",
            "[CV 1/3] END ...........alpha=0, fit_prior=True;, score=0.826 total time=   0.1s\n"
          ]
        },
        {
          "name": "stderr",
          "output_type": "stream",
          "text": [
            "/usr/local/lib/python3.7/dist-packages/sklearn/naive_bayes.py:557: UserWarning: alpha too small will result in numeric errors, setting alpha = 1.0e-10\n",
            "  % _ALPHA_MIN\n",
            "/usr/local/lib/python3.7/dist-packages/sklearn/naive_bayes.py:557: UserWarning: alpha too small will result in numeric errors, setting alpha = 1.0e-10\n",
            "  % _ALPHA_MIN\n"
          ]
        },
        {
          "name": "stdout",
          "output_type": "stream",
          "text": [
            "[CV 2/3] END ...........alpha=0, fit_prior=True;, score=0.818 total time=   0.1s\n",
            "[CV 3/3] END ...........alpha=0, fit_prior=True;, score=0.839 total time=   0.0s\n",
            "[CV 1/3] END ........alpha=0.1, fit_prior=False;, score=0.766 total time=   0.1s\n",
            "[CV 2/3] END ........alpha=0.1, fit_prior=False;, score=0.768 total time=   0.0s\n",
            "[CV 3/3] END ........alpha=0.1, fit_prior=False;, score=0.777 total time=   0.0s\n",
            "[CV 1/3] END .........alpha=0.1, fit_prior=True;, score=0.766 total time=   0.0s\n",
            "[CV 2/3] END .........alpha=0.1, fit_prior=True;, score=0.768 total time=   0.0s\n",
            "[CV 3/3] END .........alpha=0.1, fit_prior=True;, score=0.778 total time=   0.0s\n",
            "[CV 1/3] END .......alpha=0.01, fit_prior=False;, score=0.781 total time=   0.0s\n",
            "[CV 2/3] END .......alpha=0.01, fit_prior=False;, score=0.782 total time=   0.0s\n",
            "[CV 3/3] END .......alpha=0.01, fit_prior=False;, score=0.795 total time=   0.0s\n",
            "[CV 1/3] END ........alpha=0.01, fit_prior=True;, score=0.782 total time=   0.0s\n",
            "[CV 2/3] END ........alpha=0.01, fit_prior=True;, score=0.782 total time=   0.0s\n",
            "[CV 3/3] END ........alpha=0.01, fit_prior=True;, score=0.796 total time=   0.0s\n",
            "[CV 1/3] END ......alpha=0.001, fit_prior=False;, score=0.793 total time=   0.0s\n",
            "[CV 2/3] END ......alpha=0.001, fit_prior=False;, score=0.796 total time=   0.0s\n",
            "[CV 3/3] END ......alpha=0.001, fit_prior=False;, score=0.807 total time=   0.0s\n",
            "[CV 1/3] END .......alpha=0.001, fit_prior=True;, score=0.793 total time=   0.0s\n",
            "[CV 2/3] END .......alpha=0.001, fit_prior=True;, score=0.797 total time=   0.0s\n",
            "[CV 3/3] END .......alpha=0.001, fit_prior=True;, score=0.808 total time=   0.0s\n"
          ]
        },
        {
          "name": "stderr",
          "output_type": "stream",
          "text": [
            "/usr/local/lib/python3.7/dist-packages/sklearn/naive_bayes.py:557: UserWarning: alpha too small will result in numeric errors, setting alpha = 1.0e-10\n",
            "  % _ALPHA_MIN\n"
          ]
        }
      ],
      "source": [
        "# fitting the model for grid search \n",
        "nb_title_tuned = nb_title_tuned.fit(X_train_title_bow, y_train)\n",
        "nb_profile_tuned = nb_profile_tuned.fit(X_train_profile_bow, y_train)\n",
        "nb_description_tuned = nb_description_tuned.fit(X_train_description_bow, y_train)\n",
        "nb_requirements_tuned = nb_requirements_tuned.fit(X_train_requirements_bow, y_train)\n",
        "nb_benefits_tuned = nb_benefits_tuned.fit(X_train_benefits_bow, y_train)"
      ]
    },
    {
      "cell_type": "markdown",
      "metadata": {
        "id": "q6d_OLfJ2M-S"
      },
      "source": [
        "This gives the best multinomialNB parameters."
      ]
    },
    {
      "cell_type": "code",
      "execution_count": null,
      "metadata": {
        "colab": {
          "base_uri": "https://localhost:8080/"
        },
        "id": "bdUf8MSBjTH5",
        "outputId": "02097a63-613c-422f-934f-c2bfeb904da9"
      },
      "outputs": [
        {
          "name": "stdout",
          "output_type": "stream",
          "text": [
            "{'alpha': 0, 'fit_prior': True}\n",
            "{'alpha': 0, 'fit_prior': True}\n",
            "{'alpha': 0, 'fit_prior': True}\n",
            "{'alpha': 0, 'fit_prior': True}\n",
            "{'alpha': 0, 'fit_prior': True}\n"
          ]
        }
      ],
      "source": [
        "# print best parameter after tuning \n",
        "print(nb_title_tuned.best_params_) \n",
        "print(nb_profile_tuned.best_params_) \n",
        "print(nb_description_tuned.best_params_) \n",
        "print(nb_requirements_tuned.best_params_) \n",
        "print(nb_benefits_tuned.best_params_)\n",
        "\n",
        "#result:\n",
        "# {'alpha': 0, 'fit_prior': True}\n",
        "# {'alpha': 0, 'fit_prior': True}\n",
        "# {'alpha': 0, 'fit_prior': True}\n",
        "# {'alpha': 0, 'fit_prior': True}\n",
        "# {'alpha': 0, 'fit_prior': True}"
      ]
    },
    {
      "cell_type": "code",
      "execution_count": null,
      "metadata": {
        "id": "cjhtO7gmk6fa"
      },
      "outputs": [],
      "source": [
        "nb_title_train_pred = nb_title_tuned.predict(X_train_title_bow)\n",
        "nb_profile_train_pred = nb_profile_tuned.predict(X_train_profile_bow)\n",
        "nb_description_train_pred = nb_description_tuned.predict(X_train_description_bow)\n",
        "nb_requirements_train_pred = nb_requirements_tuned.predict(X_train_requirements_bow)\n",
        "nb_benefits_train_pred = nb_benefits_tuned.predict(X_train_benefits_bow)"
      ]
    },
    {
      "cell_type": "code",
      "execution_count": null,
      "metadata": {
        "id": "dwXfTe45sDGd"
      },
      "outputs": [],
      "source": [
        "X_train_pred = [nb_title_train_pred, nb_profile_train_pred, nb_description_train_pred, nb_description_train_pred, nb_benefits_train_pred]\n",
        "X_train_pred = np.array(X_train_pred)\n",
        "X_train_pred = X_train_pred.T"
      ]
    },
    {
      "cell_type": "code",
      "execution_count": null,
      "metadata": {
        "id": "kRyiIFmHsr6d"
      },
      "outputs": [],
      "source": [
        "rfc = RandomForestClassifier(oob_score = True)\n",
        "result = rfc.fit(X_train_pred,y_train)"
      ]
    },
    {
      "cell_type": "code",
      "execution_count": null,
      "metadata": {
        "colab": {
          "base_uri": "https://localhost:8080/",
          "height": 438
        },
        "id": "xQ2ncIACs5Zj",
        "outputId": "72d48a0b-e4db-4fbb-c69a-ca96b7b6da5a"
      },
      "outputs": [
        {
          "name": "stdout",
          "output_type": "stream",
          "text": [
            "Accuracy Score: 0.9993785732040765\n",
            "Precision Score: 0.9898348157560356\n",
            "Recall Score: 0.9974391805377721\n",
            "F1 Score: 0.993622448979592\n",
            "ROC Score: 0.9992824821701419\n"
          ]
        },
        {
          "name": "stderr",
          "output_type": "stream",
          "text": [
            "/usr/local/lib/python3.7/dist-packages/sklearn/utils/deprecation.py:87: FutureWarning: Function plot_roc_curve is deprecated; Function :func:`plot_roc_curve` is deprecated in 1.0 and will be removed in 1.2. Use one of the class methods: :meth:`sklearn.metric.RocCurveDisplay.from_predictions` or :meth:`sklearn.metric.RocCurveDisplay.from_estimator`.\n",
            "  warnings.warn(msg, category=FutureWarning)\n"
          ]
        },
        {
          "name": "stdout",
          "output_type": "stream",
          "text": [
            "<sklearn.metrics._plot.roc_curve.RocCurveDisplay object at 0x7f71edf03c90>\n"
          ]
        },
        {
          "data": {
            "image/png": "[encoded data removed]",
            "text/plain": [
              "<Figure size 432x288 with 1 Axes>"
            ]
          },
          "metadata": {
            "needs_background": "light"
          },
          "output_type": "display_data"
        }
      ],
      "source": [
        "#Training results\n",
        "y_train_rfc_pred = rfc.predict(X_train_pred)\n",
        "\n",
        "print('Accuracy Score:', (accuracy_score(y_train, y_train_rfc_pred)))\n",
        "print('Precision Score:', (precision_score(y_train, y_train_rfc_pred)))\n",
        "print('Recall Score:', (recall_score(y_train,y_train_rfc_pred)))\n",
        "print('F1 Score:', (f1_score(y_train, y_train_rfc_pred)))\n",
        "\n",
        "y_score_rf = rfc.predict_proba(X_train_pred)\n",
        "print('ROC Score:', (roc_auc_score(y_train, y_score_rf[:,1])))\n",
        "print(plot_roc_curve(rfc, X_train_pred, y_train))"
      ]
    },
    {
      "cell_type": "code",
      "execution_count": null,
      "metadata": {
        "id": "cGgamL8wtrsV"
      },
      "outputs": [],
      "source": [
        "#Finding X_test_pred from making mnb predictions\n",
        "nb_title_test_pred = nb_title_tuned.predict(X_test_title_bow)\n",
        "nb_profile_test_pred = nb_profile_tuned.predict(X_test_profile_bow)\n",
        "nb_description_test_pred = nb_description_tuned.predict(X_test_description_bow)\n",
        "nb_requirements_test_pred = nb_requirements_tuned.predict(X_test_requirements_bow)\n",
        "nb_benefits_test_pred = nb_benefits_tuned.predict(X_test_benefits_bow)"
      ]
    },
    {
      "cell_type": "code",
      "execution_count": null,
      "metadata": {
        "id": "p9p_7h6kuEnu"
      },
      "outputs": [],
      "source": [
        "X_test_pred = [nb_title_test_pred, nb_profile_test_pred, nb_description_test_pred, nb_description_test_pred, nb_benefits_test_pred]\n",
        "X_test_pred = np.array(X_test_pred)\n",
        "X_test_pred = X_test_pred.T"
      ]
    },
    {
      "cell_type": "markdown",
      "metadata": {
        "id": "iZFZVZQO2ejb"
      },
      "source": [
        "I fitted the BOW models into a random forest and generated a f1 of 0.8."
      ]
    },
    {
      "cell_type": "code",
      "execution_count": null,
      "metadata": {
        "colab": {
          "base_uri": "https://localhost:8080/",
          "height": 438
        },
        "id": "k9e_lL0Lu0QF",
        "outputId": "cee5d1dc-2d96-4e60-fdb1-a113c706d081"
      },
      "outputs": [
        {
          "name": "stdout",
          "output_type": "stream",
          "text": [
            "Accuracy Score: 0.9860178970917226\n",
            "Precision Score: 0.9838709677419355\n",
            "Recall Score: 0.7176470588235294\n",
            "F1 Score: 0.8299319727891156\n",
            "ROC Score: 0.9013125626057821\n",
            "<sklearn.metrics._plot.roc_curve.RocCurveDisplay object at 0x7f71e84569d0>\n"
          ]
        },
        {
          "name": "stderr",
          "output_type": "stream",
          "text": [
            "/usr/local/lib/python3.7/dist-packages/sklearn/utils/deprecation.py:87: FutureWarning: Function plot_roc_curve is deprecated; Function :func:`plot_roc_curve` is deprecated in 1.0 and will be removed in 1.2. Use one of the class methods: :meth:`sklearn.metric.RocCurveDisplay.from_predictions` or :meth:`sklearn.metric.RocCurveDisplay.from_estimator`.\n",
            "  warnings.warn(msg, category=FutureWarning)\n"
          ]
        },
        {
          "data": {
            "image/png": "[encoded data removed]",
            "text/plain": [
              "<Figure size 432x288 with 1 Axes>"
            ]
          },
          "metadata": {
            "needs_background": "light"
          },
          "output_type": "display_data"
        }
      ],
      "source": [
        "#Testing results\n",
        "y_test_rfc_pred = rfc.predict(X_test_pred)\n",
        "\n",
        "print('Accuracy Score:', (accuracy_score(y_test, y_test_rfc_pred)))\n",
        "print('Precision Score:', (precision_score(y_test, y_test_rfc_pred)))\n",
        "print('Recall Score:', (recall_score(y_test,y_test_rfc_pred)))\n",
        "print('F1 Score:', (f1_score(y_test, y_test_rfc_pred)))\n",
        "\n",
        "y_score_rf_test = rfc.predict_proba(X_test_pred)\n",
        "print('ROC Score:', (roc_auc_score(y_test, y_score_rf_test[:,1])))\n",
        "print(plot_roc_curve(rfc, X_test_pred, y_test))"
      ]
    },
    {
      "cell_type": "code",
      "execution_count": null,
      "metadata": {
        "id": "0O0CncQr7jMA"
      },
      "outputs": [],
      "source": [
        "#inclusion of tfidf"
      ]
    },
    {
      "cell_type": "code",
      "execution_count": null,
      "metadata": {
        "id": "kcJiZtfS7jOF"
      },
      "outputs": [],
      "source": [
        "tfidf_vect_title = TfidfVectorizer(lowercase=False, ngram_range=(1, 4), stop_words='english')\n",
        "tfidf_vect_profile = TfidfVectorizer(lowercase=False, ngram_range=(1, 4), stop_words='english')\n",
        "tfidf_vect_description = TfidfVectorizer(lowercase=False, ngram_range=(1, 4), stop_words='english')\n",
        "tfidf_vect_requirements = TfidfVectorizer(lowercase=False, ngram_range=(1, 4), stop_words='english')\n",
        "tfidf_vect_benefits = TfidfVectorizer(lowercase=False, ngram_range=(1, 4), stop_words='english')\n",
        "\n",
        "tfidfnb_title_tuned = GridSearchCV(MultinomialNB(), nb_param_grid,cv = 3,scoring = 'roc_auc',verbose = 3) \n",
        "tfidfnb_profile_tuned = GridSearchCV(MultinomialNB(), nb_param_grid,cv = 3,scoring = 'roc_auc',verbose = 3) \n",
        "tfidfnb_description_tuned = GridSearchCV(MultinomialNB(), nb_param_grid,cv = 3,scoring = 'roc_auc',verbose = 3) \n",
        "tfidfnb_requirements_tuned = GridSearchCV(MultinomialNB(), nb_param_grid,cv = 3,scoring = 'roc_auc',verbose = 3) \n",
        "tfidfnb_benefits_tuned = GridSearchCV(MultinomialNB(), nb_param_grid,cv = 3,scoring = 'roc_auc',verbose = 3) "
      ]
    },
    {
      "cell_type": "code",
      "execution_count": null,
      "metadata": {
        "id": "jbHMl4Tu7jQe"
      },
      "outputs": [],
      "source": [
        "X_train_title_tfidf = tfidf_vect_title.fit_transform(X_train_title_pro)\n",
        "X_test_title_tfidf = tfidf_vect_title.transform(X_test_title_pro)\n",
        "\n",
        "X_train_profile_tfidf = tfidf_vect_profile.fit_transform(X_train_profile_pro)\n",
        "X_test_profile_tfidf = tfidf_vect_profile.transform(X_test_profile_pro)\n",
        "\n",
        "X_train_description_tfidf = tfidf_vect_description.fit_transform(X_train_description_pro)\n",
        "X_test_description_tfidf = tfidf_vect_description.transform(X_test_description_pro)\n",
        "\n",
        "X_train_requirements_tfidf = tfidf_vect_requirements.fit_transform(X_train_requirements_pro)\n",
        "X_test_requirements_tfidf = tfidf_vect_requirements.transform(X_test_requirements_pro)\n",
        "\n",
        "X_train_benefits_tfidf = tfidf_vect_benefits.fit_transform(X_train_benefits_pro)\n",
        "X_test_benefits_tfidf = tfidf_vect_benefits.transform(X_test_benefits_pro)"
      ]
    },
    {
      "cell_type": "code",
      "execution_count": null,
      "metadata": {
        "colab": {
          "base_uri": "https://localhost:8080/"
        },
        "id": "j3Ah1jyn7jS8",
        "outputId": "cd6d38aa-3cb6-434f-84e8-2eaf71012627"
      },
      "outputs": [
        {
          "name": "stdout",
          "output_type": "stream",
          "text": [
            "Fitting 3 folds for each of 10 candidates, totalling 30 fits\n",
            "[CV 1/3] END ..........alpha=1, fit_prior=False;, score=0.796 total time=   0.0s\n",
            "[CV 2/3] END ..........alpha=1, fit_prior=False;, score=0.795 total time=   0.0s\n",
            "[CV 3/3] END ..........alpha=1, fit_prior=False;, score=0.849 total time=   0.0s\n",
            "[CV 1/3] END ...........alpha=1, fit_prior=True;, score=0.796 total time=   0.0s\n",
            "[CV 2/3] END ...........alpha=1, fit_prior=True;, score=0.795 total time=   0.0s\n",
            "[CV 3/3] END ...........alpha=1, fit_prior=True;, score=0.849 total time=   0.0s\n",
            "[CV 1/3] END ..........alpha=0, fit_prior=False;, score=0.875 total time=   0.0s\n",
            "[CV 2/3] END ..........alpha=0, fit_prior=False;, score=0.871 total time=   0.0s\n",
            "[CV 3/3] END ..........alpha=0, fit_prior=False;, score=0.888 total time=   0.0s\n",
            "[CV 1/3] END ...........alpha=0, fit_prior=True;, score=0.875 total time=   0.0s\n",
            "[CV 2/3] END ...........alpha=0, fit_prior=True;, score=0.871 total time=   0.0s\n",
            "[CV 3/3] END ...........alpha=0, fit_prior=True;, score=0.888 total time=   0.0s\n"
          ]
        },
        {
          "name": "stderr",
          "output_type": "stream",
          "text": [
            "/usr/local/lib/python3.7/dist-packages/sklearn/naive_bayes.py:557: UserWarning: alpha too small will result in numeric errors, setting alpha = 1.0e-10\n",
            "  % _ALPHA_MIN\n",
            "/usr/local/lib/python3.7/dist-packages/sklearn/naive_bayes.py:557: UserWarning: alpha too small will result in numeric errors, setting alpha = 1.0e-10\n",
            "  % _ALPHA_MIN\n",
            "/usr/local/lib/python3.7/dist-packages/sklearn/naive_bayes.py:557: UserWarning: alpha too small will result in numeric errors, setting alpha = 1.0e-10\n",
            "  % _ALPHA_MIN\n",
            "/usr/local/lib/python3.7/dist-packages/sklearn/naive_bayes.py:557: UserWarning: alpha too small will result in numeric errors, setting alpha = 1.0e-10\n",
            "  % _ALPHA_MIN\n",
            "/usr/local/lib/python3.7/dist-packages/sklearn/naive_bayes.py:557: UserWarning: alpha too small will result in numeric errors, setting alpha = 1.0e-10\n",
            "  % _ALPHA_MIN\n",
            "/usr/local/lib/python3.7/dist-packages/sklearn/naive_bayes.py:557: UserWarning: alpha too small will result in numeric errors, setting alpha = 1.0e-10\n",
            "  % _ALPHA_MIN\n"
          ]
        },
        {
          "name": "stdout",
          "output_type": "stream",
          "text": [
            "[CV 1/3] END ........alpha=0.1, fit_prior=False;, score=0.833 total time=   0.0s\n",
            "[CV 2/3] END ........alpha=0.1, fit_prior=False;, score=0.823 total time=   0.0s\n",
            "[CV 3/3] END ........alpha=0.1, fit_prior=False;, score=0.869 total time=   0.0s\n",
            "[CV 1/3] END .........alpha=0.1, fit_prior=True;, score=0.833 total time=   0.0s\n",
            "[CV 2/3] END .........alpha=0.1, fit_prior=True;, score=0.823 total time=   0.0s\n",
            "[CV 3/3] END .........alpha=0.1, fit_prior=True;, score=0.869 total time=   0.0s\n",
            "[CV 1/3] END .......alpha=0.01, fit_prior=False;, score=0.853 total time=   0.0s\n",
            "[CV 2/3] END .......alpha=0.01, fit_prior=False;, score=0.841 total time=   0.0s\n",
            "[CV 3/3] END .......alpha=0.01, fit_prior=False;, score=0.878 total time=   0.0s\n",
            "[CV 1/3] END ........alpha=0.01, fit_prior=True;, score=0.853 total time=   0.0s\n",
            "[CV 2/3] END ........alpha=0.01, fit_prior=True;, score=0.841 total time=   0.0s\n",
            "[CV 3/3] END ........alpha=0.01, fit_prior=True;, score=0.878 total time=   0.0s\n",
            "[CV 1/3] END ......alpha=0.001, fit_prior=False;, score=0.867 total time=   0.0s\n",
            "[CV 2/3] END ......alpha=0.001, fit_prior=False;, score=0.856 total time=   0.0s\n",
            "[CV 3/3] END ......alpha=0.001, fit_prior=False;, score=0.887 total time=   0.0s\n",
            "[CV 1/3] END .......alpha=0.001, fit_prior=True;, score=0.867 total time=   0.0s\n",
            "[CV 2/3] END .......alpha=0.001, fit_prior=True;, score=0.856 total time=   0.0s\n",
            "[CV 3/3] END .......alpha=0.001, fit_prior=True;, score=0.887 total time=   0.0s\n",
            "Fitting 3 folds for each of 10 candidates, totalling 30 fits\n",
            "[CV 1/3] END ..........alpha=1, fit_prior=False;, score=0.890 total time=   0.1s\n"
          ]
        },
        {
          "name": "stderr",
          "output_type": "stream",
          "text": [
            "/usr/local/lib/python3.7/dist-packages/sklearn/naive_bayes.py:557: UserWarning: alpha too small will result in numeric errors, setting alpha = 1.0e-10\n",
            "  % _ALPHA_MIN\n"
          ]
        },
        {
          "name": "stdout",
          "output_type": "stream",
          "text": [
            "[CV 2/3] END ..........alpha=1, fit_prior=False;, score=0.895 total time=   0.1s\n",
            "[CV 3/3] END ..........alpha=1, fit_prior=False;, score=0.890 total time=   0.1s\n",
            "[CV 1/3] END ...........alpha=1, fit_prior=True;, score=0.890 total time=   0.1s\n",
            "[CV 2/3] END ...........alpha=1, fit_prior=True;, score=0.895 total time=   0.1s\n",
            "[CV 3/3] END ...........alpha=1, fit_prior=True;, score=0.890 total time=   0.1s\n",
            "[CV 1/3] END ..........alpha=0, fit_prior=False;, score=0.915 total time=   0.1s\n"
          ]
        },
        {
          "name": "stderr",
          "output_type": "stream",
          "text": [
            "/usr/local/lib/python3.7/dist-packages/sklearn/naive_bayes.py:557: UserWarning: alpha too small will result in numeric errors, setting alpha = 1.0e-10\n",
            "  % _ALPHA_MIN\n",
            "/usr/local/lib/python3.7/dist-packages/sklearn/naive_bayes.py:557: UserWarning: alpha too small will result in numeric errors, setting alpha = 1.0e-10\n",
            "  % _ALPHA_MIN\n",
            "/usr/local/lib/python3.7/dist-packages/sklearn/naive_bayes.py:557: UserWarning: alpha too small will result in numeric errors, setting alpha = 1.0e-10\n",
            "  % _ALPHA_MIN\n"
          ]
        },
        {
          "name": "stdout",
          "output_type": "stream",
          "text": [
            "[CV 2/3] END ..........alpha=0, fit_prior=False;, score=0.916 total time=   0.1s\n",
            "[CV 3/3] END ..........alpha=0, fit_prior=False;, score=0.916 total time=   0.1s\n",
            "[CV 1/3] END ...........alpha=0, fit_prior=True;, score=0.915 total time=   0.1s\n"
          ]
        },
        {
          "name": "stderr",
          "output_type": "stream",
          "text": [
            "/usr/local/lib/python3.7/dist-packages/sklearn/naive_bayes.py:557: UserWarning: alpha too small will result in numeric errors, setting alpha = 1.0e-10\n",
            "  % _ALPHA_MIN\n",
            "/usr/local/lib/python3.7/dist-packages/sklearn/naive_bayes.py:557: UserWarning: alpha too small will result in numeric errors, setting alpha = 1.0e-10\n",
            "  % _ALPHA_MIN\n",
            "/usr/local/lib/python3.7/dist-packages/sklearn/naive_bayes.py:557: UserWarning: alpha too small will result in numeric errors, setting alpha = 1.0e-10\n",
            "  % _ALPHA_MIN\n"
          ]
        },
        {
          "name": "stdout",
          "output_type": "stream",
          "text": [
            "[CV 2/3] END ...........alpha=0, fit_prior=True;, score=0.916 total time=   0.1s\n",
            "[CV 3/3] END ...........alpha=0, fit_prior=True;, score=0.917 total time=   0.1s\n",
            "[CV 1/3] END ........alpha=0.1, fit_prior=False;, score=0.833 total time=   0.1s\n",
            "[CV 2/3] END ........alpha=0.1, fit_prior=False;, score=0.844 total time=   0.1s\n",
            "[CV 3/3] END ........alpha=0.1, fit_prior=False;, score=0.830 total time=   0.1s\n",
            "[CV 1/3] END .........alpha=0.1, fit_prior=True;, score=0.833 total time=   0.1s\n",
            "[CV 2/3] END .........alpha=0.1, fit_prior=True;, score=0.844 total time=   0.1s\n",
            "[CV 3/3] END .........alpha=0.1, fit_prior=True;, score=0.830 total time=   0.1s\n",
            "[CV 1/3] END .......alpha=0.01, fit_prior=False;, score=0.855 total time=   0.1s\n",
            "[CV 2/3] END .......alpha=0.01, fit_prior=False;, score=0.862 total time=   0.1s\n",
            "[CV 3/3] END .......alpha=0.01, fit_prior=False;, score=0.859 total time=   0.1s\n",
            "[CV 1/3] END ........alpha=0.01, fit_prior=True;, score=0.855 total time=   0.1s\n",
            "[CV 2/3] END ........alpha=0.01, fit_prior=True;, score=0.863 total time=   0.1s\n",
            "[CV 3/3] END ........alpha=0.01, fit_prior=True;, score=0.859 total time=   0.1s\n",
            "[CV 1/3] END ......alpha=0.001, fit_prior=False;, score=0.908 total time=   0.1s\n",
            "[CV 2/3] END ......alpha=0.001, fit_prior=False;, score=0.907 total time=   0.1s\n",
            "[CV 3/3] END ......alpha=0.001, fit_prior=False;, score=0.907 total time=   0.1s\n",
            "[CV 1/3] END .......alpha=0.001, fit_prior=True;, score=0.909 total time=   0.1s\n",
            "[CV 2/3] END .......alpha=0.001, fit_prior=True;, score=0.907 total time=   0.1s\n",
            "[CV 3/3] END .......alpha=0.001, fit_prior=True;, score=0.908 total time=   0.1s\n",
            "Fitting 3 folds for each of 10 candidates, totalling 30 fits\n"
          ]
        },
        {
          "name": "stderr",
          "output_type": "stream",
          "text": [
            "/usr/local/lib/python3.7/dist-packages/sklearn/naive_bayes.py:557: UserWarning: alpha too small will result in numeric errors, setting alpha = 1.0e-10\n",
            "  % _ALPHA_MIN\n"
          ]
        },
        {
          "name": "stdout",
          "output_type": "stream",
          "text": [
            "[CV 1/3] END ..........alpha=1, fit_prior=False;, score=0.874 total time=   0.3s\n",
            "[CV 2/3] END ..........alpha=1, fit_prior=False;, score=0.871 total time=   0.3s\n",
            "[CV 3/3] END ..........alpha=1, fit_prior=False;, score=0.907 total time=   0.3s\n",
            "[CV 1/3] END ...........alpha=1, fit_prior=True;, score=0.874 total time=   0.3s\n",
            "[CV 2/3] END ...........alpha=1, fit_prior=True;, score=0.871 total time=   0.3s\n",
            "[CV 3/3] END ...........alpha=1, fit_prior=True;, score=0.907 total time=   0.3s\n"
          ]
        },
        {
          "name": "stderr",
          "output_type": "stream",
          "text": [
            "/usr/local/lib/python3.7/dist-packages/sklearn/naive_bayes.py:557: UserWarning: alpha too small will result in numeric errors, setting alpha = 1.0e-10\n",
            "  % _ALPHA_MIN\n"
          ]
        },
        {
          "name": "stdout",
          "output_type": "stream",
          "text": [
            "[CV 1/3] END ..........alpha=0, fit_prior=False;, score=0.951 total time=   0.3s\n"
          ]
        },
        {
          "name": "stderr",
          "output_type": "stream",
          "text": [
            "/usr/local/lib/python3.7/dist-packages/sklearn/naive_bayes.py:557: UserWarning: alpha too small will result in numeric errors, setting alpha = 1.0e-10\n",
            "  % _ALPHA_MIN\n"
          ]
        },
        {
          "name": "stdout",
          "output_type": "stream",
          "text": [
            "[CV 2/3] END ..........alpha=0, fit_prior=False;, score=0.935 total time=   0.4s\n"
          ]
        },
        {
          "name": "stderr",
          "output_type": "stream",
          "text": [
            "/usr/local/lib/python3.7/dist-packages/sklearn/naive_bayes.py:557: UserWarning: alpha too small will result in numeric errors, setting alpha = 1.0e-10\n",
            "  % _ALPHA_MIN\n"
          ]
        },
        {
          "name": "stdout",
          "output_type": "stream",
          "text": [
            "[CV 3/3] END ..........alpha=0, fit_prior=False;, score=0.964 total time=   0.3s\n"
          ]
        },
        {
          "name": "stderr",
          "output_type": "stream",
          "text": [
            "/usr/local/lib/python3.7/dist-packages/sklearn/naive_bayes.py:557: UserWarning: alpha too small will result in numeric errors, setting alpha = 1.0e-10\n",
            "  % _ALPHA_MIN\n"
          ]
        },
        {
          "name": "stdout",
          "output_type": "stream",
          "text": [
            "[CV 1/3] END ...........alpha=0, fit_prior=True;, score=0.952 total time=   0.3s\n"
          ]
        },
        {
          "name": "stderr",
          "output_type": "stream",
          "text": [
            "/usr/local/lib/python3.7/dist-packages/sklearn/naive_bayes.py:557: UserWarning: alpha too small will result in numeric errors, setting alpha = 1.0e-10\n",
            "  % _ALPHA_MIN\n"
          ]
        },
        {
          "name": "stdout",
          "output_type": "stream",
          "text": [
            "[CV 2/3] END ...........alpha=0, fit_prior=True;, score=0.935 total time=   0.4s\n"
          ]
        },
        {
          "name": "stderr",
          "output_type": "stream",
          "text": [
            "/usr/local/lib/python3.7/dist-packages/sklearn/naive_bayes.py:557: UserWarning: alpha too small will result in numeric errors, setting alpha = 1.0e-10\n",
            "  % _ALPHA_MIN\n"
          ]
        },
        {
          "name": "stdout",
          "output_type": "stream",
          "text": [
            "[CV 3/3] END ...........alpha=0, fit_prior=True;, score=0.965 total time=   0.3s\n",
            "[CV 1/3] END ........alpha=0.1, fit_prior=False;, score=0.931 total time=   0.3s\n",
            "[CV 2/3] END ........alpha=0.1, fit_prior=False;, score=0.926 total time=   0.4s\n",
            "[CV 3/3] END ........alpha=0.1, fit_prior=False;, score=0.952 total time=   0.3s\n",
            "[CV 1/3] END .........alpha=0.1, fit_prior=True;, score=0.931 total time=   0.3s\n",
            "[CV 2/3] END .........alpha=0.1, fit_prior=True;, score=0.926 total time=   0.3s\n",
            "[CV 3/3] END .........alpha=0.1, fit_prior=True;, score=0.952 total time=   0.3s\n",
            "[CV 1/3] END .......alpha=0.01, fit_prior=False;, score=0.893 total time=   0.3s\n",
            "[CV 2/3] END .......alpha=0.01, fit_prior=False;, score=0.893 total time=   0.3s\n",
            "[CV 3/3] END .......alpha=0.01, fit_prior=False;, score=0.911 total time=   0.3s\n",
            "[CV 1/3] END ........alpha=0.01, fit_prior=True;, score=0.895 total time=   0.3s\n",
            "[CV 2/3] END ........alpha=0.01, fit_prior=True;, score=0.895 total time=   0.4s\n",
            "[CV 3/3] END ........alpha=0.01, fit_prior=True;, score=0.914 total time=   0.3s\n",
            "[CV 1/3] END ......alpha=0.001, fit_prior=False;, score=0.856 total time=   0.3s\n",
            "[CV 2/3] END ......alpha=0.001, fit_prior=False;, score=0.855 total time=   0.3s\n",
            "[CV 3/3] END ......alpha=0.001, fit_prior=False;, score=0.865 total time=   0.3s\n",
            "[CV 1/3] END .......alpha=0.001, fit_prior=True;, score=0.866 total time=   0.3s\n",
            "[CV 2/3] END .......alpha=0.001, fit_prior=True;, score=0.864 total time=   0.4s\n",
            "[CV 3/3] END .......alpha=0.001, fit_prior=True;, score=0.878 total time=   0.3s\n"
          ]
        },
        {
          "name": "stderr",
          "output_type": "stream",
          "text": [
            "/usr/local/lib/python3.7/dist-packages/sklearn/naive_bayes.py:557: UserWarning: alpha too small will result in numeric errors, setting alpha = 1.0e-10\n",
            "  % _ALPHA_MIN\n"
          ]
        },
        {
          "name": "stdout",
          "output_type": "stream",
          "text": [
            "Fitting 3 folds for each of 10 candidates, totalling 30 fits\n",
            "[CV 1/3] END ..........alpha=1, fit_prior=False;, score=0.788 total time=   0.2s\n",
            "[CV 2/3] END ..........alpha=1, fit_prior=False;, score=0.781 total time=   0.2s\n",
            "[CV 3/3] END ..........alpha=1, fit_prior=False;, score=0.808 total time=   0.2s\n",
            "[CV 1/3] END ...........alpha=1, fit_prior=True;, score=0.788 total time=   0.2s\n",
            "[CV 2/3] END ...........alpha=1, fit_prior=True;, score=0.781 total time=   0.2s\n",
            "[CV 3/3] END ...........alpha=1, fit_prior=True;, score=0.808 total time=   0.2s\n",
            "[CV 1/3] END ..........alpha=0, fit_prior=False;, score=0.873 total time=   0.2s\n"
          ]
        },
        {
          "name": "stderr",
          "output_type": "stream",
          "text": [
            "/usr/local/lib/python3.7/dist-packages/sklearn/naive_bayes.py:557: UserWarning: alpha too small will result in numeric errors, setting alpha = 1.0e-10\n",
            "  % _ALPHA_MIN\n",
            "/usr/local/lib/python3.7/dist-packages/sklearn/naive_bayes.py:557: UserWarning: alpha too small will result in numeric errors, setting alpha = 1.0e-10\n",
            "  % _ALPHA_MIN\n"
          ]
        },
        {
          "name": "stdout",
          "output_type": "stream",
          "text": [
            "[CV 2/3] END ..........alpha=0, fit_prior=False;, score=0.862 total time=   0.2s\n",
            "[CV 3/3] END ..........alpha=0, fit_prior=False;, score=0.899 total time=   0.2s\n"
          ]
        },
        {
          "name": "stderr",
          "output_type": "stream",
          "text": [
            "/usr/local/lib/python3.7/dist-packages/sklearn/naive_bayes.py:557: UserWarning: alpha too small will result in numeric errors, setting alpha = 1.0e-10\n",
            "  % _ALPHA_MIN\n",
            "/usr/local/lib/python3.7/dist-packages/sklearn/naive_bayes.py:557: UserWarning: alpha too small will result in numeric errors, setting alpha = 1.0e-10\n",
            "  % _ALPHA_MIN\n"
          ]
        },
        {
          "name": "stdout",
          "output_type": "stream",
          "text": [
            "[CV 1/3] END ...........alpha=0, fit_prior=True;, score=0.873 total time=   0.2s\n",
            "[CV 2/3] END ...........alpha=0, fit_prior=True;, score=0.863 total time=   0.2s\n"
          ]
        },
        {
          "name": "stderr",
          "output_type": "stream",
          "text": [
            "/usr/local/lib/python3.7/dist-packages/sklearn/naive_bayes.py:557: UserWarning: alpha too small will result in numeric errors, setting alpha = 1.0e-10\n",
            "  % _ALPHA_MIN\n",
            "/usr/local/lib/python3.7/dist-packages/sklearn/naive_bayes.py:557: UserWarning: alpha too small will result in numeric errors, setting alpha = 1.0e-10\n",
            "  % _ALPHA_MIN\n"
          ]
        },
        {
          "name": "stdout",
          "output_type": "stream",
          "text": [
            "[CV 3/3] END ...........alpha=0, fit_prior=True;, score=0.899 total time=   0.2s\n",
            "[CV 1/3] END ........alpha=0.1, fit_prior=False;, score=0.836 total time=   0.2s\n",
            "[CV 2/3] END ........alpha=0.1, fit_prior=False;, score=0.820 total time=   0.2s\n",
            "[CV 3/3] END ........alpha=0.1, fit_prior=False;, score=0.859 total time=   0.2s\n",
            "[CV 1/3] END .........alpha=0.1, fit_prior=True;, score=0.836 total time=   0.2s\n",
            "[CV 2/3] END .........alpha=0.1, fit_prior=True;, score=0.820 total time=   0.2s\n",
            "[CV 3/3] END .........alpha=0.1, fit_prior=True;, score=0.859 total time=   0.2s\n",
            "[CV 1/3] END .......alpha=0.01, fit_prior=False;, score=0.770 total time=   0.2s\n",
            "[CV 2/3] END .......alpha=0.01, fit_prior=False;, score=0.772 total time=   0.2s\n",
            "[CV 3/3] END .......alpha=0.01, fit_prior=False;, score=0.792 total time=   0.2s\n",
            "[CV 1/3] END ........alpha=0.01, fit_prior=True;, score=0.771 total time=   0.2s\n",
            "[CV 2/3] END ........alpha=0.01, fit_prior=True;, score=0.772 total time=   0.2s\n",
            "[CV 3/3] END ........alpha=0.01, fit_prior=True;, score=0.793 total time=   0.2s\n",
            "[CV 1/3] END ......alpha=0.001, fit_prior=False;, score=0.762 total time=   0.2s\n",
            "[CV 2/3] END ......alpha=0.001, fit_prior=False;, score=0.763 total time=   0.2s\n",
            "[CV 3/3] END ......alpha=0.001, fit_prior=False;, score=0.783 total time=   0.2s\n",
            "[CV 1/3] END .......alpha=0.001, fit_prior=True;, score=0.767 total time=   0.2s\n",
            "[CV 2/3] END .......alpha=0.001, fit_prior=True;, score=0.768 total time=   0.2s\n",
            "[CV 3/3] END .......alpha=0.001, fit_prior=True;, score=0.787 total time=   0.2s\n",
            "Fitting 3 folds for each of 10 candidates, totalling 30 fits\n"
          ]
        },
        {
          "name": "stderr",
          "output_type": "stream",
          "text": [
            "/usr/local/lib/python3.7/dist-packages/sklearn/naive_bayes.py:557: UserWarning: alpha too small will result in numeric errors, setting alpha = 1.0e-10\n",
            "  % _ALPHA_MIN\n"
          ]
        },
        {
          "name": "stdout",
          "output_type": "stream",
          "text": [
            "[CV 1/3] END ..........alpha=1, fit_prior=False;, score=0.784 total time=   0.0s\n",
            "[CV 2/3] END ..........alpha=1, fit_prior=False;, score=0.788 total time=   0.0s\n",
            "[CV 3/3] END ..........alpha=1, fit_prior=False;, score=0.828 total time=   0.1s\n",
            "[CV 1/3] END ...........alpha=1, fit_prior=True;, score=0.784 total time=   0.0s\n",
            "[CV 2/3] END ...........alpha=1, fit_prior=True;, score=0.788 total time=   0.0s\n",
            "[CV 3/3] END ...........alpha=1, fit_prior=True;, score=0.828 total time=   0.0s\n",
            "[CV 1/3] END ..........alpha=0, fit_prior=False;, score=0.822 total time=   0.0s\n",
            "[CV 2/3] END ..........alpha=0, fit_prior=False;, score=0.835 total time=   0.0s\n",
            "[CV 3/3] END ..........alpha=0, fit_prior=False;, score=0.850 total time=   0.0s\n",
            "[CV 1/3] END ...........alpha=0, fit_prior=True;, score=0.822 total time=   0.0s\n"
          ]
        },
        {
          "name": "stderr",
          "output_type": "stream",
          "text": [
            "/usr/local/lib/python3.7/dist-packages/sklearn/naive_bayes.py:557: UserWarning: alpha too small will result in numeric errors, setting alpha = 1.0e-10\n",
            "  % _ALPHA_MIN\n",
            "/usr/local/lib/python3.7/dist-packages/sklearn/naive_bayes.py:557: UserWarning: alpha too small will result in numeric errors, setting alpha = 1.0e-10\n",
            "  % _ALPHA_MIN\n",
            "/usr/local/lib/python3.7/dist-packages/sklearn/naive_bayes.py:557: UserWarning: alpha too small will result in numeric errors, setting alpha = 1.0e-10\n",
            "  % _ALPHA_MIN\n",
            "/usr/local/lib/python3.7/dist-packages/sklearn/naive_bayes.py:557: UserWarning: alpha too small will result in numeric errors, setting alpha = 1.0e-10\n",
            "  % _ALPHA_MIN\n",
            "/usr/local/lib/python3.7/dist-packages/sklearn/naive_bayes.py:557: UserWarning: alpha too small will result in numeric errors, setting alpha = 1.0e-10\n",
            "  % _ALPHA_MIN\n",
            "/usr/local/lib/python3.7/dist-packages/sklearn/naive_bayes.py:557: UserWarning: alpha too small will result in numeric errors, setting alpha = 1.0e-10\n",
            "  % _ALPHA_MIN\n"
          ]
        },
        {
          "name": "stdout",
          "output_type": "stream",
          "text": [
            "[CV 2/3] END ...........alpha=0, fit_prior=True;, score=0.835 total time=   0.1s\n",
            "[CV 3/3] END ...........alpha=0, fit_prior=True;, score=0.850 total time=   0.1s\n",
            "[CV 1/3] END ........alpha=0.1, fit_prior=False;, score=0.792 total time=   0.1s\n",
            "[CV 2/3] END ........alpha=0.1, fit_prior=False;, score=0.799 total time=   0.0s\n",
            "[CV 3/3] END ........alpha=0.1, fit_prior=False;, score=0.814 total time=   0.1s\n",
            "[CV 1/3] END .........alpha=0.1, fit_prior=True;, score=0.792 total time=   0.0s\n",
            "[CV 2/3] END .........alpha=0.1, fit_prior=True;, score=0.799 total time=   0.0s\n",
            "[CV 3/3] END .........alpha=0.1, fit_prior=True;, score=0.814 total time=   0.0s\n",
            "[CV 1/3] END .......alpha=0.01, fit_prior=False;, score=0.786 total time=   0.0s\n",
            "[CV 2/3] END .......alpha=0.01, fit_prior=False;, score=0.798 total time=   0.1s\n",
            "[CV 3/3] END .......alpha=0.01, fit_prior=False;, score=0.808 total time=   0.1s\n",
            "[CV 1/3] END ........alpha=0.01, fit_prior=True;, score=0.786 total time=   0.0s\n",
            "[CV 2/3] END ........alpha=0.01, fit_prior=True;, score=0.798 total time=   0.0s\n",
            "[CV 3/3] END ........alpha=0.01, fit_prior=True;, score=0.808 total time=   0.1s\n",
            "[CV 1/3] END ......alpha=0.001, fit_prior=False;, score=0.800 total time=   0.0s\n",
            "[CV 2/3] END ......alpha=0.001, fit_prior=False;, score=0.812 total time=   0.0s\n",
            "[CV 3/3] END ......alpha=0.001, fit_prior=False;, score=0.820 total time=   0.0s\n",
            "[CV 1/3] END .......alpha=0.001, fit_prior=True;, score=0.800 total time=   0.0s\n",
            "[CV 2/3] END .......alpha=0.001, fit_prior=True;, score=0.812 total time=   0.1s\n",
            "[CV 3/3] END .......alpha=0.001, fit_prior=True;, score=0.821 total time=   0.0s\n"
          ]
        },
        {
          "name": "stderr",
          "output_type": "stream",
          "text": [
            "/usr/local/lib/python3.7/dist-packages/sklearn/naive_bayes.py:557: UserWarning: alpha too small will result in numeric errors, setting alpha = 1.0e-10\n",
            "  % _ALPHA_MIN\n"
          ]
        }
      ],
      "source": [
        "# fitting the model for grid search \n",
        "nb_title_tuned_tfidf = tfidfnb_title_tuned.fit(X_train_title_tfidf, y_train)\n",
        "nb_profile_tuned_tfidf = tfidfnb_profile_tuned.fit(X_train_profile_tfidf, y_train)\n",
        "nb_description_tuned_tfidf = tfidfnb_description_tuned.fit(X_train_description_tfidf, y_train)\n",
        "nb_requirements_tuned_tfidf = tfidfnb_requirements_tuned.fit(X_train_requirements_tfidf, y_train)\n",
        "nb_benefits_tuned_tfidf = tfidfnb_benefits_tuned.fit(X_train_benefits_tfidf, y_train)"
      ]
    },
    {
      "cell_type": "code",
      "execution_count": null,
      "metadata": {
        "id": "wArTlUSA8sFm"
      },
      "outputs": [],
      "source": [
        "nb_title_train_pred_tfidf = nb_title_tuned_tfidf.predict(X_train_title_tfidf)\n",
        "nb_profile_train_pred_tfidf = nb_profile_tuned_tfidf.predict(X_train_profile_tfidf)\n",
        "nb_description_train_pred_tfidf = nb_description_tuned_tfidf.predict(X_train_description_tfidf)\n",
        "nb_requirements_train_pred_tfidf = nb_requirements_tuned_tfidf.predict(X_train_requirements_tfidf)\n",
        "nb_benefits_train_pred_tfidf = nb_benefits_tuned_tfidf.predict(X_train_benefits_tfidf)"
      ]
    },
    {
      "cell_type": "code",
      "execution_count": null,
      "metadata": {
        "colab": {
          "base_uri": "https://localhost:8080/"
        },
        "id": "PUFyr8pC8sLO",
        "outputId": "a24bbe35-8831-4105-8c81-4b76567715a7"
      },
      "outputs": [
        {
          "data": {
            "text/plain": [
              "array([[0, 0, 0, 0, 0],\n",
              "       [0, 0, 0, 0, 0],\n",
              "       [0, 0, 0, 0, 0],\n",
              "       ...,\n",
              "       [0, 0, 0, 0, 0],\n",
              "       [0, 0, 0, 0, 0],\n",
              "       [1, 0, 0, 0, 0]])"
            ]
          },
          "execution_count": 118,
          "metadata": {},
          "output_type": "execute_result"
        }
      ],
      "source": [
        "X_train_pred_tfidf = [nb_title_train_pred_tfidf, nb_profile_train_pred_tfidf, nb_description_train_pred_tfidf, nb_description_train_pred_tfidf, nb_benefits_train_pred_tfidf]\n",
        "X_train_pred_tfidf = np.array(X_train_pred_tfidf)\n",
        "X_train_pred_tfidf = X_train_pred_tfidf.T\n",
        "#X_train_pred_tfidf = X_train_pred_tfidf[:,[0,2,3]]\n",
        "X_train_pred_tfidf"
      ]
    },
    {
      "cell_type": "markdown",
      "metadata": {
        "id": "n5NQOz5y2qnh"
      },
      "source": [
        "#Ensemble Learning Second level\n",
        "\n",
        "The following models were attempted for the second level of the ensemble:\n",
        "*   Random Forest\n",
        "*   Support Vector Machine\n",
        "*   Logistic Regression\n",
        "\n",
        "These models are relatively simple and explainable which leaves most of the complexity at the first level of the ensemble."
      ]
    },
    {
      "cell_type": "markdown",
      "metadata": {
        "id": "JD0goCbB3Pzj"
      },
      "source": [
        "## Random Forest\n",
        "I found that the f1 and ROC-AUC scores were not as good as the other models."
      ]
    },
    {
      "cell_type": "code",
      "execution_count": null,
      "metadata": {
        "colab": {
          "base_uri": "https://localhost:8080/",
          "height": 438
        },
        "id": "zR7f06099fcq",
        "outputId": "c3106178-5445-4913-8e09-e7c00007e318"
      },
      "outputs": [
        {
          "name": "stdout",
          "output_type": "stream",
          "text": [
            "Accuracy Score: 0.9994407158836689\n",
            "Precision Score: 0.9910941475826972\n",
            "Recall Score: 0.9974391805377721\n",
            "F1 Score: 0.994256541161455\n",
            "ROC Score: 0.9992867471362634\n"
          ]
        },
        {
          "name": "stderr",
          "output_type": "stream",
          "text": [
            "/usr/local/lib/python3.7/dist-packages/sklearn/utils/deprecation.py:87: FutureWarning: Function plot_roc_curve is deprecated; Function :func:`plot_roc_curve` is deprecated in 1.0 and will be removed in 1.2. Use one of the class methods: :meth:`sklearn.metric.RocCurveDisplay.from_predictions` or :meth:`sklearn.metric.RocCurveDisplay.from_estimator`.\n",
            "  warnings.warn(msg, category=FutureWarning)\n"
          ]
        },
        {
          "name": "stdout",
          "output_type": "stream",
          "text": [
            "<sklearn.metrics._plot.roc_curve.RocCurveDisplay object at 0x7f71d98a5510>\n"
          ]
        },
        {
          "data": {
            "image/png": "[encoded data removed]",
            "text/plain": [
              "<Figure size 432x288 with 1 Axes>"
            ]
          },
          "metadata": {
            "needs_background": "light"
          },
          "output_type": "display_data"
        }
      ],
      "source": [
        "#Training results\n",
        "rfc2 = RandomForestClassifier(oob_score = True, criterion = \"entropy\")\n",
        "result = rfc2.fit(X_train_pred_tfidf,y_train)\n",
        "y_train_rfc_pred_tfidf = rfc2.predict(X_train_pred_tfidf)\n",
        "\n",
        "print('Accuracy Score:', (accuracy_score(y_train, y_train_rfc_pred_tfidf)))\n",
        "print('Precision Score:', (precision_score(y_train, y_train_rfc_pred_tfidf)))\n",
        "print('Recall Score:', (recall_score(y_train,y_train_rfc_pred_tfidf)))\n",
        "print('F1 Score:', (f1_score(y_train, y_train_rfc_pred_tfidf)))\n",
        "\n",
        "y_score_rf_tfidf = rfc2.predict_proba(X_train_pred_tfidf)\n",
        "print('ROC Score:', (roc_auc_score(y_train, y_score_rf_tfidf[:,1])))\n",
        "print(plot_roc_curve(rfc2, X_train_pred_tfidf, y_train))"
      ]
    },
    {
      "cell_type": "code",
      "execution_count": null,
      "metadata": {
        "colab": {
          "base_uri": "https://localhost:8080/",
          "height": 559
        },
        "id": "eb5CGGcF8sOy",
        "outputId": "b546793b-83f4-4fae-9994-5627592e56c5"
      },
      "outputs": [
        {
          "name": "stdout",
          "output_type": "stream",
          "text": [
            "[[0 0 0 0 0]\n",
            " [0 0 0 0 0]\n",
            " [0 0 0 0 0]\n",
            " ...\n",
            " [1 1 1 1 1]\n",
            " [0 0 0 0 0]\n",
            " [0 0 0 0 0]]\n",
            "Accuracy Score: 0.9860178970917226\n",
            "Precision Score: 0.96875\n",
            "Recall Score: 0.7294117647058823\n",
            "F1 Score: 0.832214765100671\n",
            "ROC Score: 0.9122310110186177\n",
            "<sklearn.metrics._plot.roc_curve.RocCurveDisplay object at 0x7f71cd8c2310>\n"
          ]
        },
        {
          "name": "stderr",
          "output_type": "stream",
          "text": [
            "/usr/local/lib/python3.7/dist-packages/sklearn/utils/deprecation.py:87: FutureWarning: Function plot_roc_curve is deprecated; Function :func:`plot_roc_curve` is deprecated in 1.0 and will be removed in 1.2. Use one of the class methods: :meth:`sklearn.metric.RocCurveDisplay.from_predictions` or :meth:`sklearn.metric.RocCurveDisplay.from_estimator`.\n",
            "  warnings.warn(msg, category=FutureWarning)\n"
          ]
        },
        {
          "data": {
            "image/png": "[encoded data removed]",
            "text/plain": [
              "<Figure size 432x288 with 1 Axes>"
            ]
          },
          "metadata": {
            "needs_background": "light"
          },
          "output_type": "display_data"
        }
      ],
      "source": [
        "nb_title_test_pred_tfidf = nb_title_tuned_tfidf.predict(X_test_title_tfidf)\n",
        "nb_profile_test_pred_tfidf = nb_profile_tuned_tfidf.predict(X_test_profile_tfidf)\n",
        "nb_description_test_pred_tfidf = nb_description_tuned_tfidf.predict(X_test_description_tfidf)\n",
        "nb_requirements_test_pred_tfidf = nb_requirements_tuned_tfidf.predict(X_test_requirements_tfidf)\n",
        "nb_benefits_test_pred_tfidf = nb_benefits_tuned_tfidf.predict(X_test_benefits_tfidf)\n",
        "\n",
        "X_test_pred_tfidf = [nb_title_test_pred_tfidf, nb_profile_test_pred_tfidf, nb_description_test_pred_tfidf, nb_description_test_pred_tfidf, nb_benefits_test_pred_tfidf]\n",
        "X_test_pred_tfidf = np.array(X_test_pred_tfidf)\n",
        "X_test_pred_tfidf = X_test_pred_tfidf.T\n",
        "#X_test_pred_tfidf = X_test_pred_tfidf[:,[0,2,3]]\n",
        "print(X_test_pred_tfidf)\n",
        "\n",
        "#Test results\n",
        "y_test_rfc_pred_tfidf = rfc2.predict(X_test_pred_tfidf)\n",
        "\n",
        "print('Accuracy Score:', (accuracy_score(y_test, y_test_rfc_pred_tfidf)))\n",
        "print('Precision Score:', (precision_score(y_test, y_test_rfc_pred_tfidf)))\n",
        "print('Recall Score:', (recall_score(y_test,y_test_rfc_pred_tfidf)))\n",
        "print('F1 Score:', (f1_score(y_test, y_test_rfc_pred_tfidf)))\n",
        "\n",
        "y_score_rf_tfidf = rfc2.predict_proba(X_test_pred_tfidf)\n",
        "print('ROC Score:', (roc_auc_score(y_test, y_score_rf_tfidf[:,1])))\n",
        "print(plot_roc_curve(rfc2, X_test_pred_tfidf, y_test))"
      ]
    },
    {
      "cell_type": "markdown",
      "metadata": {
        "id": "i4aNu1HELixj"
      },
      "source": [
        "Accuracy Score: 0.9854586129753915\n",
        "Precision Score: 0.953125\n",
        "Recall Score: 0.7261904761904762\n",
        "F1 Score: 0.8243243243243242\n",
        "ROC Score: 0.908824474625531"
      ]
    },
    {
      "cell_type": "code",
      "execution_count": null,
      "metadata": {
        "id": "xBm8OQj2-0gK"
      },
      "outputs": [],
      "source": [
        "x_train_bowandtfidf =  np.hstack((X_train_pred[:,[0, 1, 2,3, 4]], X_train_pred_tfidf[:,[0, 1, 2,3, 4]]))\n",
        "rfc3 = RandomForestClassifier(oob_score = True, criterion = 'gini')\n",
        "result3 = rfc3.fit(x_train_bowandtfidf,y_train)"
      ]
    },
    {
      "cell_type": "code",
      "execution_count": null,
      "metadata": {
        "colab": {
          "base_uri": "https://localhost:8080/",
          "height": 438
        },
        "id": "36ye68j7ATPR",
        "outputId": "7fafdc79-f633-4103-f822-dadfebef82ed"
      },
      "outputs": [
        {
          "name": "stdout",
          "output_type": "stream",
          "text": [
            "Accuracy Score: 0.9996271439224459\n",
            "Precision Score: 0.9948914431673053\n",
            "Recall Score: 0.9974391805377721\n",
            "F1 Score: 0.9961636828644502\n",
            "ROC Score: 0.99930506140255\n"
          ]
        },
        {
          "name": "stderr",
          "output_type": "stream",
          "text": [
            "/usr/local/lib/python3.7/dist-packages/sklearn/utils/deprecation.py:87: FutureWarning: Function plot_roc_curve is deprecated; Function :func:`plot_roc_curve` is deprecated in 1.0 and will be removed in 1.2. Use one of the class methods: :meth:`sklearn.metric.RocCurveDisplay.from_predictions` or :meth:`sklearn.metric.RocCurveDisplay.from_estimator`.\n",
            "  warnings.warn(msg, category=FutureWarning)\n"
          ]
        },
        {
          "name": "stdout",
          "output_type": "stream",
          "text": [
            "<sklearn.metrics._plot.roc_curve.RocCurveDisplay object at 0x7f71b0359c90>\n"
          ]
        },
        {
          "data": {
            "image/png": "[encoded data removed]",
            "text/plain": [
              "<Figure size 432x288 with 1 Axes>"
            ]
          },
          "metadata": {
            "needs_background": "light"
          },
          "output_type": "display_data"
        }
      ],
      "source": [
        "y_train_rfc_pred_bowandtfidf = rfc3.predict(x_train_bowandtfidf)\n",
        "\n",
        "print('Accuracy Score:', (accuracy_score(y_train, y_train_rfc_pred_bowandtfidf)))\n",
        "print('Precision Score:', (precision_score(y_train, y_train_rfc_pred_bowandtfidf)))\n",
        "print('Recall Score:', (recall_score(y_train,y_train_rfc_pred_bowandtfidf)))\n",
        "print('F1 Score:', (f1_score(y_train, y_train_rfc_pred_bowandtfidf)))\n",
        "\n",
        "y_score_rf_bowandtfidf = rfc3.predict_proba(x_train_bowandtfidf)\n",
        "print('ROC Score:', (roc_auc_score(y_train, y_score_rf_bowandtfidf[:,1])))\n",
        "print(plot_roc_curve(rfc3, x_train_bowandtfidf, y_train))"
      ]
    },
    {
      "cell_type": "code",
      "execution_count": null,
      "metadata": {
        "colab": {
          "base_uri": "https://localhost:8080/",
          "height": 438
        },
        "id": "88yNNUolATRf",
        "outputId": "99a05522-f228-44f1-ef88-a00e646b801f"
      },
      "outputs": [
        {
          "name": "stdout",
          "output_type": "stream",
          "text": [
            "Accuracy Score: 0.9871364653243848\n",
            "Precision Score: 0.984375\n",
            "Recall Score: 0.7411764705882353\n",
            "F1 Score: 0.8456375838926175\n",
            "ROC Score: 0.9013920071845533\n",
            "<sklearn.metrics._plot.roc_curve.RocCurveDisplay object at 0x7f71cf4ea450>\n"
          ]
        },
        {
          "name": "stderr",
          "output_type": "stream",
          "text": [
            "/usr/local/lib/python3.7/dist-packages/sklearn/utils/deprecation.py:87: FutureWarning: Function plot_roc_curve is deprecated; Function :func:`plot_roc_curve` is deprecated in 1.0 and will be removed in 1.2. Use one of the class methods: :meth:`sklearn.metric.RocCurveDisplay.from_predictions` or :meth:`sklearn.metric.RocCurveDisplay.from_estimator`.\n",
            "  warnings.warn(msg, category=FutureWarning)\n"
          ]
        },
        {
          "data": {
            "image/png": "[encoded data removed]",
            "text/plain": [
              "<Figure size 432x288 with 1 Axes>"
            ]
          },
          "metadata": {
            "needs_background": "light"
          },
          "output_type": "display_data"
        }
      ],
      "source": [
        "X_test_bowandtfidf =  np.hstack((X_test_pred[:,[0,1 ,2,3, 4]], X_test_pred_tfidf[:,[0,1,2,3,4]]))\n",
        "\n",
        "#Test results\n",
        "y_test_rfc_pred_bowandtfidf = rfc3.predict(X_test_bowandtfidf)\n",
        "\n",
        "print('Accuracy Score:', (accuracy_score(y_test, y_test_rfc_pred_bowandtfidf)))\n",
        "print('Precision Score:', (precision_score(y_test, y_test_rfc_pred_bowandtfidf)))\n",
        "print('Recall Score:', (recall_score(y_test,y_test_rfc_pred_bowandtfidf)))\n",
        "print('F1 Score:', (f1_score(y_test, y_test_rfc_pred_bowandtfidf)))\n",
        "\n",
        "y_score_rf_bowandtfidf = rfc3.predict_proba(X_test_bowandtfidf)\n",
        "print('ROC Score:', (roc_auc_score(y_test, y_score_rf_bowandtfidf[:,1])))\n",
        "print(plot_roc_curve(rfc3, X_test_bowandtfidf, y_test))"
      ]
    },
    {
      "cell_type": "markdown",
      "metadata": {
        "id": "uCPoH8LgMEtk"
      },
      "source": [
        "Accuracy Score: 0.9848993288590604\n",
        "Precision Score: 0.9523809523809523\n",
        "Recall Score: 0.7142857142857143\n",
        "F1 Score: 0.8163265306122449\n",
        "ROC Score: 0.9088070087189806"
      ]
    },
    {
      "cell_type": "code",
      "execution_count": null,
      "metadata": {
        "colab": {
          "base_uri": "https://localhost:8080/",
          "height": 301
        },
        "id": "lOU0yVJVATTo",
        "outputId": "5ed8a42d-a490-4454-ff62-3236f200e808"
      },
      "outputs": [
        {
          "data": {
            "text/plain": [
              "Text(0, 0.5, 'Mean decrease in impurity')"
            ]
          },
          "execution_count": 124,
          "metadata": {},
          "output_type": "execute_result"
        },
        {
          "data": {
            "image/png": "[encoded data removed]",
            "text/plain": [
              "<Figure size 432x288 with 1 Axes>"
            ]
          },
          "metadata": {
            "needs_background": "light"
          },
          "output_type": "display_data"
        }
      ],
      "source": [
        "rf_importances = rfc3.feature_importances_\n",
        "# rf_std = np.std([tree.feature_importances_ for tree in model_rf.best_estimator_.estimators_], axis=0)\n",
        "\n",
        "feature_names = [f\"{i}\" for i in list([1,2,3,4,5,6,7,8,9,10])]\n",
        "forest_importances = pd.Series(rf_importances, index=feature_names)\n",
        "most_important = forest_importances[forest_importances > 0.00]\n",
        "most_important = most_important.sort_values(ascending=False)\n",
        "\n",
        "fig, ax = plt.subplots()\n",
        "most_important.plot.bar(ax=ax)\n",
        "ax.set_title(\"Feature importances using MDI\")\n",
        "ax.set_ylabel(\"Mean decrease in impurity\")"
      ]
    },
    {
      "cell_type": "markdown",
      "metadata": {
        "id": "iXgQTArK3uoK"
      },
      "source": [
        "## Support Vector Machine\n",
        "SVC(C= 10.0,degree= 2, kernel= 'rbf', probability = True) are determined to be the best parameters."
      ]
    },
    {
      "cell_type": "code",
      "execution_count": null,
      "metadata": {
        "colab": {
          "base_uri": "https://localhost:8080/"
        },
        "id": "ajNvM7e8MiwM",
        "outputId": "39192dc0-77d9-4f47-98c8-6503433d2f83"
      },
      "outputs": [
        {
          "name": "stdout",
          "output_type": "stream",
          "text": [
            "Fitting 3 folds for each of 18 candidates, totalling 54 fits\n",
            "[CV 1/3] END ....C=0.1, degree=2, kernel=linear;, score=0.998 total time=   0.1s\n",
            "[CV 2/3] END ....C=0.1, degree=2, kernel=linear;, score=0.996 total time=   0.1s\n",
            "[CV 3/3] END ....C=0.1, degree=2, kernel=linear;, score=1.000 total time=   0.1s\n",
            "[CV 1/3] END ......C=0.1, degree=2, kernel=poly;, score=0.998 total time=   0.1s\n",
            "[CV 2/3] END ......C=0.1, degree=2, kernel=poly;, score=0.992 total time=   0.1s\n",
            "[CV 3/3] END ......C=0.1, degree=2, kernel=poly;, score=1.000 total time=   0.2s\n",
            "[CV 1/3] END .......C=0.1, degree=2, kernel=rbf;, score=0.998 total time=   0.6s\n",
            "[CV 2/3] END .......C=0.1, degree=2, kernel=rbf;, score=1.000 total time=   0.7s\n",
            "[CV 3/3] END .......C=0.1, degree=2, kernel=rbf;, score=1.000 total time=   0.7s\n",
            "[CV 1/3] END ....C=0.1, degree=3, kernel=linear;, score=0.998 total time=   0.1s\n",
            "[CV 2/3] END ....C=0.1, degree=3, kernel=linear;, score=0.996 total time=   0.1s\n",
            "[CV 3/3] END ....C=0.1, degree=3, kernel=linear;, score=1.000 total time=   0.1s\n",
            "[CV 1/3] END ......C=0.1, degree=3, kernel=poly;, score=0.998 total time=   0.1s\n",
            "[CV 2/3] END ......C=0.1, degree=3, kernel=poly;, score=1.000 total time=   0.1s\n",
            "[CV 3/3] END ......C=0.1, degree=3, kernel=poly;, score=1.000 total time=   0.1s\n",
            "[CV 1/3] END .......C=0.1, degree=3, kernel=rbf;, score=0.998 total time=   0.6s\n",
            "[CV 2/3] END .......C=0.1, degree=3, kernel=rbf;, score=1.000 total time=   0.7s\n",
            "[CV 3/3] END .......C=0.1, degree=3, kernel=rbf;, score=1.000 total time=   0.7s\n",
            "[CV 1/3] END ....C=1.0, degree=2, kernel=linear;, score=0.998 total time=   0.1s\n",
            "[CV 2/3] END ....C=1.0, degree=2, kernel=linear;, score=0.996 total time=   0.1s\n",
            "[CV 3/3] END ....C=1.0, degree=2, kernel=linear;, score=1.000 total time=   0.1s\n",
            "[CV 1/3] END ......C=1.0, degree=2, kernel=poly;, score=0.998 total time=   0.1s\n",
            "[CV 2/3] END ......C=1.0, degree=2, kernel=poly;, score=0.992 total time=   0.1s\n",
            "[CV 3/3] END ......C=1.0, degree=2, kernel=poly;, score=1.000 total time=   0.2s\n",
            "[CV 1/3] END .......C=1.0, degree=2, kernel=rbf;, score=0.998 total time=   0.2s\n",
            "[CV 2/3] END .......C=1.0, degree=2, kernel=rbf;, score=1.000 total time=   0.2s\n",
            "[CV 3/3] END .......C=1.0, degree=2, kernel=rbf;, score=1.000 total time=   0.3s\n",
            "[CV 1/3] END ....C=1.0, degree=3, kernel=linear;, score=0.998 total time=   0.1s\n",
            "[CV 2/3] END ....C=1.0, degree=3, kernel=linear;, score=0.996 total time=   0.1s\n",
            "[CV 3/3] END ....C=1.0, degree=3, kernel=linear;, score=1.000 total time=   0.1s\n",
            "[CV 1/3] END ......C=1.0, degree=3, kernel=poly;, score=0.998 total time=   0.1s\n",
            "[CV 2/3] END ......C=1.0, degree=3, kernel=poly;, score=1.000 total time=   0.1s\n",
            "[CV 3/3] END ......C=1.0, degree=3, kernel=poly;, score=1.000 total time=   0.1s\n",
            "[CV 1/3] END .......C=1.0, degree=3, kernel=rbf;, score=0.998 total time=   0.2s\n",
            "[CV 2/3] END .......C=1.0, degree=3, kernel=rbf;, score=1.000 total time=   0.2s\n",
            "[CV 3/3] END .......C=1.0, degree=3, kernel=rbf;, score=1.000 total time=   0.2s\n",
            "[CV 1/3] END ...C=10.0, degree=2, kernel=linear;, score=0.998 total time=   0.1s\n",
            "[CV 2/3] END ...C=10.0, degree=2, kernel=linear;, score=1.000 total time=   0.1s\n",
            "[CV 3/3] END ...C=10.0, degree=2, kernel=linear;, score=1.000 total time=   0.1s\n",
            "[CV 1/3] END .....C=10.0, degree=2, kernel=poly;, score=0.998 total time=   0.1s\n",
            "[CV 2/3] END .....C=10.0, degree=2, kernel=poly;, score=0.992 total time=   0.1s\n",
            "[CV 3/3] END .....C=10.0, degree=2, kernel=poly;, score=1.000 total time=   0.2s\n",
            "[CV 1/3] END ......C=10.0, degree=2, kernel=rbf;, score=0.998 total time=   0.2s\n",
            "[CV 2/3] END ......C=10.0, degree=2, kernel=rbf;, score=0.996 total time=   0.2s\n",
            "[CV 3/3] END ......C=10.0, degree=2, kernel=rbf;, score=1.000 total time=   0.3s\n",
            "[CV 1/3] END ...C=10.0, degree=3, kernel=linear;, score=0.998 total time=   0.1s\n",
            "[CV 2/3] END ...C=10.0, degree=3, kernel=linear;, score=1.000 total time=   0.1s\n",
            "[CV 3/3] END ...C=10.0, degree=3, kernel=linear;, score=1.000 total time=   0.1s\n",
            "[CV 1/3] END .....C=10.0, degree=3, kernel=poly;, score=0.998 total time=   0.1s\n",
            "[CV 2/3] END .....C=10.0, degree=3, kernel=poly;, score=1.000 total time=   0.1s\n",
            "[CV 3/3] END .....C=10.0, degree=3, kernel=poly;, score=1.000 total time=   0.1s\n",
            "[CV 1/3] END ......C=10.0, degree=3, kernel=rbf;, score=0.998 total time=   0.2s\n",
            "[CV 2/3] END ......C=10.0, degree=3, kernel=rbf;, score=0.996 total time=   0.2s\n",
            "[CV 3/3] END ......C=10.0, degree=3, kernel=rbf;, score=1.000 total time=   0.2s\n"
          ]
        }
      ],
      "source": [
        "from sklearn.svm import SVC\n",
        "\n",
        "svm_parameters = {'C': np.logspace(-1, 1, 3),\n",
        "                  'kernel': ('linear', 'poly','rbf'),\n",
        "                  'degree': [2,3]}\n",
        "\n",
        "svm = GridSearchCV(estimator=SVC(probability=True),\n",
        "                         param_grid= svm_parameters,\n",
        "                         cv = 3,\n",
        "                         scoring='roc_auc',\n",
        "                         verbose = 3).fit(x_train_bowandtfidf,y_train)\n"
      ]
    },
    {
      "cell_type": "code",
      "execution_count": null,
      "metadata": {
        "colab": {
          "base_uri": "https://localhost:8080/",
          "height": 438
        },
        "id": "aJLrz5ZWa3Zl",
        "outputId": "ee43cddd-02aa-405f-9d3c-5330d26ff6f5"
      },
      "outputs": [
        {
          "name": "stdout",
          "output_type": "stream",
          "text": [
            "Accuracy Score: 0.9996271439224459\n",
            "Precision Score: 0.9948914431673053\n",
            "Recall Score: 0.9974391805377721\n",
            "F1 Score: 0.9961636828644502\n",
            "ROC Score: 0.9979444535829938\n",
            "<sklearn.metrics._plot.roc_curve.RocCurveDisplay object at 0x7f71aa116190>\n"
          ]
        },
        {
          "name": "stderr",
          "output_type": "stream",
          "text": [
            "/usr/local/lib/python3.7/dist-packages/sklearn/utils/deprecation.py:87: FutureWarning: Function plot_roc_curve is deprecated; Function :func:`plot_roc_curve` is deprecated in 1.0 and will be removed in 1.2. Use one of the class methods: :meth:`sklearn.metric.RocCurveDisplay.from_predictions` or :meth:`sklearn.metric.RocCurveDisplay.from_estimator`.\n",
            "  warnings.warn(msg, category=FutureWarning)\n"
          ]
        },
        {
          "data": {
            "image/png": "[encoded data removed]",
            "text/plain": [
              "<Figure size 432x288 with 1 Axes>"
            ]
          },
          "metadata": {
            "needs_background": "light"
          },
          "output_type": "display_data"
        }
      ],
      "source": [
        "#svm = SVC(C= 10.0,degree= 2, kernel= 'rbf', probability = True).fit(x_train_bowandtfidf,y_train)\n",
        "ypred = svm.predict(x_train_bowandtfidf)\n",
        "\n",
        "print('Accuracy Score:', (accuracy_score(y_train, ypred)))\n",
        "print('Precision Score:', (precision_score(y_train, ypred)))\n",
        "print('Recall Score:', (recall_score(y_train,ypred)))\n",
        "print('F1 Score:', (f1_score(y_train, ypred)))\n",
        "\n",
        "y_score = svm.predict_proba(x_train_bowandtfidf)\n",
        "print('ROC Score:', (roc_auc_score(y_train, y_score[:,1])))\n",
        "print(plot_roc_curve(svm, x_train_bowandtfidf, y_train))"
      ]
    },
    {
      "cell_type": "code",
      "execution_count": null,
      "metadata": {
        "colab": {
          "base_uri": "https://localhost:8080/",
          "height": 438
        },
        "id": "drsO6DjHNgnL",
        "outputId": "ff6859ac-5f2b-4958-d9cd-b2335700b8bb"
      },
      "outputs": [
        {
          "name": "stdout",
          "output_type": "stream",
          "text": [
            "Accuracy Score: 0.9888143176733781\n",
            "Precision Score: 0.9452054794520548\n",
            "Recall Score: 0.8117647058823529\n",
            "F1 Score: 0.8734177215189873\n",
            "ROC Score: 0.901758143069324\n",
            "<sklearn.metrics._plot.roc_curve.RocCurveDisplay object at 0x7f71cf64d4d0>\n"
          ]
        },
        {
          "name": "stderr",
          "output_type": "stream",
          "text": [
            "/usr/local/lib/python3.7/dist-packages/sklearn/utils/deprecation.py:87: FutureWarning: Function plot_roc_curve is deprecated; Function :func:`plot_roc_curve` is deprecated in 1.0 and will be removed in 1.2. Use one of the class methods: :meth:`sklearn.metric.RocCurveDisplay.from_predictions` or :meth:`sklearn.metric.RocCurveDisplay.from_estimator`.\n",
            "  warnings.warn(msg, category=FutureWarning)\n"
          ]
        },
        {
          "data": {
            "image/png": "[encoded data removed]",
            "text/plain": [
              "<Figure size 432x288 with 1 Axes>"
            ]
          },
          "metadata": {
            "needs_background": "light"
          },
          "output_type": "display_data"
        }
      ],
      "source": [
        "ypred_test = svm.predict(X_test_bowandtfidf)\n",
        "\n",
        "print('Accuracy Score:', (accuracy_score(y_test, ypred_test)))\n",
        "print('Precision Score:', (precision_score(y_test, ypred_test)))\n",
        "print('Recall Score:', (recall_score(y_test,ypred_test)))\n",
        "print('F1 Score:', (f1_score(y_test, ypred_test)))\n",
        "\n",
        "y_score = svm.predict_proba(X_test_bowandtfidf)\n",
        "print('ROC Score:', (roc_auc_score(y_test, y_score[:,1])))\n",
        "print(plot_roc_curve(svm, X_test_bowandtfidf, y_test))\n"
      ]
    },
    {
      "cell_type": "code",
      "execution_count": null,
      "metadata": {
        "colab": {
          "base_uri": "https://localhost:8080/",
          "height": 312
        },
        "id": "ZDEz4QqDaFUe",
        "outputId": "bd3f0e08-0c44-4414-d2c1-1f4f3329bbd3"
      },
      "outputs": [
        {
          "data": {
            "text/plain": [
              "Text(0.5, 1.0, 'Most important features in SVM model')"
            ]
          },
          "execution_count": 50,
          "metadata": {},
          "output_type": "execute_result"
        },
        {
          "data": {
            "image/png": "[encoded data removed]",
            "text/plain": [
              "<Figure size 432x288 with 1 Axes>"
            ]
          },
          "metadata": {
            "needs_background": "light"
          },
          "output_type": "display_data"
        }
      ],
      "source": [
        "from sklearn.inspection import permutation_importance\n",
        "svm = SVC(C= 10.0,degree= 2, kernel= 'rbf', probability = True).fit(x_train_bowandtfidf,y_train)\n",
        "perm_importance = permutation_importance(svm, X_test_bowandtfidf, y_test)\n",
        "\n",
        "feature_names = ['title_bow', 'company_profile_bow', 'desciption_bow', 'requirement_bow', 'benefits_bow', 'title_tfidf', 'company_profile_tfidf', 'desciption_tfidf', 'requirement_tfidf', 'benefits_tfidf']\n",
        "features = np.array(feature_names)\n",
        "\n",
        "sorted_idx = perm_importance.importances_mean.argsort()\n",
        "plt.barh(features[sorted_idx], perm_importance.importances_mean[sorted_idx])\n",
        "plt.xlabel(\"Permutation Importance\")\n",
        "plt.title(\"Most important features in SVM model\")\n",
        "\n"
      ]
    },
    {
      "cell_type": "code",
      "execution_count": null,
      "metadata": {
        "colab": {
          "base_uri": "https://localhost:8080/"
        },
        "id": "0sBed7k-ayne",
        "outputId": "588e78c3-894a-4686-8338-ca1aa6c09184"
      },
      "outputs": [
        {
          "name": "stdout",
          "output_type": "stream",
          "text": [
            "{'C': 0.1, 'degree': 2, 'kernel': 'linear'}\n"
          ]
        }
      ],
      "source": [
        "#The best parameters for svm\n",
        "print(svm_search.best_params_)"
      ]
    },
    {
      "cell_type": "code",
      "execution_count": null,
      "metadata": {
        "colab": {
          "base_uri": "https://localhost:8080/"
        },
        "id": "VtsklJHUfH4Y",
        "outputId": "c4b1e2a3-4655-4595-f184-65a5b456b2a4"
      },
      "outputs": [
        {
          "name": "stderr",
          "output_type": "stream",
          "text": [
            "/usr/local/lib/python3.7/dist-packages/sklearn/naive_bayes.py:557: UserWarning: alpha too small will result in numeric errors, setting alpha = 1.0e-10\n",
            "  % _ALPHA_MIN\n",
            "/usr/local/lib/python3.7/dist-packages/sklearn/naive_bayes.py:557: UserWarning: alpha too small will result in numeric errors, setting alpha = 1.0e-10\n",
            "  % _ALPHA_MIN\n"
          ]
        }
      ],
      "source": [
        "#Most important ngrams\n",
        "desc_nb_tfidf = MultinomialNB(alpha= 0, fit_prior = True)\n",
        "requirement_nb_tfidf = MultinomialNB(alpha= 0, fit_prior = True)\n",
        "\n",
        "desc_result = desc_nb_tfidf.fit(X_train_description_tfidf, y_train)\n",
        "requirement_result = requirement_nb_tfidf.fit(X_train_requirements_tfidf, y_train)"
      ]
    },
    {
      "cell_type": "code",
      "execution_count": null,
      "metadata": {
        "colab": {
          "base_uri": "https://localhost:8080/"
        },
        "id": "V0IDamauedXx",
        "outputId": "8ed577a4-f735-4659-fa42-57da5c8eb53d"
      },
      "outputs": [
        {
          "name": "stdout",
          "output_type": "stream",
          "text": [
            "['work' 'amp' 'We' 'position' 'skills' 'home' 'data' 'customer'\n",
            " 'experience' 'entry']\n"
          ]
        }
      ],
      "source": [
        "pos_class_prob_sorted_description = desc_nb_tfidf.feature_log_prob_[1, :].argsort()[::-1]\n",
        "print(np.take(tfidf_vect_description.get_feature_names_out(), pos_class_prob_sorted_description[:10]))"
      ]
    },
    {
      "cell_type": "code",
      "execution_count": null,
      "metadata": {
        "colab": {
          "base_uri": "https://localhost:8080/"
        },
        "id": "ex-ne64feMCZ",
        "outputId": "d474f9e0-aa85-46ca-85ef-03f93cb8d59e"
      },
      "outputs": [
        {
          "name": "stdout",
          "output_type": "stream",
          "text": [
            "['attention desire' 'Free Salary' 'Free housing2' 'Free onsite'\n",
            " 'events niche Meetups' 'herOur' 'Program IIPP' 'Did obtain'\n",
            " 'balance sheet major emphasis' 'efficiently create localised']\n"
          ]
        }
      ],
      "source": [
        "pos_class_prob_sorted_description = requirement_nb_tfidf.feature_log_prob_[1, :].argsort()[::-1]\n",
        "print(np.take(tfidf_vect_description.get_feature_names_out(), pos_class_prob_sorted_description[:10]))"
      ]
    },
    {
      "cell_type": "markdown",
      "metadata": {
        "id": "3iPW7LHi38nX"
      },
      "source": [
        "## Logistic Regression\n",
        "{'C': 0.1, 'penalty': 'l2', 'random_state': 1234, 'solver': 'liblinear'}  <br> The above is the determined best parameters.\n",
        "<br> I did not choose this model as it underperformed in terms of ROC-AUC and F1 compared to the support vector machine."
      ]
    },
    {
      "cell_type": "code",
      "execution_count": null,
      "metadata": {
        "colab": {
          "base_uri": "https://localhost:8080/",
          "height": 1000
        },
        "id": "oRIoMHRcN970",
        "outputId": "74947052-7dd8-47c4-d459-21f31b856f40"
      },
      "outputs": [
        {
          "name": "stdout",
          "output_type": "stream",
          "text": [
            "Fitting 3 folds for each of 20 candidates, totalling 60 fits\n",
            "[CV 1/3] END C=0.1, penalty=l1, random_state=1234, solver=liblinear;, score=1.000 total time=   0.0s\n",
            "[CV 2/3] END C=0.1, penalty=l1, random_state=1234, solver=liblinear;, score=0.996 total time=   0.0s\n",
            "[CV 3/3] END C=0.1, penalty=l1, random_state=1234, solver=liblinear;, score=1.000 total time=   0.0s\n",
            "[CV 1/3] END C=0.1, penalty=l1, random_state=1234, solver=saga;, score=1.000 total time=   0.2s\n",
            "[CV 2/3] END C=0.1, penalty=l1, random_state=1234, solver=saga;, score=0.996 total time=   0.2s\n",
            "[CV 3/3] END C=0.1, penalty=l1, random_state=1234, solver=saga;, score=1.000 total time=   0.2s\n",
            "[CV 1/3] END C=0.1, penalty=l2, random_state=1234, solver=liblinear;, score=1.000 total time=   0.0s\n",
            "[CV 2/3] END C=0.1, penalty=l2, random_state=1234, solver=liblinear;, score=0.998 total time=   0.0s\n",
            "[CV 3/3] END C=0.1, penalty=l2, random_state=1234, solver=liblinear;, score=1.000 total time=   0.0s\n",
            "[CV 1/3] END C=0.1, penalty=l2, random_state=1234, solver=saga;, score=1.000 total time=   0.1s\n",
            "[CV 2/3] END C=0.1, penalty=l2, random_state=1234, solver=saga;, score=0.998 total time=   0.1s\n",
            "[CV 3/3] END C=0.1, penalty=l2, random_state=1234, solver=saga;, score=1.000 total time=   0.1s\n",
            "[CV 1/3] END C=1, penalty=l1, random_state=1234, solver=liblinear;, score=1.000 total time=   0.0s\n",
            "[CV 2/3] END C=1, penalty=l1, random_state=1234, solver=liblinear;, score=0.998 total time=   0.0s\n",
            "[CV 3/3] END C=1, penalty=l1, random_state=1234, solver=liblinear;, score=1.000 total time=   0.0s\n",
            "[CV 1/3] END C=1, penalty=l1, random_state=1234, solver=saga;, score=1.000 total time=   0.3s\n",
            "[CV 2/3] END C=1, penalty=l1, random_state=1234, solver=saga;, score=0.998 total time=   0.5s\n",
            "[CV 3/3] END C=1, penalty=l1, random_state=1234, solver=saga;, score=1.000 total time=   0.4s\n",
            "[CV 1/3] END C=1, penalty=l2, random_state=1234, solver=liblinear;, score=1.000 total time=   0.0s\n",
            "[CV 2/3] END C=1, penalty=l2, random_state=1234, solver=liblinear;, score=0.998 total time=   0.0s\n",
            "[CV 3/3] END C=1, penalty=l2, random_state=1234, solver=liblinear;, score=1.000 total time=   0.0s\n",
            "[CV 1/3] END C=1, penalty=l2, random_state=1234, solver=saga;, score=1.000 total time=   0.2s\n",
            "[CV 2/3] END C=1, penalty=l2, random_state=1234, solver=saga;, score=0.998 total time=   0.1s\n",
            "[CV 3/3] END C=1, penalty=l2, random_state=1234, solver=saga;, score=1.000 total time=   0.2s\n",
            "[CV 1/3] END C=10, penalty=l1, random_state=1234, solver=liblinear;, score=1.000 total time=   0.0s\n",
            "[CV 2/3] END C=10, penalty=l1, random_state=1234, solver=liblinear;, score=0.998 total time=   0.0s\n",
            "[CV 3/3] END C=10, penalty=l1, random_state=1234, solver=liblinear;, score=1.000 total time=   0.0s\n",
            "[CV 1/3] END C=10, penalty=l1, random_state=1234, solver=saga;, score=1.000 total time=   1.5s\n",
            "[CV 2/3] END C=10, penalty=l1, random_state=1234, solver=saga;, score=0.998 total time=   1.2s\n",
            "[CV 3/3] END C=10, penalty=l1, random_state=1234, solver=saga;, score=1.000 total time=   0.5s\n",
            "[CV 1/3] END C=10, penalty=l2, random_state=1234, solver=liblinear;, score=1.000 total time=   0.0s\n",
            "[CV 2/3] END C=10, penalty=l2, random_state=1234, solver=liblinear;, score=0.998 total time=   0.0s\n",
            "[CV 3/3] END C=10, penalty=l2, random_state=1234, solver=liblinear;, score=1.000 total time=   0.0s\n",
            "[CV 1/3] END C=10, penalty=l2, random_state=1234, solver=saga;, score=1.000 total time=   0.4s\n",
            "[CV 2/3] END C=10, penalty=l2, random_state=1234, solver=saga;, score=0.998 total time=   0.5s\n",
            "[CV 3/3] END C=10, penalty=l2, random_state=1234, solver=saga;, score=1.000 total time=   0.3s\n",
            "[CV 1/3] END C=100, penalty=l1, random_state=1234, solver=liblinear;, score=1.000 total time=   0.0s\n",
            "[CV 2/3] END C=100, penalty=l1, random_state=1234, solver=liblinear;, score=0.998 total time=   0.0s\n",
            "[CV 3/3] END C=100, penalty=l1, random_state=1234, solver=liblinear;, score=1.000 total time=   0.0s\n",
            "[CV 1/3] END C=100, penalty=l1, random_state=1234, solver=saga;, score=1.000 total time=   4.6s\n",
            "[CV 2/3] END C=100, penalty=l1, random_state=1234, solver=saga;, score=0.998 total time=   2.8s\n",
            "[CV 3/3] END C=100, penalty=l1, random_state=1234, solver=saga;, score=1.000 total time=   1.2s\n",
            "[CV 1/3] END C=100, penalty=l2, random_state=1234, solver=liblinear;, score=1.000 total time=   0.0s\n",
            "[CV 2/3] END C=100, penalty=l2, random_state=1234, solver=liblinear;, score=0.998 total time=   0.0s\n",
            "[CV 3/3] END C=100, penalty=l2, random_state=1234, solver=liblinear;, score=1.000 total time=   0.0s\n",
            "[CV 1/3] END C=100, penalty=l2, random_state=1234, solver=saga;, score=1.000 total time=   1.2s\n",
            "[CV 2/3] END C=100, penalty=l2, random_state=1234, solver=saga;, score=0.998 total time=   1.0s\n",
            "[CV 3/3] END C=100, penalty=l2, random_state=1234, solver=saga;, score=1.000 total time=   0.5s\n",
            "[CV 1/3] END C=200, penalty=l1, random_state=1234, solver=liblinear;, score=1.000 total time=   0.0s\n",
            "[CV 2/3] END C=200, penalty=l1, random_state=1234, solver=liblinear;, score=0.998 total time=   0.0s\n",
            "[CV 3/3] END C=200, penalty=l1, random_state=1234, solver=liblinear;, score=1.000 total time=   0.0s\n",
            "[CV 1/3] END C=200, penalty=l1, random_state=1234, solver=saga;, score=1.000 total time=   3.7s\n",
            "[CV 2/3] END C=200, penalty=l1, random_state=1234, solver=saga;, score=0.998 total time=   2.4s\n",
            "[CV 3/3] END C=200, penalty=l1, random_state=1234, solver=saga;, score=1.000 total time=   1.5s\n",
            "[CV 1/3] END C=200, penalty=l2, random_state=1234, solver=liblinear;, score=1.000 total time=   0.0s\n",
            "[CV 2/3] END C=200, penalty=l2, random_state=1234, solver=liblinear;, score=0.998 total time=   0.0s\n",
            "[CV 3/3] END C=200, penalty=l2, random_state=1234, solver=liblinear;, score=1.000 total time=   0.0s\n",
            "[CV 1/3] END C=200, penalty=l2, random_state=1234, solver=saga;, score=1.000 total time=   1.6s\n",
            "[CV 2/3] END C=200, penalty=l2, random_state=1234, solver=saga;, score=0.998 total time=   1.2s\n",
            "[CV 3/3] END C=200, penalty=l2, random_state=1234, solver=saga;, score=1.000 total time=   0.7s\n",
            "Fitting 3 folds for each of 20 candidates, totalling 60 fits\n",
            "[CV 1/3] END C=0.1, penalty=l1, random_state=1234, solver=liblinear;, score=1.000 total time=   0.0s\n",
            "[CV 2/3] END C=0.1, penalty=l1, random_state=1234, solver=liblinear;, score=0.996 total time=   0.0s\n",
            "[CV 3/3] END C=0.1, penalty=l1, random_state=1234, solver=liblinear;, score=1.000 total time=   0.0s\n",
            "[CV 1/3] END C=0.1, penalty=l1, random_state=1234, solver=saga;, score=1.000 total time=   0.2s\n",
            "[CV 2/3] END C=0.1, penalty=l1, random_state=1234, solver=saga;, score=0.996 total time=   0.2s\n",
            "[CV 3/3] END C=0.1, penalty=l1, random_state=1234, solver=saga;, score=1.000 total time=   0.2s\n",
            "[CV 1/3] END C=0.1, penalty=l2, random_state=1234, solver=liblinear;, score=1.000 total time=   0.0s\n",
            "[CV 2/3] END C=0.1, penalty=l2, random_state=1234, solver=liblinear;, score=0.998 total time=   0.0s\n",
            "[CV 3/3] END C=0.1, penalty=l2, random_state=1234, solver=liblinear;, score=1.000 total time=   0.0s\n",
            "[CV 1/3] END C=0.1, penalty=l2, random_state=1234, solver=saga;, score=1.000 total time=   0.1s\n",
            "[CV 2/3] END C=0.1, penalty=l2, random_state=1234, solver=saga;, score=0.998 total time=   0.1s\n",
            "[CV 3/3] END C=0.1, penalty=l2, random_state=1234, solver=saga;, score=1.000 total time=   0.1s\n",
            "[CV 1/3] END C=1, penalty=l1, random_state=1234, solver=liblinear;, score=1.000 total time=   0.0s\n",
            "[CV 2/3] END C=1, penalty=l1, random_state=1234, solver=liblinear;, score=0.998 total time=   0.0s\n",
            "[CV 3/3] END C=1, penalty=l1, random_state=1234, solver=liblinear;, score=1.000 total time=   0.0s\n",
            "[CV 1/3] END C=1, penalty=l1, random_state=1234, solver=saga;, score=1.000 total time=   0.3s\n",
            "[CV 2/3] END C=1, penalty=l1, random_state=1234, solver=saga;, score=0.998 total time=   0.5s\n",
            "[CV 3/3] END C=1, penalty=l1, random_state=1234, solver=saga;, score=1.000 total time=   0.4s\n",
            "[CV 1/3] END C=1, penalty=l2, random_state=1234, solver=liblinear;, score=1.000 total time=   0.0s\n",
            "[CV 2/3] END C=1, penalty=l2, random_state=1234, solver=liblinear;, score=0.998 total time=   0.0s\n",
            "[CV 3/3] END C=1, penalty=l2, random_state=1234, solver=liblinear;, score=1.000 total time=   0.0s\n",
            "[CV 1/3] END C=1, penalty=l2, random_state=1234, solver=saga;, score=1.000 total time=   0.2s\n",
            "[CV 2/3] END C=1, penalty=l2, random_state=1234, solver=saga;, score=0.998 total time=   0.1s\n",
            "[CV 3/3] END C=1, penalty=l2, random_state=1234, solver=saga;, score=1.000 total time=   0.2s\n",
            "[CV 1/3] END C=10, penalty=l1, random_state=1234, solver=liblinear;, score=1.000 total time=   0.0s\n",
            "[CV 2/3] END C=10, penalty=l1, random_state=1234, solver=liblinear;, score=0.998 total time=   0.0s\n",
            "[CV 3/3] END C=10, penalty=l1, random_state=1234, solver=liblinear;, score=1.000 total time=   0.0s\n",
            "[CV 1/3] END C=10, penalty=l1, random_state=1234, solver=saga;, score=1.000 total time=   1.4s\n",
            "[CV 2/3] END C=10, penalty=l1, random_state=1234, solver=saga;, score=0.998 total time=   1.1s\n",
            "[CV 3/3] END C=10, penalty=l1, random_state=1234, solver=saga;, score=1.000 total time=   0.5s\n",
            "[CV 1/3] END C=10, penalty=l2, random_state=1234, solver=liblinear;, score=1.000 total time=   0.0s\n",
            "[CV 2/3] END C=10, penalty=l2, random_state=1234, solver=liblinear;, score=0.998 total time=   0.0s\n",
            "[CV 3/3] END C=10, penalty=l2, random_state=1234, solver=liblinear;, score=1.000 total time=   0.0s\n",
            "[CV 1/3] END C=10, penalty=l2, random_state=1234, solver=saga;, score=1.000 total time=   0.4s\n",
            "[CV 2/3] END C=10, penalty=l2, random_state=1234, solver=saga;, score=0.998 total time=   0.5s\n",
            "[CV 3/3] END C=10, penalty=l2, random_state=1234, solver=saga;, score=1.000 total time=   0.3s\n",
            "[CV 1/3] END C=100, penalty=l1, random_state=1234, solver=liblinear;, score=1.000 total time=   0.0s\n",
            "[CV 2/3] END C=100, penalty=l1, random_state=1234, solver=liblinear;, score=0.998 total time=   0.0s\n",
            "[CV 3/3] END C=100, penalty=l1, random_state=1234, solver=liblinear;, score=1.000 total time=   0.0s\n",
            "[CV 1/3] END C=100, penalty=l1, random_state=1234, solver=saga;, score=1.000 total time=   3.3s\n",
            "[CV 2/3] END C=100, penalty=l1, random_state=1234, solver=saga;, score=0.998 total time=   2.2s\n",
            "[CV 3/3] END C=100, penalty=l1, random_state=1234, solver=saga;, score=1.000 total time=   1.2s\n",
            "[CV 1/3] END C=100, penalty=l2, random_state=1234, solver=liblinear;, score=1.000 total time=   0.0s\n",
            "[CV 2/3] END C=100, penalty=l2, random_state=1234, solver=liblinear;, score=0.998 total time=   0.0s\n",
            "[CV 3/3] END C=100, penalty=l2, random_state=1234, solver=liblinear;, score=1.000 total time=   0.0s\n",
            "[CV 1/3] END C=100, penalty=l2, random_state=1234, solver=saga;, score=1.000 total time=   1.2s\n",
            "[CV 2/3] END C=100, penalty=l2, random_state=1234, solver=saga;, score=0.998 total time=   0.9s\n",
            "[CV 3/3] END C=100, penalty=l2, random_state=1234, solver=saga;, score=1.000 total time=   0.5s\n",
            "[CV 1/3] END C=200, penalty=l1, random_state=1234, solver=liblinear;, score=1.000 total time=   0.0s\n",
            "[CV 2/3] END C=200, penalty=l1, random_state=1234, solver=liblinear;, score=0.998 total time=   0.0s\n",
            "[CV 3/3] END C=200, penalty=l1, random_state=1234, solver=liblinear;, score=1.000 total time=   0.0s\n",
            "[CV 1/3] END C=200, penalty=l1, random_state=1234, solver=saga;, score=1.000 total time=   3.7s\n",
            "[CV 2/3] END C=200, penalty=l1, random_state=1234, solver=saga;, score=0.998 total time=   2.4s\n",
            "[CV 3/3] END C=200, penalty=l1, random_state=1234, solver=saga;, score=1.000 total time=   1.5s\n",
            "[CV 1/3] END C=200, penalty=l2, random_state=1234, solver=liblinear;, score=1.000 total time=   0.0s\n",
            "[CV 2/3] END C=200, penalty=l2, random_state=1234, solver=liblinear;, score=0.998 total time=   0.0s\n",
            "[CV 3/3] END C=200, penalty=l2, random_state=1234, solver=liblinear;, score=1.000 total time=   0.0s\n",
            "[CV 1/3] END C=200, penalty=l2, random_state=1234, solver=saga;, score=1.000 total time=   1.6s\n",
            "[CV 2/3] END C=200, penalty=l2, random_state=1234, solver=saga;, score=0.998 total time=   1.2s\n",
            "[CV 3/3] END C=200, penalty=l2, random_state=1234, solver=saga;, score=1.000 total time=   0.7s\n",
            "Accuracy Score: 0.9996271439224459\n",
            "Precision Score: 0.9948914431673053\n",
            "Recall Score: 0.9974391805377721\n",
            "F1 Score: 0.9961636828644502\n",
            "ROC Score: 0.9979930407460648\n"
          ]
        },
        {
          "name": "stderr",
          "output_type": "stream",
          "text": [
            "/usr/local/lib/python3.7/dist-packages/sklearn/utils/deprecation.py:87: FutureWarning: Function plot_roc_curve is deprecated; Function :func:`plot_roc_curve` is deprecated in 1.0 and will be removed in 1.2. Use one of the class methods: :meth:`sklearn.metric.RocCurveDisplay.from_predictions` or :meth:`sklearn.metric.RocCurveDisplay.from_estimator`.\n",
            "  warnings.warn(msg, category=FutureWarning)\n"
          ]
        },
        {
          "name": "stdout",
          "output_type": "stream",
          "text": [
            "<sklearn.metrics._plot.roc_curve.RocCurveDisplay object at 0x7f71b39361d0>\n"
          ]
        },
        {
          "data": {
            "image/png": "[encoded data removed]",
            "text/plain": [
              "<Figure size 432x288 with 1 Axes>"
            ]
          },
          "metadata": {
            "needs_background": "light"
          },
          "output_type": "display_data"
        }
      ],
      "source": [
        "from sklearn.linear_model import LogisticRegression\n",
        "lg_parameters = {'solver': ['liblinear', 'saga'],\n",
        "                 'penalty': [\"l1\", \"l2\"],\n",
        "                 'C': [0.1, 1, 10, 100, 200],\n",
        "                 'random_state': [1234]}\n",
        "\n",
        "logreg_tune = LogisticRegression(max_iter=5000)\n",
        "lg_tune = GridSearchCV(logreg_tune,\n",
        "                        lg_parameters,\n",
        "                        cv = 3,\n",
        "                        scoring = 'roc_auc',\n",
        "                        verbose = 3)\n",
        "\n",
        "logreg = lg_tune.fit(x_train_bowandtfidf,y_train)\n",
        "\n",
        "#logreg = LogisticRegression(penalty=\"none\", max_iter=5000, random_state=1234)\n",
        "logreg.fit(x_train_bowandtfidf,y_train)\n",
        "ypred = logreg.predict(x_train_bowandtfidf)\n",
        "print('Accuracy Score:', (accuracy_score(y_train, ypred)))\n",
        "print('Precision Score:', (precision_score(y_train, ypred)))\n",
        "print('Recall Score:', (recall_score(y_train,ypred)))\n",
        "print('F1 Score:', (f1_score(y_train, ypred)))\n",
        "\n",
        "y_score = svm.predict_proba(x_train_bowandtfidf)\n",
        "print('ROC Score:', (roc_auc_score(y_train, y_score[:,1])))\n",
        "print(plot_roc_curve(svm, x_train_bowandtfidf, y_train))"
      ]
    },
    {
      "cell_type": "code",
      "execution_count": null,
      "metadata": {
        "colab": {
          "base_uri": "https://localhost:8080/",
          "height": 438
        },
        "id": "N228jtZCN-OB",
        "outputId": "bf6fcdff-c0ae-4ad6-b844-3078b5ac094b"
      },
      "outputs": [
        {
          "name": "stdout",
          "output_type": "stream",
          "text": [
            "Accuracy Score: 0.9871364653243848\n",
            "Precision Score: 0.984375\n",
            "Recall Score: 0.7411764705882353\n",
            "F1 Score: 0.8456375838926175\n",
            "ROC Score: 0.8951711512555697\n",
            "<sklearn.metrics._plot.roc_curve.RocCurveDisplay object at 0x7f71b393cb50>\n"
          ]
        },
        {
          "name": "stderr",
          "output_type": "stream",
          "text": [
            "/usr/local/lib/python3.7/dist-packages/sklearn/utils/deprecation.py:87: FutureWarning: Function plot_roc_curve is deprecated; Function :func:`plot_roc_curve` is deprecated in 1.0 and will be removed in 1.2. Use one of the class methods: :meth:`sklearn.metric.RocCurveDisplay.from_predictions` or :meth:`sklearn.metric.RocCurveDisplay.from_estimator`.\n",
            "  warnings.warn(msg, category=FutureWarning)\n"
          ]
        },
        {
          "data": {
            "image/png": "[encoded data removed]",
            "text/plain": [
              "<Figure size 432x288 with 1 Axes>"
            ]
          },
          "metadata": {
            "needs_background": "light"
          },
          "output_type": "display_data"
        }
      ],
      "source": [
        "ypred_test = logreg.predict(X_test_bowandtfidf)\n",
        "\n",
        "print('Accuracy Score:', (accuracy_score(y_test, ypred_test)))\n",
        "print('Precision Score:', (precision_score(y_test, ypred_test)))\n",
        "print('Recall Score:', (recall_score(y_test,ypred_test)))\n",
        "print('F1 Score:', (f1_score(y_test, ypred_test)))\n",
        "\n",
        "y_score = svm.predict_proba(X_test_bowandtfidf)\n",
        "print('ROC Score:', (roc_auc_score(y_test, y_score[:,1])))\n",
        "print(plot_roc_curve(logreg, X_test_bowandtfidf, y_test))\n"
      ]
    },
    {
      "cell_type": "code",
      "execution_count": null,
      "metadata": {
        "id": "wZICZnZvP__E"
      },
      "outputs": [],
      "source": [
        "# Accuracy Score: 0.9860178970917226\n",
        "# Precision Score: 0.927536231884058\n",
        "# Recall Score: 0.7619047619047619\n",
        "# F1 Score: 0.8366013071895425\n",
        "# ROC Score: 0.9262659289067741"
      ]
    },
    {
      "cell_type": "code",
      "execution_count": null,
      "metadata": {
        "colab": {
          "base_uri": "https://localhost:8080/"
        },
        "id": "hnskR8gmN-S_",
        "outputId": "3ad3d8ed-6610-4274-8491-94af8ad9b609"
      },
      "outputs": [
        {
          "name": "stdout",
          "output_type": "stream",
          "text": [
            "{'C': 200, 'penalty': 'l2', 'random_state': 1234, 'solver': 'liblinear'}\n"
          ]
        }
      ],
      "source": [
        "print(logreg.best_params_)"
      ]
    },
    {
      "cell_type": "markdown",
      "metadata": {
        "id": "jMYPmp7F4R4D"
      },
      "source": [
        "#Conclusion\n",
        "The first level of the Ensemble comprises of 5 BOW matrices fed into the 5"
      ]
    },
    {
      "cell_type": "code",
      "execution_count": null,
      "metadata": {
        "id": "itoXkeS4Fc_f"
      },
      "outputs": [],
      "source": []
    },
    {
      "cell_type": "markdown",
      "metadata": {
        "id": "Spc_FxoyFfSO"
      },
      "source": [
        "# Experiment (old codes)"
      ]
    },
    {
      "cell_type": "code",
      "execution_count": null,
      "metadata": {
        "id": "pACCGqlKF1LJ"
      },
      "outputs": [],
      "source": [
        "#this section was the old code which was used in an attempt to perform the first version of NLP. \n",
        "#import re\n",
        "#import string\n",
        "#import numpy as np\n",
        "#import pandas as pd\n",
        "#import random\n",
        "#import matplotlib.pyplot as plt\n",
        "#import seaborn as sns\n",
        "#from sklearn.feature_extraction.text import TfidfVectorizer, CountVectorizer\n",
        "#from sklearn.model_selection import train_test_split\n",
        "#from sklearn.pipeline import Pipeline\n",
        "#from sklearn.base import TransformerMixin\n",
        "#from sklearn.metrics import accuracy_score, plot_confusion_matrix, #classification_report, confusion_matrix\n",
        "#import spacy\n",
        "#from spacy.lang.en.stop_words import STOP_WORDS\n",
        "#from spacy.lang.en import English\n",
        "\n",
        "#import nltk\n",
        "#nltk.download('omw-1.4')\n",
        "#nltk.download('wordnet')\n",
        "#from nltk.stem import WordNetLemmatizer \n",
        "#from nltk.stem.snowball import SnowballStemmer\n",
        "\n"
      ]
    },
    {
      "cell_type": "code",
      "execution_count": null,
      "metadata": {
        "id": "dp2Ovmn0GAvZ"
      },
      "outputs": [],
      "source": [
        "#from google.colab import drive\n",
        "#drive.mount('/content/drive')\n",
        "#path = \"/content/drive/MyDrive/mystuff/bt4012/\"\n",
        "#df=pd.read_csv(path + 'fake_job_postings.csv')"
      ]
    },
    {
      "cell_type": "code",
      "execution_count": null,
      "metadata": {
        "id": "3WX8HBaHGBeQ"
      },
      "outputs": [],
      "source": [
        "#df.head()"
      ]
    },
    {
      "cell_type": "code",
      "execution_count": null,
      "metadata": {
        "id": "oQSvxffNGLGu"
      },
      "outputs": [],
      "source": [
        "#df.isnull().sum()\n",
        "#Clean up dataset for NLP\n",
        "#df['text']=df['title']+' '+df['company_profile']+' '+df['description']+' '+df['requirements']+' '+df['benefits']\n",
        "#df_nlp0 = df[['text','job_id','fraudulent',]].copy()\n",
        "#verify clean up \n",
        "#print(df_nlp0.head())"
      ]
    },
    {
      "cell_type": "code",
      "execution_count": null,
      "metadata": {
        "id": "vCXZpV7aGTml"
      },
      "outputs": [],
      "source": [
        "#import spacy\n",
        "#from spacy.lang.en.stop_words import STOP_WORDS\n",
        "#from spacy.lang.en import English\n",
        "#stop_words = spacy.lang.en.stop_words.STOP_WORDS\n",
        "#punctuation = string.punctuation\n",
        "\n",
        "#def spacy_tokenizer(sentence):\n",
        "#    tokens = English(sentence)\n",
        "#    tokens = [ word.lemma_.lower().strip() \n",
        "#              if word.lemma_ != \"-PRON-\" \n",
        "#              else word.lower_ for word in tokens]\n",
        "#    tokens = [ word for word in tokens \n",
        "#              if word not in stop_words and word not in punctuation]\n",
        "#    return tokens\n",
        "    \n",
        "#def clean_text(text):\n",
        "#    return text.strip().lower()\n",
        "\n",
        "#df_nlp0['text'] = df_nlp0['text'].apply(clean_text)\n",
        "#df_nlp0.head()"
      ]
    },
    {
      "cell_type": "code",
      "execution_count": null,
      "metadata": {
        "id": "vdQXYMUdGdhX"
      },
      "outputs": [],
      "source": [
        "#from sklearn.model_selection import train_test_split\n",
        "#from sklearn.feature_extraction.text import TfidfVectorizer, CountVectorizer\n",
        "#tf = TfidfVectorizer(max_features = 150)\n",
        "#t = tf.fit_transform(df_nlp0['text'])\n",
        "#df_nlp2 = pd.DataFrame(t.toarray(), columns=tf.get_feature_names_out())\n",
        "#df_nlp0.drop(['text'], axis=1, inplace=True)\n",
        "#df_nlp_t = pd.concat([df_nlp2,df_nlp0], axis=1)\n",
        "#df_nlp_t.head()"
      ]
    },
    {
      "cell_type": "code",
      "execution_count": null,
      "metadata": {
        "id": "aAdgMhpjGsXy"
      },
      "outputs": [],
      "source": [
        "#Y = df_nlp_t.iloc[:,-1]\n",
        "#X = df_nlp_t.iloc[:,:-1]\n",
        "\n",
        "#X_train, X_test, y_train, y_test = train_test_split(X,Y, test_size=0.4, random_state=1)\n",
        "#X_test, X_val, y_test, y_val = train_test_split(X_test,Y_test,test_size=0.5, random_state=42) \n",
        "\n",
        "#print(\"X_train\",X_train.shape)\n",
        "#print(\"y_Train:\",y_train.shape)\n",
        "#print(\"X_Test\",X_test.shape)\n",
        "#print(\"y_test:\",y_test.shape)\n",
        "# print(\"X_val\",X_val.shape)\n",
        "# print(\"y_val\", y_val.shape)"
      ]
    },
    {
      "cell_type": "code",
      "execution_count": null,
      "metadata": {
        "id": "hW-5QDURGzZ_"
      },
      "outputs": [],
      "source": [
        "#Log regress\n",
        "#from sklearn.linear_model import LogisticRegression\n",
        "\n",
        "#LR = LogisticRegression(C=5e1, solver='lbfgs',multi_class='multinomial', random_state=17, n_jobs=4)\n",
        "#LR_model=LR.fit(X_train, y_train)\n",
        "#LR_pred_test = LR_model.predict(X_test)\n",
        "# LR_pred_val = LR_model.predict(X_val)\n",
        "#LR_score_test = accuracy_score(y_test, LR_pred_test)\n",
        "# LR_score_val = accuracy_score(y_val, LR_pred_val)\n",
        "#LR_cr_report_test = classification_report(y_test,LR_pred_test)\n",
        "# LR_cr_report_val = classification_report(y_val,LR_pred_val)\n",
        "#LR_cf_matrix_test = confusion_matrix(y_test, LR_pred_test)\n",
        "# LR_cf_matrix_val = confusion_matrix(y_val, LR_pred_val)\n",
        "#print(\"LR Score - Test set:\",LR_score_test)\n",
        "#print(\"LR Score - Validation set:\",LR_score_val)\n",
        "#print(\"Classification Report - Test set\\n\")\n",
        "#print(LR_cr_report_test)\n",
        "# print(\"Classification Report - Validation set\\n\")\n",
        "# print(LR_cr_report_val)\n",
        "#print(\"Confusion Matrix - test set\\n\")\n",
        "#print(LR_cf_matrix_test)\n",
        "# print(\"Confusion Matrix - Validation set\\n\")\n",
        "# print(LR_cf_matrix_val)"
      ]
    },
    {
      "cell_type": "code",
      "execution_count": null,
      "metadata": {
        "id": "K-NphAHeG5FU"
      },
      "outputs": [],
      "source": [
        "#RFC \n",
        "#from sklearn.ensemble import RandomForestClassifier\n",
        "#rfc= RandomForestClassifier(n_jobs=3,oob_score=True, criterion=\"gini\")\n",
        "#rfc_model=rfc.fit(X_train,y_train)\n",
        "#rfc_pred_test = rfc_model.predict(X_test)\n",
        "#rfc_pred_val = rfc_model.predict(X_val)\n",
        "#rfc_score_test = accuracy_score(y_test, rfc_pred_test)\n",
        "#rfc_score_val = accuracy_score(y_val,rfc_pred_val)\n",
        "#rfc_cr_report_test=classification_report(y_test,rfc_pred_test)\n",
        "#rfc_cr_report_val=classification_report(y_val,rfc_pred_val)\n",
        "#rfc_cf_matrix_test = confusion_matrix(y_test, rfc_pred_test)\n",
        "#rfc_cf_matrix_val = confusion_matrix(y_val,rfc_pred_val)"
      ]
    },
    {
      "cell_type": "code",
      "execution_count": null,
      "metadata": {
        "id": "JDr4AGktG91Y"
      },
      "outputs": [],
      "source": [
        "#print(\"Score - Test set:\",rfc_score_test)\n",
        "#print(\"Score - Validation set:\",rfc_score_val)\n",
        "#print(\"Classification Report - Test set\\n\")\n",
        "#print(rfc_cr_report_test)\n",
        "# print(\"Classification Report - Validation set\\n\")\n",
        "# print(rfc_cr_report_val)\n",
        "#print(\"Confusion Matrix - test set\\n\")\n",
        "#print(rfc_cf_matrix_test)\n",
        "# print(\"Confusion Matrix - Validation set\\n\")\n",
        "# print(rfc_cf_matrix_val)"
      ]
    },
    {
      "cell_type": "code",
      "execution_count": null,
      "metadata": {
        "id": "HjDxUuYhHCxN"
      },
      "outputs": [],
      "source": [
        " #group_names = [\"True Neg\",\"False Pos\", \"False Neg\", \"True Pos\"]\n",
        "#group_counts_test = [\"{0:0.0f}\".format(value) for value in rfc_cf_matrix_test.flatten()]\n",
        "#group_counts_val = [\"{0:0.0f}\".format(value) for value in rfc_cf_matrix_val.flatten()]\n",
        "#group_percentages_test = [\"{0:.2%}\".format(value) for value in\n",
        "                      #rfc_cf_matrix_test.flatten()/np.sum(rfc_cf_matrix_test)]\n",
        "#group_percentages_val = [\"{0:.2%}\".format(value) for value in\n",
        "                      #rfc_cf_matrix_val.flatten()/np.sum(rfc_cf_matrix_val)]\n",
        "#labels_test = [f'{v1}\\n{v2}\\n{v3}' for v1, v2, v3 in zip(group_names,group_counts_test,group_percentages_test)]\n",
        "#labels_val = [f'{v1}\\n{v2}\\n{v3}' for v1, v2, v3 in\n",
        "          #zip(group_names,group_counts_val,group_percentages_val)]\n",
        "#labels_test = np.asarray(labels_test).reshape(2,2)\n",
        "#labels_val = np.asarray(labels_val).reshape(2,2)\n",
        "#plt.figure(figsize=(15,5))\n",
        "#plt.subplot(1,2,1)\n",
        "#plt.title(\"Confusion Matrix - Test set\")\n",
        "#sns.heatmap(rfc_cf_matrix_test, annot=labels_test,fmt='', cmap='Greens')\n",
        "#plt.subplot(1,2,2)\n",
        "# plt.title(\"Confusion Matrix - Validation Set\")\n",
        "# sns.heatmap(rfc_cf_matrix_val, annot=labels_val,fmt='', cmap='coolwarm_r')\n",
        "# plt.show()"
      ]
    },
    {
      "cell_type": "code",
      "execution_count": null,
      "metadata": {
        "id": "HJ_Bn1r5HH9H"
      },
      "outputs": [],
      "source": [
        "#Hype parameter tuning RFC\n",
        "#RFC_acc = 0\n",
        "#for criterion in ['gini', 'entropy']:\n",
        "#  for n_jobs in [ 1, 2 , 3 , 4]:\n",
        "#    for oob_score in ['True' , 'False']:\n",
        "#       RFC_model_hp = RandomForestClassifier(criterion=criterion, n_jobs=n_jobs,oob_score=oob_score)\n",
        "#       RFC_model_hp.fit(X_train, y_train)\n",
        "#       RFC_test_predictions = RFC_model_hp.predict(X_test)\n",
        "#       test_rfc = accuracy_score(y_test, RFC_test_predictions)\n",
        "#       test_rfc_cr=classification_report(y_test,RFC_test_predictions)\n",
        "#       if test_rfc > RFC_acc:\n",
        "#         RFC_parameters = f\"n_jobs:{n_jobs}, criterion:{criterion}, oob_score:{oob_score}\"\n",
        "#         RFC_acc = test_rfc"
      ]
    },
    {
      "cell_type": "code",
      "execution_count": null,
      "metadata": {
        "id": "vmLQkmb5HPE1"
      },
      "outputs": [],
      "source": [
        "#print(RFC_parameters)\n",
        "#print(\"HyperParameter tuning score (test set):\",RFC_acc ,\"\\nExisting Model score (test set) :\", rfc_score_test )\n",
        "#print(\"Classification report\\n \", test_rfc_cr )"
      ]
    },
    {
      "cell_type": "code",
      "execution_count": null,
      "metadata": {
        "id": "KfXg9gZDHRbb"
      },
      "outputs": [],
      "source": [
        "#Decision Tree \n",
        "#DecisionTreeClassifier\n",
        "#from sklearn.tree import DecisionTreeClassifier\n",
        "#DT_class = DecisionTreeClassifier(criterion='entropy',random_state=0,max_depth=10)\n",
        "#DT_class = DT_class.fit(X_train,y_train)\n",
        "#DT_pred_test = DT_class.predict(X_test)\n",
        "#DT_pred_val = DT_class.predict(X_val)\n",
        "#DT_score_test = accuracy_score(y_test, DT_pred_test)\n",
        "#DT_score_val = accuracy_score(y_val,DT_pred_val)\n",
        "#DT_cr_report_test=classification_report(y_test,DT_pred_test)\n",
        "#DT_cr_report_val=classification_report(y_val,DT_pred_val)\n",
        "#DT_cf_matrix_test = confusion_matrix(y_test, DT_pred_test)\n",
        "#DT_cf_matrix_val = confusion_matrix(y_val,DT_pred_val)\n",
        "#print(\"DT Score - Test set:\",DT_score_test)\n",
        "#print(\"DT Score - Validation set:\",DT_score_val)\n",
        "#print(\"Classification Report - Test set\\n\")\n",
        "#print(DT_cr_report_test)\n",
        "# print(\"Classification Report - Validation set\\n\")\n",
        "# print(DT_cr_report_val)\n",
        "#print(\"Confusion Matrix - test set\\n\")\n",
        "#print(DT_cf_matrix_test)\n",
        "# print(\"Confusion Matrix - Validation set\\n\")\n",
        "# print(DT_cf_matrix_val)"
      ]
    },
    {
      "cell_type": "code",
      "execution_count": null,
      "metadata": {
        "id": "mZH7SEnOHXHq"
      },
      "outputs": [],
      "source": [
        "#DTC_acc = 0 \n",
        "\n",
        "#for criterion in ['gini', 'entropy']:\n",
        "#  for max_depth in [7,8,9,10]:\n",
        "#    for min_samples_leaf in [5,10,20,30]:\n",
        "#      DTC_model_hp = DecisionTreeClassifier(max_depth=max_depth, criterion=criterion, min_samples_leaf=min_samples_leaf)\n",
        "#      DTC_model_hp.fit(X_train, y_train)\n",
        "#      DTC_test_predictions = DTC_model_hp.predict(X_test)\n",
        "#      test_dtc = accuracy_score(y_test, DTC_test_predictions)\n",
        "#      test_dtc_cr=classification_report(y_test,DTC_test_predictions)\n",
        "#      if test_dtc > DTC_acc:\n",
        "#        DTC_parameters = f\"criterion:{criterion}, max_depth:{max_depth},min_samples_leaf:{min_samples_leaf}\"\n",
        "#        DTC_acc = test_dtc"
      ]
    },
    {
      "cell_type": "code",
      "execution_count": null,
      "metadata": {
        "id": "SPaIrQ_rHdjI"
      },
      "outputs": [],
      "source": [
        "#print(DTC_parameters)\n",
        "#print(\"HyperParameter tuning score (test set):\",DTC_acc ,\"\\nExisting Model score (test set) :\", DT_score_test )\n",
        "#print(\"Classification report\\n \", test_dtc_cr )"
      ]
    },
    {
      "cell_type": "code",
      "execution_count": null,
      "metadata": {
        "id": "8EacqrQ0Hgoi"
      },
      "outputs": [],
      "source": [
        "#from sklearn.naive_bayes import MultinomialNB\n",
        "#nb_clf = MultinomialNB()\n",
        "#nb_clf.fit(X_train,y_train)\n",
        "#y_trainpred = nb_clf.predict(X_train) #evaluate model on training\n",
        "#y_testpred = nb_clf.predict(X_test) #evaluate on test"
      ]
    },
    {
      "cell_type": "code",
      "execution_count": null,
      "metadata": {
        "id": "ROHe0RIlHmYQ"
      },
      "outputs": [],
      "source": [
        "#nb_pred = nb_clf.predict(X_test)\n",
        "#nb_score = accuracy_score(y_test, nb_pred)\n",
        "#print(nb_score)"
      ]
    },
    {
      "cell_type": "code",
      "execution_count": null,
      "metadata": {
        "id": "HPxWLdAeHqMY"
      },
      "outputs": [],
      "source": [
        "#print(\"Classification Report\\n\")\n",
        "#print(classification_report(y_test,nb_pred))\n",
        "#print(\"Confusion Matrix\\n\")\n",
        "#print(confusion_matrix(y_test, nb_pred))"
      ]
    },
    {
      "cell_type": "code",
      "execution_count": null,
      "metadata": {
        "id": "hbeefd4VHtWP"
      },
      "outputs": [],
      "source": [
        "#from sklearn.metrics import accuracy_score, precision_score, recall_score, f1_score, roc_auc_score, confusion_matrix, plot_roc_curve,roc_curve\n",
        "#print(\"===================Logistic Regression================\\n\")\n",
        "#print(\"LogReg Accuracy Score :\", (accuracy_score(y_test,LR_pred_test)))\n",
        "#print(\"LogReg Precision Score :\", (precision_score(y_test,LR_pred_test)))\n",
        "#print(\"LogReg Recall Score :\", (recall_score(y_test,LR_pred_test)))\n",
        "#print(\"LogReg F1 Score :\", (f1_score(y_test,LR_pred_test)))\n",
        "#print(\"LogReg ROC/AUC Score :\", (roc_auc_score(y_test,LR_pred_test)))\n",
        "#print(\"======================RFC=============================\\n\")\n",
        "#print(\"RFC Acccuracy Score : \", (accuracy_score(y_test,rfc_pred_test)))\n",
        "#print(\"RFC Precision Score : \", (precision_score(y_test, rfc_pred_test)))\n",
        "#print(\"RFC Recall Score : \", (recall_score(y_test, rfc_pred_test)))\n",
        "#print(\"RFC F1 Score : \", (f1_score(y_test, rfc_pred_test)))\n",
        "#print(\"RFC ROC/AUC Score : \", (roc_auc_score(y_test, rfc_pred_test)))\n",
        "#print(\"===================Decision Tree=====================\\n\")\n",
        "#print(\"DTree Accuracy Score : \", (accuracy_score(y_test, DT_pred_test)))\n",
        "#print(\"DTree Precision Score : \", (precision_score(y_test, DT_pred_test)))\n",
        "#print(\"DTree Recall Score : \", (recall_score(y_test, DT_pred_test)))\n",
        "#print(\"DTree F1 Score : \", (f1_score(y_test, DT_pred_test)))\n",
        "#print(\"DTree ROC/AUC Score : \", (roc_auc_score(y_test, DT_pred_test)))\n",
        "#print(\"===================Naive Bayes=====================\\n\")\n",
        "#print(\"NB Accuracy Score : \", (accuracy_score(y_test, nb_pred)))\n",
        "#print(\"NB Precision Score : \", (precision_score(y_test, nb_pred)))\n",
        "#print(\"NB Recall Score : \", (recall_score(y_test, nb_pred)))\n",
        "#print(\"NB F1 Score : \", (f1_score(y_test, nb_pred)))"
      ]
    },
    {
      "cell_type": "markdown",
      "metadata": {
        "id": "qk8kMGirfGzo"
      },
      "source": [
        "\n"
      ]
    },
    {
      "cell_type": "markdown",
      "metadata": {
        "id": "3mrmWk0ofG2I"
      },
      "source": []
    },
    {
      "cell_type": "markdown",
      "metadata": {
        "id": "coSGWudqfG4w"
      },
      "source": []
    },
    {
      "cell_type": "markdown",
      "metadata": {
        "id": "T09V-nW_fG8B"
      },
      "source": []
    }
  ],
  "metadata": {
    "colab": {
      "provenance": [],
      "toc_visible": true
    },
    "kernelspec": {
      "display_name": "Python 3.10.1 64-bit",
      "language": "python",
      "name": "python3"
    },
    "language_info": {
      "name": "python",
      "version": "3.10.1"
    },
    "vscode": {
      "interpreter": {
        "hash": "2a78d80ae01c5bff69a96dcc1c54adfab24df5a769db2b5f1c4cbd7d56bb9eda"
      }
    }
  },
  "nbformat": 4,
  "nbformat_minor": 0
}
